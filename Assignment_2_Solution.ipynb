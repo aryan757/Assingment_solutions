{
 "cells": [
  {
   "cell_type": "markdown",
   "id": "de313798",
   "metadata": {},
   "source": [
    "# 1.What are the two values of the Boolean data type? How do you write them?"
   ]
  },
  {
   "cell_type": "code",
   "execution_count": 2,
   "id": "08803301",
   "metadata": {},
   "outputs": [],
   "source": [
    "The very 2 type of boolean type which mostly use in Programming language is EITHER Numeric ( represented as 0 or 1) or Alphabetic representation (TRUE or FALSE ) "
   ]
  },
  {
   "cell_type": "markdown",
   "id": "ee3ff958",
   "metadata": {},
   "source": [
    "# 2. What are the three different types of Boolean operators?"
   ]
  },
  {
   "cell_type": "code",
   "execution_count": null,
   "id": "4ac2ba24",
   "metadata": {},
   "outputs": [],
   "source": [
    " 1 . AND searches find all of the search terms. For example, searching on dengue AND malaria AND zika returns only results that contain all three search terms. ...\n",
    " 2 .OR searches find one term or the other. ...\n",
    " 3 .NOT eliminates items that contain the specified term."
   ]
  },
  {
   "cell_type": "markdown",
   "id": "9aead99c",
   "metadata": {},
   "source": [
    "# 3. Make a list of each Boolean operator's truth tables (i.e. every possible combination of Boolean values for the operator and what it evaluate )."
   ]
  },
  {
   "cell_type": "code",
   "execution_count": null,
   "id": "5613cb63",
   "metadata": {},
   "outputs": [],
   "source": []
  },
  {
   "cell_type": "markdown",
   "id": "68257b6c",
   "metadata": {},
   "source": [
    "# 4. What are the values of the following expressions?\n",
    "(5 > 4) and (3 == 5)\n",
    "not (5 > 4)\n",
    "(5 > 4) or (3 == 5)\n",
    "not ((5 > 4) or (3 == 5))\n",
    "(True and True) and (True == False)\n",
    "(not False) or (not True)\n"
   ]
  },
  {
   "cell_type": "code",
   "execution_count": 3,
   "id": "0ac2f0c3",
   "metadata": {},
   "outputs": [
    {
     "data": {
      "text/plain": [
       "False"
      ]
     },
     "execution_count": 3,
     "metadata": {},
     "output_type": "execute_result"
    }
   ],
   "source": [
    "(5 > 4) and (3 == 5)"
   ]
  },
  {
   "cell_type": "code",
   "execution_count": 4,
   "id": "2f70e85b",
   "metadata": {},
   "outputs": [
    {
     "data": {
      "text/plain": [
       "False"
      ]
     },
     "execution_count": 4,
     "metadata": {},
     "output_type": "execute_result"
    }
   ],
   "source": [
    "not (5 > 4)"
   ]
  },
  {
   "cell_type": "code",
   "execution_count": 5,
   "id": "0dd40933",
   "metadata": {},
   "outputs": [
    {
     "data": {
      "text/plain": [
       "True"
      ]
     },
     "execution_count": 5,
     "metadata": {},
     "output_type": "execute_result"
    }
   ],
   "source": [
    "(5 > 4) or (3 == 5)"
   ]
  },
  {
   "cell_type": "code",
   "execution_count": 6,
   "id": "2a73a7e9",
   "metadata": {},
   "outputs": [
    {
     "data": {
      "text/plain": [
       "False"
      ]
     },
     "execution_count": 6,
     "metadata": {},
     "output_type": "execute_result"
    }
   ],
   "source": [
    "not ((5 > 4) or (3 == 5))"
   ]
  },
  {
   "cell_type": "code",
   "execution_count": 7,
   "id": "06231ff0",
   "metadata": {},
   "outputs": [
    {
     "data": {
      "text/plain": [
       "False"
      ]
     },
     "execution_count": 7,
     "metadata": {},
     "output_type": "execute_result"
    }
   ],
   "source": [
    "(True and True) and (True == False)"
   ]
  },
  {
   "cell_type": "code",
   "execution_count": 8,
   "id": "2aafa635",
   "metadata": {},
   "outputs": [
    {
     "data": {
      "text/plain": [
       "True"
      ]
     },
     "execution_count": 8,
     "metadata": {},
     "output_type": "execute_result"
    }
   ],
   "source": [
    "(not False) or (not True)"
   ]
  },
  {
   "cell_type": "markdown",
   "id": "03f6ef6f",
   "metadata": {},
   "source": [
    "# 5. What are the six comparison operators?"
   ]
  },
  {
   "cell_type": "code",
   "execution_count": null,
   "id": "75264e90",
   "metadata": {},
   "outputs": [],
   "source": [
    "1 . > Greater than\n",
    "2 . < Less than\n",
    "3 . == Equal to\n",
    "4 . != Not equal to\n",
    "5 . >= Greater than or equal to\n",
    "6 . <= Less than or equal to"
   ]
  },
  {
   "cell_type": "markdown",
   "id": "9a481fb9",
   "metadata": {},
   "source": [
    "# 6. How do you tell the difference between the equal to and assignment operators?Describe a condition and when you would use one."
   ]
  },
  {
   "cell_type": "code",
   "execution_count": null,
   "id": "3b167f25",
   "metadata": {},
   "outputs": [],
   "source": [
    "Equal to operator is a comparision operator \" == \" which is used to compare Two boolean values !\n",
    " whereas , assidnment operator is is represented by \" = \" which is used to assign some value inside the variable defined !"
   ]
  },
  {
   "cell_type": "code",
   "execution_count": 9,
   "id": "d8282e2e",
   "metadata": {},
   "outputs": [
    {
     "data": {
      "text/plain": [
       "False"
      ]
     },
     "execution_count": 9,
     "metadata": {},
     "output_type": "execute_result"
    }
   ],
   "source": [
    " 2 == 4 ( equal to opearator)"
   ]
  },
  {
   "cell_type": "code",
   "execution_count": 10,
   "id": "5586869b",
   "metadata": {},
   "outputs": [],
   "source": [
    "x = 4  ( Assignment opeartor)"
   ]
  },
  {
   "cell_type": "code",
   "execution_count": 11,
   "id": "d43e64ad",
   "metadata": {},
   "outputs": [
    {
     "data": {
      "text/plain": [
       "4"
      ]
     },
     "execution_count": 11,
     "metadata": {},
     "output_type": "execute_result"
    }
   ],
   "source": [
    "x"
   ]
  },
  {
   "cell_type": "markdown",
   "id": "add61ecf",
   "metadata": {},
   "source": [
    "# 7. Identify the three blocks in this code:"
   ]
  },
  {
   "cell_type": "code",
   "execution_count": null,
   "id": "ba1d7ea2",
   "metadata": {},
   "outputs": [],
   "source": [
    "spam = 0\n",
    "if spam == 10:\n",
    "print('eggs') \n",
    "if spam > 5:\n",
    "print('bacon')\n",
    "else:\n",
    "print('ham')\n",
    "print('spam')\n",
    "print('spam')\n"
   ]
  },
  {
   "cell_type": "code",
   "execution_count": null,
   "id": "d6556ed1",
   "metadata": {},
   "outputs": [],
   "source": [
    "spam = 0\n",
    "if spam == 10:\n",
    "    print('eggs')        # indent increased, block A\n",
    "    if spam > 5:         # still block A\n",
    "        print('bacon')   # still block A, indent increased, block B inside block A\n",
    "    else:                # still block A, indent decreased, block B ended in line above\n",
    "        print('ham')     # still block A, indent increased, block C inside block A\n",
    "    print('spam')        # still block A, indent decreased, block C ended in line above\n",
    "print('spam')            # indent decreased, block A ended in line above"
   ]
  },
  {
   "cell_type": "markdown",
   "id": "122c4d1b",
   "metadata": {},
   "source": [
    "# 8. Write code that prints Hello if 1 is stored in spam, prints Howdy if 2 is stored in spam, and prints Greetings! if anything else is stored in spam."
   ]
  },
  {
   "cell_type": "code",
   "execution_count": 13,
   "id": "a04d2086",
   "metadata": {},
   "outputs": [
    {
     "name": "stdout",
     "output_type": "stream",
     "text": [
      "enter the input 2\n",
      "Howdy\n"
     ]
    }
   ],
   "source": [
    "spam = int(input(\"enter the input \"))\n",
    "if spam == 1 :\n",
    "    print (\"Hello\")\n",
    "elif spam == 2 :\n",
    "    print (\"Howdy\")\n",
    "else :\n",
    "    print(\"Greetings\")"
   ]
  },
  {
   "cell_type": "markdown",
   "id": "ba3032f9",
   "metadata": {},
   "source": [
    "# 9.If your programme is stuck in an endless loop, what keys you’ll press?"
   ]
  },
  {
   "cell_type": "code",
   "execution_count": null,
   "id": "78b1f0ec",
   "metadata": {},
   "outputs": [],
   "source": [
    "An infinite loop occurs when a program keeps executing within one loop, never leaving it. To exit out of infinite loops on the command line, press CTRL + C "
   ]
  },
  {
   "cell_type": "markdown",
   "id": "5bf0624b",
   "metadata": {},
   "source": [
    "# 10. How can you tell the difference between break and continue?"
   ]
  },
  {
   "cell_type": "code",
   "execution_count": null,
   "id": "f04482a7",
   "metadata": {},
   "outputs": [],
   "source": [
    "Break is a keyword makes the pointer comes out of the programe ,  \n",
    "Whereas , Continue is a keyword which makes the pointer to continue inside the loop . The below example will explain it more clearly !"
   ]
  },
  {
   "cell_type": "code",
   "execution_count": 14,
   "id": "3e739ff6",
   "metadata": {},
   "outputs": [
    {
     "name": "stdout",
     "output_type": "stream",
     "text": [
      "True \n",
      "True \n",
      "True \n",
      "True \n",
      "True \n",
      "True \n",
      "True \n",
      "True \n",
      "True \n",
      "True \n"
     ]
    }
   ],
   "source": [
    "for i in range(20):\n",
    "    if i % 2 == 0 :\n",
    "        print(\"True \")\n",
    "    else :\n",
    "        continue   ## here using continue makes the pointer shift to inside loop itself !"
   ]
  },
  {
   "cell_type": "code",
   "execution_count": 15,
   "id": "54209c34",
   "metadata": {},
   "outputs": [
    {
     "name": "stdout",
     "output_type": "stream",
     "text": [
      "True \n"
     ]
    }
   ],
   "source": [
    "for i in range(20):\n",
    "    if i % 2 == 0 :\n",
    "        print(\"True \")\n",
    "        break # here the pointer comes and see the break statement and directly ends the execution and comes out of the programme \n",
    "    else :\n",
    "        continue"
   ]
  },
  {
   "cell_type": "markdown",
   "id": "e67696d3",
   "metadata": {},
   "source": [
    "# 11. In a for loop, what is the difference between range(10), range(0, 10), and range(0, 10, 1)?"
   ]
  },
  {
   "cell_type": "code",
   "execution_count": 16,
   "id": "a97fd366",
   "metadata": {},
   "outputs": [
    {
     "name": "stdout",
     "output_type": "stream",
     "text": [
      "0\n",
      "1\n",
      "2\n",
      "3\n",
      "4\n",
      "5\n",
      "6\n",
      "7\n",
      "8\n",
      "9\n"
     ]
    }
   ],
   "source": [
    "for i in range(10): ## here it contains the set of number ranging from by default 0 to 9\n",
    "    print(i)"
   ]
  },
  {
   "cell_type": "raw",
   "id": "c9ff68df",
   "metadata": {},
   "source": []
  },
  {
   "cell_type": "code",
   "execution_count": 17,
   "id": "d5214abc",
   "metadata": {},
   "outputs": [
    {
     "name": "stdout",
     "output_type": "stream",
     "text": [
      "0\n",
      "1\n",
      "2\n",
      "3\n",
      "4\n",
      "5\n",
      "6\n",
      "7\n",
      "8\n",
      "9\n"
     ]
    }
   ],
   "source": [
    "for i in range(0,10): ## here we explicitly defined the range , ranging from 0 to 9\n",
    "    print(i)"
   ]
  },
  {
   "cell_type": "code",
   "execution_count": 18,
   "id": "235fcb27",
   "metadata": {},
   "outputs": [
    {
     "name": "stdout",
     "output_type": "stream",
     "text": [
      "0\n",
      "1\n",
      "2\n",
      "3\n",
      "4\n",
      "5\n",
      "6\n",
      "7\n",
      "8\n",
      "9\n"
     ]
    }
   ],
   "source": [
    "for i in range(0,10,1): ## here '1' is representing the number of steps it needs to jump in between 2 numbers\n",
    "    print(i)"
   ]
  },
  {
   "cell_type": "markdown",
   "id": "917a8a96",
   "metadata": {},
   "source": [
    "# 12. Write a short program that prints the numbers 1 to 10 using a for loop. Then write an equivalent program that prints the numbers 1 to 10 using a while loop."
   ]
  },
  {
   "cell_type": "code",
   "execution_count": 20,
   "id": "6c1aab0d",
   "metadata": {},
   "outputs": [
    {
     "name": "stdout",
     "output_type": "stream",
     "text": [
      "1\n",
      "2\n",
      "3\n",
      "4\n",
      "5\n",
      "6\n",
      "7\n",
      "8\n",
      "9\n",
      "10\n"
     ]
    }
   ],
   "source": [
    "for i in range(1,11) :\n",
    "    print(i)"
   ]
  },
  {
   "cell_type": "code",
   "execution_count": 24,
   "id": "99a16c4f",
   "metadata": {},
   "outputs": [
    {
     "name": "stdout",
     "output_type": "stream",
     "text": [
      "1\n",
      "2\n",
      "3\n",
      "4\n",
      "5\n",
      "6\n",
      "7\n",
      "8\n",
      "9\n",
      "10\n"
     ]
    }
   ],
   "source": [
    "i=1\n",
    "while i < 11 :\n",
    "    print(i)\n",
    "    i = i +1\n",
    "    \n",
    "    "
   ]
  },
  {
   "cell_type": "markdown",
   "id": "998f34f5",
   "metadata": {},
   "source": [
    "# 13. If you had a function named bacon() inside a module named spam, how would you call it after importing spam?\n",
    "\n"
   ]
  },
  {
   "cell_type": "code",
   "execution_count": null,
   "id": "15065f3a",
   "metadata": {},
   "outputs": [],
   "source": [
    "import spam \n",
    "spam.bacan()"
   ]
  }
 ],
 "metadata": {
  "kernelspec": {
   "display_name": "Python 3 (ipykernel)",
   "language": "python",
   "name": "python3"
  },
  "language_info": {
   "codemirror_mode": {
    "name": "ipython",
    "version": 3
   },
   "file_extension": ".py",
   "mimetype": "text/x-python",
   "name": "python",
   "nbconvert_exporter": "python",
   "pygments_lexer": "ipython3",
   "version": "3.9.12"
  }
 },
 "nbformat": 4,
 "nbformat_minor": 5
}
