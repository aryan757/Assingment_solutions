{
 "cells": [
  {
   "cell_type": "markdown",
   "id": "47ccc9c1",
   "metadata": {},
   "source": [
    "Question1.\n",
    "\n",
    "Write a function that stutters a word as if someone is struggling to read it. The first two letters are repeated twice with an ellipsis ... and space after each, and then the word is pronounced with a question mark ?.\n",
    "Examples\n",
    "stutter(\"incredible\") ➞ \"in... in... incredible?\"\n",
    "\n",
    "stutter(\"enthusiastic\") ➞ \"en... en... enthusiastic?\"\n",
    "\n",
    "stutter(\"outstanding\") ➞ \"ou... ou... outstanding?\"\n"
   ]
  },
  {
   "cell_type": "code",
   "execution_count": 1,
   "id": "af33618e",
   "metadata": {},
   "outputs": [],
   "source": [
    "def stutter(string):\n",
    "    return string[0:2] + \"...\" + string[0:2] +\"...\" +string+\"?\""
   ]
  },
  {
   "cell_type": "code",
   "execution_count": 2,
   "id": "c0e6b314",
   "metadata": {},
   "outputs": [
    {
     "data": {
      "text/plain": [
       "'in...in...incredible?'"
      ]
     },
     "execution_count": 2,
     "metadata": {},
     "output_type": "execute_result"
    }
   ],
   "source": [
    "stutter(\"incredible\")"
   ]
  },
  {
   "cell_type": "code",
   "execution_count": 4,
   "id": "e20f5d91",
   "metadata": {},
   "outputs": [
    {
     "data": {
      "text/plain": [
       "'en...en...enthusiastic?'"
      ]
     },
     "execution_count": 4,
     "metadata": {},
     "output_type": "execute_result"
    }
   ],
   "source": [
    "stutter(\"enthusiastic\")"
   ]
  },
  {
   "cell_type": "code",
   "execution_count": null,
   "id": "4d0fa8eb",
   "metadata": {},
   "outputs": [],
   "source": []
  },
  {
   "cell_type": "markdown",
   "id": "5e9d8a53",
   "metadata": {},
   "source": [
    "Question 2.\n",
    "\n",
    "\n",
    "Create a function that takes an angle in radians and returns the corresponding angle in degrees rounded to one decimal place.\n",
    "Examples\n",
    "radians_to_degrees(1) ➞ 57.3\n",
    "\n",
    "radians_to_degrees(20) ➞ 1145.9\n",
    "\n",
    "radians_to_degrees(50) ➞ 2864.8\n"
   ]
  },
  {
   "cell_type": "code",
   "execution_count": 5,
   "id": "e7c555fe",
   "metadata": {},
   "outputs": [
    {
     "name": "stdout",
     "output_type": "stream",
     "text": [
      "degree = 286.4791395439889\n"
     ]
    }
   ],
   "source": [
    " #Python code to convert radian to degree\n",
    " \n",
    "# Function for conversion\n",
    "def radian_to_degrees(radian):\n",
    "    pi = 3.14159\n",
    "    # Simply used the formula\n",
    "    degree = radian * (180/pi)\n",
    "    return degree\n",
    " \n",
    "# Driver Code\n",
    "radian = 5\n",
    "print(\"degree =\",(radian_to_degrees(radian)))"
   ]
  },
  {
   "cell_type": "code",
   "execution_count": null,
   "id": "fbc51c2e",
   "metadata": {},
   "outputs": [],
   "source": []
  },
  {
   "cell_type": "code",
   "execution_count": null,
   "id": "f54ba703",
   "metadata": {},
   "outputs": [],
   "source": []
  },
  {
   "cell_type": "markdown",
   "id": "db8eb14d",
   "metadata": {},
   "source": [
    "Question 3.\n",
    "\n",
    "In this challenge, establish if a given integer num is a Curzon number. If 1 plus 2 elevated to num is exactly divisible by 1 plus 2 multiplied by num, then num is a Curzon number.\n",
    "Given a non-negative integer num, implement a function that returns True if num is a Curzon number, or False otherwise.\n",
    "Examples\n",
    "is_curzon(5) ➞ True\n",
    "# 2 ** 5 + 1 = 33\n",
    "# 2 * 5 + 1 = 11\n",
    "# 33 is a multiple of 11\n",
    "\n",
    "is_curzon(10) ➞ False\n",
    "# 2 ** 10 + 1 = 1025\n",
    "# 2 * 10 + 1 = 21\n",
    "# 1025 is not a multiple of 21\n",
    "\n",
    "is_curzon(14) ➞ True\n",
    "# 2 ** 14 + 1 = 16385\n",
    "# 2 * 14 + 1 = 29\n",
    "# 16385 is a multiple of 29\n"
   ]
  },
  {
   "cell_type": "code",
   "execution_count": 6,
   "id": "3e0de95e",
   "metadata": {},
   "outputs": [
    {
     "name": "stdout",
     "output_type": "stream",
     "text": [
      "Yes\n",
      "No\n"
     ]
    }
   ],
   "source": [
    "def checkIfCurzonNumber(N):\n",
    " \n",
    "    powerTerm, productTerm = 0, 0\n",
    " \n",
    "    # Find 2^N + 1\n",
    "    powerTerm = pow(2, N) + 1\n",
    " \n",
    "    # Find 2*N + 1\n",
    "    productTerm = 2 * N + 1\n",
    " \n",
    "    # Check for divisibility\n",
    "    if (powerTerm % productTerm == 0):\n",
    "        print(\"Yes\")\n",
    "    else:\n",
    "        print(\"No\")\n",
    " \n",
    "# Driver code\n",
    "if __name__ == '__main__':\n",
    "     \n",
    "    N = 5\n",
    "    checkIfCurzonNumber(N)\n",
    " \n",
    "    N = 10\n",
    "    checkIfCurzonNumber(N)"
   ]
  },
  {
   "cell_type": "markdown",
   "id": "83d219dd",
   "metadata": {},
   "source": [
    "# Question 4.Given the side length x find the area of a hexagon.\n",
    " \n",
    "Examples\n",
    "area_of_hexagon(1) ➞ 2.6\n",
    "\n",
    "area_of_hexagon(2) ➞ 10.4\n",
    "\n",
    "area_of_hexagon(3) ➞ 23.4\n",
    "\n"
   ]
  },
  {
   "cell_type": "code",
   "execution_count": 7,
   "id": "45a68f76",
   "metadata": {},
   "outputs": [],
   "source": [
    "import math\n",
    "def area_of_hexagon(side):\n",
    "    return (3*(math.sqrt(3))*side**2)/2"
   ]
  },
  {
   "cell_type": "code",
   "execution_count": 8,
   "id": "1ee3b0b2",
   "metadata": {},
   "outputs": [
    {
     "data": {
      "text/plain": [
       "10.392304845413264"
      ]
     },
     "execution_count": 8,
     "metadata": {},
     "output_type": "execute_result"
    }
   ],
   "source": [
    "area_of_hexagon(2)"
   ]
  },
  {
   "cell_type": "code",
   "execution_count": 9,
   "id": "06ea96f8",
   "metadata": {},
   "outputs": [
    {
     "data": {
      "text/plain": [
       "23.382685902179844"
      ]
     },
     "execution_count": 9,
     "metadata": {},
     "output_type": "execute_result"
    }
   ],
   "source": [
    "area_of_hexagon(3)"
   ]
  },
  {
   "cell_type": "code",
   "execution_count": null,
   "id": "bb6927c7",
   "metadata": {},
   "outputs": [],
   "source": []
  },
  {
   "cell_type": "markdown",
   "id": "b68c3221",
   "metadata": {},
   "source": [
    "# Question 5.\n",
    "\n",
    "Create a function that returns a base-2 (binary) representation of a base-10 (decimal) string number. To convert is simple: ((2) means base-2 and (10) means base-10) 010101001(2) = 1 + 8 + 32 + 128.\n",
    "Going from right to left, the value of the most right bit is 1, now from that every bit to the left will be x2 the value, value of an 8 bit binary numbers are (256, 128, 64, 32, 16, 8, 4, 2, 1).\n",
    "Examples\n",
    "binary(1) ➞ \"1\"\n",
    "# 1*1 = 1\n",
    "\n",
    "binary(5) ➞ \"101\"\n",
    "# 1*1 + 1*4 = 5\n",
    "\n",
    "binary(10) ➞ \"1010\"\n",
    "# 1*2 + 1*8 = 10\n"
   ]
  },
  {
   "cell_type": "code",
   "execution_count": 10,
   "id": "0e976449",
   "metadata": {},
   "outputs": [],
   "source": [
    "def binary(num):\n",
    "    if num >= 1:\n",
    "        binary(num // 2)\n",
    "        print (num%2 , end=\"\")"
   ]
  },
  {
   "cell_type": "code",
   "execution_count": 11,
   "id": "58161b58",
   "metadata": {},
   "outputs": [
    {
     "name": "stdout",
     "output_type": "stream",
     "text": [
      "101"
     ]
    }
   ],
   "source": [
    "binary(5)"
   ]
  },
  {
   "cell_type": "markdown",
   "id": "3862d013",
   "metadata": {},
   "source": [
    "or other method !"
   ]
  },
  {
   "cell_type": "code",
   "execution_count": 12,
   "id": "73e4d032",
   "metadata": {},
   "outputs": [],
   "source": [
    "def binary_fast(num):\n",
    "    print(bin(num)[2:])"
   ]
  },
  {
   "cell_type": "code",
   "execution_count": 13,
   "id": "50d4f1be",
   "metadata": {},
   "outputs": [
    {
     "name": "stdout",
     "output_type": "stream",
     "text": [
      "1010\n"
     ]
    }
   ],
   "source": [
    "binary_fast(10)"
   ]
  },
  {
   "cell_type": "code",
   "execution_count": null,
   "id": "3aa60a78",
   "metadata": {},
   "outputs": [],
   "source": []
  }
 ],
 "metadata": {
  "kernelspec": {
   "display_name": "Python 3 (ipykernel)",
   "language": "python",
   "name": "python3"
  },
  "language_info": {
   "codemirror_mode": {
    "name": "ipython",
    "version": 3
   },
   "file_extension": ".py",
   "mimetype": "text/x-python",
   "name": "python",
   "nbconvert_exporter": "python",
   "pygments_lexer": "ipython3",
   "version": "3.9.12"
  }
 },
 "nbformat": 4,
 "nbformat_minor": 5
}
