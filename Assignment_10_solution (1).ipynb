{
 "cells": [
  {
   "cell_type": "markdown",
   "id": "4bcd51c1",
   "metadata": {},
   "source": [
    "# 1. How do you distinguish between shutil.copy() and shutil.copytree()?"
   ]
  },
  {
   "cell_type": "markdown",
   "id": "0e876c0a",
   "metadata": {},
   "source": [
    "The shutil. copy() function will copy a single file, while shutil. copytree() will copy an entire folder, along with all its contents."
   ]
  },
  {
   "cell_type": "code",
   "execution_count": 1,
   "id": "6c449bed",
   "metadata": {},
   "outputs": [],
   "source": [
    "import shutil,os"
   ]
  },
  {
   "cell_type": "code",
   "execution_count": 2,
   "id": "9fdd320c",
   "metadata": {},
   "outputs": [
    {
     "data": {
      "text/plain": [
       "'C:\\\\Users\\\\aryan'"
      ]
     },
     "execution_count": 2,
     "metadata": {},
     "output_type": "execute_result"
    }
   ],
   "source": [
    "pwd\n"
   ]
  },
  {
   "cell_type": "code",
   "execution_count": 3,
   "id": "841b208f",
   "metadata": {},
   "outputs": [
    {
     "data": {
      "text/plain": [
       "'C:\\\\Users\\\\aryan\\\\Downloads\\\\Assignment_10_solution.ipynb'"
      ]
     },
     "execution_count": 3,
     "metadata": {},
     "output_type": "execute_result"
    }
   ],
   "source": [
    "shutil.copy('C:\\\\Users\\\\aryan\\\\Assignment_10_solution.ipynb','C:\\\\Users\\\\aryan\\\\Downloads')"
   ]
  },
  {
   "cell_type": "markdown",
   "id": "c587e9d3",
   "metadata": {},
   "source": [
    "Whereas , copytree() will copy an entire folder, along with all its contents.\n"
   ]
  },
  {
   "cell_type": "code",
   "execution_count": 4,
   "id": "edd3c8aa",
   "metadata": {},
   "outputs": [],
   "source": [
    "import os\n",
    "import shutil"
   ]
  },
  {
   "cell_type": "code",
   "execution_count": 5,
   "id": "4819490d",
   "metadata": {},
   "outputs": [],
   "source": [
    "path = 'C:\\\\Users\\\\aryan'"
   ]
  },
  {
   "cell_type": "code",
   "execution_count": 7,
   "id": "202aade4",
   "metadata": {},
   "outputs": [
    {
     "name": "stdout",
     "output_type": "stream",
     "text": [
      "after copying file\n"
     ]
    }
   ],
   "source": [
    "print(\"after copying file\")"
   ]
  },
  {
   "cell_type": "code",
   "execution_count": 8,
   "id": "334b050a",
   "metadata": {},
   "outputs": [
    {
     "name": "stdout",
     "output_type": "stream",
     "text": [
      "[' spam.ipynb', '-1.14-windows.xml', '.android', '.bash_history', '.conda', '.emulator_console_auth_token', '.git', '.gitconfig', '.gradle', '.idea', '.idlerc', '.ipynb_checkpoints', '.ipython', '.jupyter', '.matplotlib', '.VirtualBox', '.vscode', '3D Objects', 'addition.py', 'anaconda3', 'AppData', 'Application Data', 'aryan.txt', 'aryan1', 'aryan1.txt', 'Assignment_10_solution.ipynb', 'Assignment_2_Solution.ipynb', 'Assignment_3_solution.ipynb', 'Assignment_5_solutionn.ipynb', 'Assignment_6_solution.ipynb', 'Assignment_8_solution.ipynb', 'Assignment_9_solution.ipynb', 'Assingment_4_solution.ipynb', 'CLionProjects', 'Contacts', 'Cookies', 'dfg.ipynb', 'Documents', 'Downloads', 'Fastrack_CLASS_OOPs.ipynb', 'FASTRACK_REVISION', 'Fastrack_Revision .ipynb', 'Fast_track _class.ipynb', 'Favorites', 'intellij', 'ladoo1.txt', 'Links', 'liveproject', 'Local Settings', 'logging', 'Music', 'My Documents', 'NetHood', 'newproject', 'new_file_revision_folder_mkdir', 'none.ipynb', 'NTUSER.DAT', 'ntuser.dat.LOG1', 'ntuser.dat.LOG2', 'NTUSER.DAT{0bd76044-582e-11eb-9a30-f32ca7aa22e4}.TM.blf', 'NTUSER.DAT{0bd76044-582e-11eb-9a30-f32ca7aa22e4}.TMContainer00000000000000000001.regtrans-ms', 'NTUSER.DAT{0bd76044-582e-11eb-9a30-f32ca7aa22e4}.TMContainer00000000000000000002.regtrans-ms', 'ntuser.ini', 'OneDrive', 'OOPS.log', 'PrintHood', 'PycharmProjects', 'python classes.ipynb', 'python39', 'qwe.txt', 'qwe1.txt', 'qwe2.txt', 'qwe3.txt', 'Recent', 'Saved Games', 'sdvsd', 'Searches', 'SendTo', 'solutions_of_challenges.ipynb', 'Start Menu', 'steve1', 'Templates', 'Test', 'test.txt', 'TEST1', 'test1.py', 'test1.txt', 'test5.py', 'test6.py', 'Untitled Folder', 'Untitled Folder 1', 'Untitled Folder 2', 'Untitled Folder 3', 'Untitled1.ipynb', 'Untitled2.ipynb', 'Untitled3.ipynb', 'Untitled4.ipynb', 'Untitled5.ipynb', 'user', 'Videos', 'VirtualBox VMs', 'welcome.mp3', '__pycache__']\n"
     ]
    }
   ],
   "source": [
    "print(os.listdir(path))\n"
   ]
  },
  {
   "cell_type": "code",
   "execution_count": null,
   "id": "4790643f",
   "metadata": {},
   "outputs": [],
   "source": [
    "src = 'C:\\\\Users\\\\aryan'\n",
    "dest = 'C:\\\\Users\\\\aryan\\\\download'"
   ]
  },
  {
   "cell_type": "code",
   "execution_count": null,
   "id": "30d4eafd",
   "metadata": {},
   "outputs": [],
   "source": [
    "destination = shutil.copytree(src,dest)"
   ]
  },
  {
   "cell_type": "markdown",
   "id": "50251ad7",
   "metadata": {},
   "source": [
    "# 2. What function is used to rename files??"
   ]
  },
  {
   "cell_type": "markdown",
   "id": "f2bc4a35",
   "metadata": {},
   "source": [
    "os.rename() method in Python is used to rename a file or directory.\n"
   ]
  },
  {
   "cell_type": "code",
   "execution_count": 9,
   "id": "f90f4e53",
   "metadata": {},
   "outputs": [],
   "source": [
    "import os"
   ]
  },
  {
   "cell_type": "code",
   "execution_count": 10,
   "id": "9a1ab90a",
   "metadata": {},
   "outputs": [],
   "source": [
    "source = 'C:\\\\Users\\\\aryan\\\\Assignment_10_solution.ipynb'"
   ]
  },
  {
   "cell_type": "code",
   "execution_count": 12,
   "id": "8d92dfc1",
   "metadata": {},
   "outputs": [],
   "source": [
    "destination = 'C:\\\\Users\\\\aryan\\\\Assignment_10_solutions.ipynb'"
   ]
  },
  {
   "cell_type": "code",
   "execution_count": 13,
   "id": "47f9c22a",
   "metadata": {},
   "outputs": [],
   "source": [
    "os.rename(source,destination)"
   ]
  },
  {
   "cell_type": "code",
   "execution_count": 14,
   "id": "e30e7263",
   "metadata": {},
   "outputs": [
    {
     "name": "stdout",
     "output_type": "stream",
     "text": [
      "source path renamed to destination path succcesfully\n"
     ]
    }
   ],
   "source": [
    "print(\"source path renamed to destination path succcesfully\")"
   ]
  },
  {
   "cell_type": "markdown",
   "id": "6c6a2ba8",
   "metadata": {},
   "source": [
    "# 3. What is the difference between the delete functions in the send2trash and shutil modules?"
   ]
  },
  {
   "cell_type": "markdown",
   "id": "5298b8b7",
   "metadata": {},
   "source": [
    "The send2trash functions will move a file or folder to the recycle bin, while shutil functions will permanently delete files and folders."
   ]
  },
  {
   "cell_type": "markdown",
   "id": "cb503bd2",
   "metadata": {},
   "source": [
    "# 4.ZipFile objects have a close() method just like File objects’ close() method. What ZipFile method is equivalent to File objects’ open() method?"
   ]
  },
  {
   "cell_type": "markdown",
   "id": "6eef3590",
   "metadata": {},
   "source": [
    "The zipfile.ZipFile() function is equivalent to the open() function; the first argument is the filename, and the second argument is the mode to open the ZIP file in (read, write, or append)."
   ]
  },
  {
   "cell_type": "markdown",
   "id": "e31718a9",
   "metadata": {},
   "source": [
    "# 5. Create a programme that searches a folder tree for files with a certain file extension (such as .pdf or .jpg). Copy these files from whatever location they are in to a new folder."
   ]
  },
  {
   "cell_type": "code",
   "execution_count": 16,
   "id": "f0ac65eb",
   "metadata": {},
   "outputs": [],
   "source": [
    "import os,shutil"
   ]
  },
  {
   "cell_type": "code",
   "execution_count": 17,
   "id": "35df1c37",
   "metadata": {},
   "outputs": [],
   "source": [
    "def inuronmovefile(folder):\n",
    "    for folderName , subfolder , filenames in os.walk(folder):\n",
    "        for filename in filenames :\n",
    "            if filename.endswith('.pdf'):\n",
    "                shutil.copy(os.path.join(folderName , filename),'C:\\\\Users\\\\aryan\\\\Downloads\\\\dest')\n",
    "                \n",
    "                \n",
    "inuronmovefile('C:\\\\Users\\\\aryan\\\\Downloads\\\\pdfs')"
   ]
  },
  {
   "cell_type": "code",
   "execution_count": null,
   "id": "057d9ebf",
   "metadata": {},
   "outputs": [],
   "source": []
  },
  {
   "cell_type": "code",
   "execution_count": null,
   "id": "5a2de0ad",
   "metadata": {},
   "outputs": [],
   "source": []
  },
  {
   "cell_type": "code",
   "execution_count": null,
   "id": "0971cbc6",
   "metadata": {},
   "outputs": [],
   "source": [
    "##here od.walk () generates filename in the directory tree by walking either top to botton or bottom to top !"
   ]
  },
  {
   "cell_type": "code",
   "execution_count": 18,
   "id": "90a1990b",
   "metadata": {},
   "outputs": [
    {
     "data": {
      "text/plain": [
       "<module 'ntpath' from 'C:\\\\Users\\\\aryan\\\\anaconda3\\\\lib\\\\ntpath.py'>"
      ]
     },
     "execution_count": 18,
     "metadata": {},
     "output_type": "execute_result"
    }
   ],
   "source": [
    "os.path"
   ]
  },
  {
   "cell_type": "code",
   "execution_count": null,
   "id": "7263c68c",
   "metadata": {},
   "outputs": [],
   "source": []
  }
 ],
 "metadata": {
  "kernelspec": {
   "display_name": "Python 3 (ipykernel)",
   "language": "python",
   "name": "python3"
  },
  "language_info": {
   "codemirror_mode": {
    "name": "ipython",
    "version": 3
   },
   "file_extension": ".py",
   "mimetype": "text/x-python",
   "name": "python",
   "nbconvert_exporter": "python",
   "pygments_lexer": "ipython3",
   "version": "3.9.12"
  }
 },
 "nbformat": 4,
 "nbformat_minor": 5
}
