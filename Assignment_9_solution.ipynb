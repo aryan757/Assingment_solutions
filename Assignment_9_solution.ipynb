{
 "cells": [
  {
   "cell_type": "markdown",
   "id": "fa41bc7c",
   "metadata": {},
   "source": [
    "# 1. To what does a relative path refer?"
   ]
  },
  {
   "cell_type": "markdown",
   "id": "ae02c987",
   "metadata": {},
   "source": [
    "A relative path refers to a location that is relative to a current directory. Relative paths make use of two special symbols, a dot (.) and a double-dot (..), which translate into the current directory and the parent directory. Double dots are used for moving up in the hierarchy."
   ]
  },
  {
   "cell_type": "markdown",
   "id": "53ecd021",
   "metadata": {},
   "source": [
    "# 2. What does an absolute path start with your operating system?"
   ]
  },
  {
   "cell_type": "markdown",
   "id": "b213ea1f",
   "metadata": {},
   "source": [
    " An absolute path refers to the complete details needed to locate a file or folder, starting from the root element and ending with the other subdirectories. Absolute paths are used in websites and operating systems for locating files and folders. An absolute path is also known as an absolute pathname or full path."
   ]
  },
  {
   "cell_type": "markdown",
   "id": "e9bb2f3a",
   "metadata": {},
   "source": [
    "# 3. What do the functions os.getcwd() and os.chdir() do?"
   ]
  },
  {
   "cell_type": "code",
   "execution_count": 2,
   "id": "5fa3cfe9",
   "metadata": {},
   "outputs": [],
   "source": [
    "import os"
   ]
  },
  {
   "cell_type": "code",
   "execution_count": 3,
   "id": "6bce8812",
   "metadata": {},
   "outputs": [
    {
     "data": {
      "text/plain": [
       "'C:\\\\Users\\\\aryan'"
      ]
     },
     "execution_count": 3,
     "metadata": {},
     "output_type": "execute_result"
    }
   ],
   "source": [
    "os.getcwd()"
   ]
  },
  {
   "cell_type": "code",
   "execution_count": 5,
   "id": "0549f62f",
   "metadata": {},
   "outputs": [],
   "source": [
    "#gives the current working directory"
   ]
  },
  {
   "cell_type": "code",
   "execution_count": null,
   "id": "c37b148e",
   "metadata": {},
   "outputs": [],
   "source": [
    "os.chdir(path) ## will going to change the current working directory into some other location given in it as a parameter !"
   ]
  },
  {
   "cell_type": "markdown",
   "id": "daac5ea5",
   "metadata": {},
   "source": [
    "# 4. What are the . and .. folders?"
   ]
  },
  {
   "cell_type": "markdown",
   "id": "d42efcc5",
   "metadata": {},
   "source": [
    "A file is the common storage unit in a computer, and all programs and data are \"written\" into a file and \"read\" from a file. A folder holds one or more files, and a folder can be empty until it is filled. A folder can also contain other folders, and there can be many levels of folders within folders."
   ]
  },
  {
   "cell_type": "markdown",
   "id": "96f0540e",
   "metadata": {},
   "source": []
  },
  {
   "cell_type": "markdown",
   "id": "b9e636f7",
   "metadata": {},
   "source": [
    "# 5. In C:\\bacon\\eggs\\spam.txt, which part is the dir name, and which part is the base name?"
   ]
  },
  {
   "cell_type": "markdown",
   "id": "bf6ca0d7",
   "metadata": {},
   "source": [
    "C:\\bacon\\eggs is the dir name\n",
    "\n",
    "while spam. txt is the base name."
   ]
  },
  {
   "cell_type": "markdown",
   "id": "6bc7d6d1",
   "metadata": {},
   "source": [
    "# 6. What are the three “mode” arguments that can be passed to the open() function?"
   ]
  },
  {
   "cell_type": "code",
   "execution_count": 8,
   "id": "8f64bdb7",
   "metadata": {},
   "outputs": [],
   "source": [
    "f = open(\"test.txt\",\"r\") ## read mode"
   ]
  },
  {
   "cell_type": "code",
   "execution_count": 9,
   "id": "d0182d7a",
   "metadata": {},
   "outputs": [
    {
     "data": {
      "text/plain": [
       "''"
      ]
     },
     "execution_count": 9,
     "metadata": {},
     "output_type": "execute_result"
    }
   ],
   "source": [
    "f.read()"
   ]
  },
  {
   "cell_type": "code",
   "execution_count": 11,
   "id": "3870fea9",
   "metadata": {},
   "outputs": [],
   "source": [
    "f= open(\"aryan1.txt\",\"w\") ## write mode"
   ]
  },
  {
   "cell_type": "code",
   "execution_count": 12,
   "id": "e9d4fc78",
   "metadata": {},
   "outputs": [],
   "source": [
    "f = open(\"test.txt\",\"a\")  ##append mode"
   ]
  },
  {
   "cell_type": "markdown",
   "id": "1615c2cd",
   "metadata": {},
   "source": [
    "# 7. What happens if an existing file is opened in write mode?"
   ]
  },
  {
   "cell_type": "code",
   "execution_count": 13,
   "id": "23cce01f",
   "metadata": {},
   "outputs": [],
   "source": [
    "f = open(\"test.txt\",\"w\")"
   ]
  },
  {
   "cell_type": "code",
   "execution_count": 14,
   "id": "eeba8ba1",
   "metadata": {},
   "outputs": [
    {
     "data": {
      "text/plain": [
       "11"
      ]
     },
     "execution_count": 14,
     "metadata": {},
     "output_type": "execute_result"
    }
   ],
   "source": [
    "f.write(\"hello world\")"
   ]
  },
  {
   "cell_type": "markdown",
   "id": "8fb28031",
   "metadata": {},
   "source": [
    " If a file with the same name already exists, its contents are discarded and the file is treated as a new empty file."
   ]
  },
  {
   "cell_type": "markdown",
   "id": "4790bf0d",
   "metadata": {},
   "source": [
    "# 8. How do you tell the difference between read() and readlines()?"
   ]
  },
  {
   "cell_type": "markdown",
   "id": "be7c8c71",
   "metadata": {},
   "source": [
    "The main difference is that read() will read the whole file at once and then print out the first characters that take up as many bytes as you specify in the parenthesis .\n",
    "\n",
    "wheras , readlines() - >  Return a list of lines from the stream.\n"
   ]
  },
  {
   "cell_type": "code",
   "execution_count": 17,
   "id": "51545af5",
   "metadata": {},
   "outputs": [],
   "source": [
    "f = open(\"qwe1.txt\",\"r\")"
   ]
  },
  {
   "cell_type": "code",
   "execution_count": 18,
   "id": "0ec2b01e",
   "metadata": {},
   "outputs": [
    {
     "name": "stdout",
     "output_type": "stream",
     "text": [
      "hello aryan , its me inh binary format\n",
      "\n",
      "sdfdsf\n",
      "\n",
      "sd\n",
      "\n",
      "fsd\n",
      "\n",
      "f\n",
      "\n",
      "sd\n",
      "\n",
      "fsd\n",
      "\n",
      "f\n",
      "\n"
     ]
    }
   ],
   "source": [
    "for i in f :\n",
    "    print(i)"
   ]
  },
  {
   "cell_type": "code",
   "execution_count": 19,
   "id": "06ae9401",
   "metadata": {},
   "outputs": [
    {
     "data": {
      "text/plain": [
       "[]"
      ]
     },
     "execution_count": 19,
     "metadata": {},
     "output_type": "execute_result"
    }
   ],
   "source": [
    "f.readlines()"
   ]
  },
  {
   "cell_type": "code",
   "execution_count": 20,
   "id": "ae2468db",
   "metadata": {},
   "outputs": [
    {
     "data": {
      "text/plain": [
       "0"
      ]
     },
     "execution_count": 20,
     "metadata": {},
     "output_type": "execute_result"
    }
   ],
   "source": [
    "f.seek(0)"
   ]
  },
  {
   "cell_type": "code",
   "execution_count": 21,
   "id": "095e2a96",
   "metadata": {},
   "outputs": [
    {
     "data": {
      "text/plain": [
       "['hello aryan , its me inh binary format\\n',\n",
       " 'sdfdsf\\n',\n",
       " 'sd\\n',\n",
       " 'fsd\\n',\n",
       " 'f\\n',\n",
       " 'sd\\n',\n",
       " 'fsd\\n',\n",
       " 'f\\n']"
      ]
     },
     "execution_count": 21,
     "metadata": {},
     "output_type": "execute_result"
    }
   ],
   "source": [
    "f.readlines()"
   ]
  },
  {
   "cell_type": "markdown",
   "id": "589d85f9",
   "metadata": {},
   "source": [
    "# 9. What data structure does a shelf value resemble?"
   ]
  },
  {
   "cell_type": "markdown",
   "id": "24f11ff3",
   "metadata": {},
   "source": [
    " shelf value resembles a dictionary value; it has keys and values, along with keys() and values() methods that work similarly to the dictionary methods of the same names."
   ]
  },
  {
   "cell_type": "code",
   "execution_count": null,
   "id": "1e428e7c",
   "metadata": {},
   "outputs": [],
   "source": []
  }
 ],
 "metadata": {
  "kernelspec": {
   "display_name": "Python 3 (ipykernel)",
   "language": "python",
   "name": "python3"
  },
  "language_info": {
   "codemirror_mode": {
    "name": "ipython",
    "version": 3
   },
   "file_extension": ".py",
   "mimetype": "text/x-python",
   "name": "python",
   "nbconvert_exporter": "python",
   "pygments_lexer": "ipython3",
   "version": "3.9.12"
  }
 },
 "nbformat": 4,
 "nbformat_minor": 5
}
