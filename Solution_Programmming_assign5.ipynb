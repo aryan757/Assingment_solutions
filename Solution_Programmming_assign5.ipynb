{
 "cells": [
  {
   "cell_type": "markdown",
   "id": "0c617882",
   "metadata": {},
   "source": [
    "# 1.\tWrite a Python Program to Find LCM?"
   ]
  },
  {
   "cell_type": "code",
   "execution_count": 8,
   "id": "e178358d",
   "metadata": {},
   "outputs": [],
   "source": []
  },
  {
   "cell_type": "code",
   "execution_count": null,
   "id": "4dda90cf",
   "metadata": {},
   "outputs": [],
   "source": []
  },
  {
   "cell_type": "code",
   "execution_count": 11,
   "id": "6e82516a",
   "metadata": {},
   "outputs": [
    {
     "name": "stdout",
     "output_type": "stream",
     "text": [
      "Enter the num124\n",
      "Enter the num256\n",
      "The L.C.M. is 168\n"
     ]
    }
   ],
   "source": [
    "# Python Program to find the L.C.M. of two input number\n",
    "\n",
    "def compute_lcm(x, y):\n",
    "\n",
    "   # choose the greater number\n",
    "   if x > y:\n",
    "       greater = x\n",
    "   else:\n",
    "       greater = y\n",
    "\n",
    "   while(True):\n",
    "       if((greater % x == 0) and (greater % y == 0)):\n",
    "           lcm = greater\n",
    "           break\n",
    "       greater += 1\n",
    "\n",
    "   return lcm\n",
    "\n",
    "num1 = int(input(\"Enter the num1\"))\n",
    "num2 = int(input(\"Enter the num2\"))\n",
    "\n",
    "print(\"The L.C.M. is\", compute_lcm(num1, num2))"
   ]
  },
  {
   "cell_type": "markdown",
   "id": "a23ecb35",
   "metadata": {},
   "source": [
    "# 2.\tWrite a Python Program to Find HCF?"
   ]
  },
  {
   "cell_type": "code",
   "execution_count": 13,
   "id": "1a5c1571",
   "metadata": {},
   "outputs": [
    {
     "name": "stdout",
     "output_type": "stream",
     "text": [
      "enter the num1\t46\n",
      "enter the num2\t80\n",
      "The H.C.F. is 2\n"
     ]
    }
   ],
   "source": [
    "# Python program to find H.C.F of two numbers\n",
    "\n",
    "# define a function\n",
    "def compute_hcf(x, y):\n",
    "\n",
    "# choose the smaller number\n",
    "    if x > y:\n",
    "        smaller = y\n",
    "    else:\n",
    "        smaller = x\n",
    "    for i in range(1, smaller+1):\n",
    "        if((x % i == 0) and (y % i == 0)):\n",
    "            hcf = i \n",
    "    return hcf\n",
    "\n",
    "num1 = int(input(\"enter the num1\\t\"))\n",
    "num2 = int(input(\"enter the num2\\t\"))\n",
    "\n",
    "print(\"The H.C.F. is\", compute_hcf(num1, num2))\n"
   ]
  },
  {
   "cell_type": "markdown",
   "id": "d4f31da6",
   "metadata": {},
   "source": [
    "# 3.\tWrite a Python Program to Convert Decimal to Binary, Octal and Hexadecimal?"
   ]
  },
  {
   "cell_type": "code",
   "execution_count": 14,
   "id": "89eb0349",
   "metadata": {},
   "outputs": [],
   "source": [
    "def convert(dec):\n",
    "    print(\"The decimal value is \" , dec , \"is :\")\n",
    "    temp1 = bin(dec)\n",
    "    print(\"in binary :\\t\" , temp1)\n",
    "    temp2 = oct(dec)\n",
    "    print(\"in octal : \\t\" , temp2)\n",
    "    temp3 = hex(dec)\n",
    "    print(\"in hexadecimal : \\t\" , temp3)"
   ]
  },
  {
   "cell_type": "code",
   "execution_count": 15,
   "id": "4e73ed9a",
   "metadata": {},
   "outputs": [
    {
     "name": "stdout",
     "output_type": "stream",
     "text": [
      "The decimal value is  56 is :\n",
      "in binary :\t 0b111000\n",
      "in octal : \t 0o70\n",
      "in hexadecimal : \t 0x38\n"
     ]
    }
   ],
   "source": [
    "convert(56)"
   ]
  },
  {
   "cell_type": "markdown",
   "id": "52462ff1",
   "metadata": {},
   "source": [
    "# 4.\tWrite a Python Program To Find ASCII value of a character?"
   ]
  },
  {
   "cell_type": "code",
   "execution_count": 18,
   "id": "80e832f1",
   "metadata": {},
   "outputs": [],
   "source": [
    "def ascii(c):\n",
    "    print(\"The ascii value is : \\t\" , ord(c))\n"
   ]
  },
  {
   "cell_type": "code",
   "execution_count": 19,
   "id": "497764b9",
   "metadata": {},
   "outputs": [
    {
     "name": "stdout",
     "output_type": "stream",
     "text": [
      "The ascii value is : \t 121\n"
     ]
    }
   ],
   "source": [
    "ascii('y')"
   ]
  },
  {
   "cell_type": "markdown",
   "id": "a2873381",
   "metadata": {},
   "source": [
    "# 5.\tWrite a Python Program to Make a Simple Calculator with 4 basic mathematical operations?"
   ]
  },
  {
   "cell_type": "code",
   "execution_count": 33,
   "id": "3be91c23",
   "metadata": {},
   "outputs": [],
   "source": [
    "def calculation(operator):\n",
    "    try :\n",
    "        \n",
    "        num1 = int(input(\"Enter the number1 : \\t\"))\n",
    "        num2 = int(input(\"Enter the number2 :\\t\"))\n",
    "        if operator == 1 :\n",
    "            return num1 + num2\n",
    "        elif operator == 2:\n",
    "            return num1 - num2\n",
    "        elif operator == 3:\n",
    "            return num1 * num2\n",
    "        elif operator == 4:\n",
    "            return num1/num2\n",
    "        else :\n",
    "            return \"Enter the valid operator\"\n",
    "    except Exception as e :\n",
    "        print(\"please , enter the valid input \\n\")\n",
    "        return e"
   ]
  },
  {
   "cell_type": "code",
   "execution_count": 34,
   "id": "fb5c828f",
   "metadata": {},
   "outputs": [
    {
     "name": "stdout",
     "output_type": "stream",
     "text": [
      "The operation :\n",
      "\n",
      "1.add\n",
      " 2.subb\n",
      " 3.mul\n",
      " 4.div\n"
     ]
    }
   ],
   "source": [
    "print(\"The operation :\\n\")\n",
    "print(\"1.add\\n 2.subb\\n 3.mul\\n 4.div\")\n",
    "\n"
   ]
  },
  {
   "cell_type": "code",
   "execution_count": 35,
   "id": "d28bb7e1",
   "metadata": {},
   "outputs": [
    {
     "name": "stdout",
     "output_type": "stream",
     "text": [
      "Select the Operation :\n",
      "4\n",
      "Enter the number1 : \t23\n",
      "Enter the number2 :\t0\n",
      "please , enter the valid input \n",
      "\n"
     ]
    },
    {
     "data": {
      "text/plain": [
       "ZeroDivisionError('division by zero')"
      ]
     },
     "execution_count": 35,
     "metadata": {},
     "output_type": "execute_result"
    }
   ],
   "source": [
    "operator = int(input(\"Select the Operation :\\n\"))\n",
    "calculation(operator)\n"
   ]
  },
  {
   "cell_type": "code",
   "execution_count": null,
   "id": "67e4538f",
   "metadata": {},
   "outputs": [],
   "source": []
  }
 ],
 "metadata": {
  "kernelspec": {
   "display_name": "Python 3 (ipykernel)",
   "language": "python",
   "name": "python3"
  },
  "language_info": {
   "codemirror_mode": {
    "name": "ipython",
    "version": 3
   },
   "file_extension": ".py",
   "mimetype": "text/x-python",
   "name": "python",
   "nbconvert_exporter": "python",
   "pygments_lexer": "ipython3",
   "version": "3.9.12"
  }
 },
 "nbformat": 4,
 "nbformat_minor": 5
}
