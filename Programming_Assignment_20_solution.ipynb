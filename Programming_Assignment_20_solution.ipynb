{
 "cells": [
  {
   "cell_type": "raw",
   "id": "d68e8167",
   "metadata": {},
   "source": [
    "Question1\n",
    "Create a function that takes a list of strings and integers, and filters out the list so that it returns a list of integers only.\n",
    "Examples\n",
    "filter_list([1, 2, 3, \"a\", \"b\", 4]) ➞ [1, 2, 3, 4]\n",
    "\n",
    "filter_list([\"A\", 0, \"Edabit\", 1729, \"Python\", \"1729\"]) ➞ [0, 1729]\n",
    "\n",
    "filter_list([\"Nothing\", \"here\"]) ➞ []\n"
   ]
  },
  {
   "cell_type": "code",
   "execution_count": 1,
   "id": "e3d71ff3",
   "metadata": {},
   "outputs": [],
   "source": [
    "def filter_list(list1):\n",
    "    new=[]\n",
    "    for i in list1:\n",
    "        if type(i)==int:\n",
    "            new.append(i)\n",
    "        else:\n",
    "            continue\n",
    "    else:\n",
    "        print(new)"
   ]
  },
  {
   "cell_type": "code",
   "execution_count": 2,
   "id": "9d80d860",
   "metadata": {},
   "outputs": [
    {
     "name": "stdout",
     "output_type": "stream",
     "text": [
      "[1, 2, 3, 4]\n"
     ]
    }
   ],
   "source": [
    "filter_list([1,2,3,'a','b',4])"
   ]
  },
  {
   "cell_type": "raw",
   "id": "b8795a05",
   "metadata": {},
   "source": [
    "Question2\n",
    "Given a list of numbers, create a function which returns the list but with each element's index in the list added to itself. This means you add 0 to the number at index 0, add 1 to the number at index 1, etc...\n",
    "Examples\n",
    "add_indexes([0, 0, 0, 0, 0]) ➞ [0, 1, 2, 3, 4]\n",
    "\n",
    "add_indexes([1, 2, 3, 4, 5]) ➞ [1, 3, 5, 7, 9]\n",
    "\n",
    "add_indexes([5, 4, 3, 2, 1]) ➞ [5, 5, 5, 5, 5]\n"
   ]
  },
  {
   "cell_type": "code",
   "execution_count": 3,
   "id": "d5626fe8",
   "metadata": {},
   "outputs": [],
   "source": [
    "def add_indexes(list1):\n",
    "    new = []\n",
    "    for i in list1:\n",
    "        new.append(list1.index(i))\n",
    "    else:\n",
    "        print(\"index is :\\t\" , new)\n",
    "        print(\"list is :\\t\" , list1)\n",
    "        k = 0\n",
    "        j = 0\n",
    "        for i in new:\n",
    "            list1[j] = list1[j] + i\n",
    "            j +=1\n",
    "        else :\n",
    "            return list1"
   ]
  },
  {
   "cell_type": "code",
   "execution_count": 4,
   "id": "54d5f317",
   "metadata": {},
   "outputs": [
    {
     "name": "stdout",
     "output_type": "stream",
     "text": [
      "index is :\t [0, 1, 2, 3]\n",
      "list is :\t [1, 2, 3, 4]\n"
     ]
    },
    {
     "data": {
      "text/plain": [
       "[1, 3, 5, 7]"
      ]
     },
     "execution_count": 4,
     "metadata": {},
     "output_type": "execute_result"
    }
   ],
   "source": [
    "add_indexes([1,2,3,4])"
   ]
  },
  {
   "cell_type": "raw",
   "id": "34fc2b2d",
   "metadata": {},
   "source": [
    "Question3\n",
    "Create a function that takes the height and radius of a cone as arguments and returns the volume of the cone rounded to the nearest hundredth. See the resources tab for the formula.\n",
    " \n",
    "Examples\n",
    "cone_volume(3, 2) ➞ 12.57\n",
    "\n",
    "cone_volume(15, 6) ➞ 565.49\n",
    "\n",
    "cone_volume(18, 0) ➞ 0\n"
   ]
  },
  {
   "cell_type": "code",
   "execution_count": 5,
   "id": "5494ea59",
   "metadata": {},
   "outputs": [
    {
     "name": "stdout",
     "output_type": "stream",
     "text": [
      "Volume Of Cone :  314\n"
     ]
    }
   ],
   "source": [
    "import math\n",
    "pi = math.pi\n",
    " \n",
    "# Function to calculate Volume of Cone\n",
    "def cone_volume(r, h):\n",
    "    return round((1 / 3) * pi * r * r * h)\n",
    " \n",
    "\n",
    "# Driver Code\n",
    "radius = float(5)\n",
    "height = float(12)\n",
    "\n",
    "print( \"Volume Of Cone : \", cone_volume(radius, height) )"
   ]
  },
  {
   "cell_type": "code",
   "execution_count": 6,
   "id": "1864d2e5",
   "metadata": {},
   "outputs": [
    {
     "data": {
      "text/plain": [
       "19"
      ]
     },
     "execution_count": 6,
     "metadata": {},
     "output_type": "execute_result"
    }
   ],
   "source": [
    "cone_volume(3, 2)"
   ]
  },
  {
   "cell_type": "raw",
   "id": "49dce49c",
   "metadata": {},
   "source": [
    "Question4\n",
    "This Triangular Number Sequence is generated from a pattern of dots that form a triangle. The first 5 numbers of the sequence, or dots, are: \n",
    "1, 3, 6, 10, 15\n",
    "This means that the first triangle has just one dot, the second one has three dots, the third one has 6 dots and so on.\n",
    "Write a function that gives the number of dots with its corresponding triangle number of the sequence.\n",
    "Examples\n",
    "triangle(1) ➞ 1\n",
    "\n",
    "triangle(6) ➞ 21\n",
    "\n",
    "triangle(215) ➞ 23220\n"
   ]
  },
  {
   "cell_type": "code",
   "execution_count": 7,
   "id": "1fb99401",
   "metadata": {},
   "outputs": [],
   "source": [
    "## just with the simple logic ,wwe can solve this problem !!"
   ]
  },
  {
   "cell_type": "markdown",
   "id": "142d2c7e",
   "metadata": {},
   "source": [
    "# 0,1,2,3......-> contains how my dots ? -----> 0,1,3,6,10.."
   ]
  },
  {
   "cell_type": "code",
   "execution_count": 8,
   "id": "059bfbf0",
   "metadata": {},
   "outputs": [],
   "source": [
    "# based on the formula , we can generalize ! --->n(n+1)/2"
   ]
  },
  {
   "cell_type": "code",
   "execution_count": 9,
   "id": "97ded3d4",
   "metadata": {},
   "outputs": [],
   "source": [
    "def triangle(sequence_no):\n",
    "    return sequence_no*(sequence_no+1)//2"
   ]
  },
  {
   "cell_type": "code",
   "execution_count": 10,
   "id": "bdfe7617",
   "metadata": {},
   "outputs": [
    {
     "data": {
      "text/plain": [
       "21"
      ]
     },
     "execution_count": 10,
     "metadata": {},
     "output_type": "execute_result"
    }
   ],
   "source": [
    "triangle(6)"
   ]
  },
  {
   "cell_type": "code",
   "execution_count": 11,
   "id": "891c4d84",
   "metadata": {},
   "outputs": [
    {
     "data": {
      "text/plain": [
       "23220"
      ]
     },
     "execution_count": 11,
     "metadata": {},
     "output_type": "execute_result"
    }
   ],
   "source": [
    "triangle(215) "
   ]
  },
  {
   "cell_type": "raw",
   "id": "aea3743f",
   "metadata": {},
   "source": [
    "Question5\n",
    "Create a function that takes a list of numbers between 1 and 10 (excluding one number) and returns the missing number.\n",
    "Examples\n",
    "missing_num([1, 2, 3, 4, 6, 7, 8, 9, 10]) ➞ 5\n",
    "\n",
    "missing_num([7, 2, 3, 6, 5, 9, 1, 4, 8]) ➞ 10\n",
    "\n",
    "missing_num([10, 5, 1, 2, 4, 6, 8, 3, 9]) ➞ 7\n"
   ]
  },
  {
   "cell_type": "code",
   "execution_count": 12,
   "id": "313e8a7b",
   "metadata": {},
   "outputs": [],
   "source": [
    "def missing_num(list1):\n",
    "    for i in range(1,11):\n",
    "        if i in list1:\n",
    "            continue\n",
    "        else :\n",
    "            print(i)\n",
    "            break"
   ]
  },
  {
   "cell_type": "code",
   "execution_count": 13,
   "id": "0f949758",
   "metadata": {},
   "outputs": [
    {
     "name": "stdout",
     "output_type": "stream",
     "text": [
      "5\n"
     ]
    }
   ],
   "source": [
    "missing_num([1,2,3,4,6,7,8,9,10])"
   ]
  },
  {
   "cell_type": "code",
   "execution_count": 14,
   "id": "5ef8c03f",
   "metadata": {},
   "outputs": [
    {
     "name": "stdout",
     "output_type": "stream",
     "text": [
      "8\n"
     ]
    }
   ],
   "source": [
    "missing_num([7,2,3,4,1,6,9,10,5])"
   ]
  },
  {
   "cell_type": "code",
   "execution_count": null,
   "id": "045c0521",
   "metadata": {},
   "outputs": [],
   "source": []
  }
 ],
 "metadata": {
  "kernelspec": {
   "display_name": "Python 3 (ipykernel)",
   "language": "python",
   "name": "python3"
  },
  "language_info": {
   "codemirror_mode": {
    "name": "ipython",
    "version": 3
   },
   "file_extension": ".py",
   "mimetype": "text/x-python",
   "name": "python",
   "nbconvert_exporter": "python",
   "pygments_lexer": "ipython3",
   "version": "3.9.12"
  }
 },
 "nbformat": 4,
 "nbformat_minor": 5
}
