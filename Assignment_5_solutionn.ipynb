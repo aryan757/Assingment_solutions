{
 "cells": [
  {
   "cell_type": "markdown",
   "id": "7c4b6fde",
   "metadata": {},
   "source": [
    "# 1. What does an empty dictionary's code look like?"
   ]
  },
  {
   "cell_type": "code",
   "execution_count": 1,
   "id": "c6baf049",
   "metadata": {},
   "outputs": [],
   "source": [
    "empty_dictionary = {}"
   ]
  },
  {
   "cell_type": "code",
   "execution_count": 2,
   "id": "4fccf7f4",
   "metadata": {},
   "outputs": [
    {
     "data": {
      "text/plain": [
       "dict"
      ]
     },
     "execution_count": 2,
     "metadata": {},
     "output_type": "execute_result"
    }
   ],
   "source": [
    "type(empty_dictionary)"
   ]
  },
  {
   "cell_type": "markdown",
   "id": "3054bc7e",
   "metadata": {},
   "source": [
    "create a variable name which will be the name of the dictionary. Then, assign the variable to an empty set of curly braces, {} "
   ]
  },
  {
   "cell_type": "markdown",
   "id": "6dbb71df",
   "metadata": {},
   "source": [
    "# 2. What is the value of a dictionary value with the key 'foo' and the value 42?"
   ]
  },
  {
   "cell_type": "code",
   "execution_count": 3,
   "id": "2dc6890c",
   "metadata": {},
   "outputs": [],
   "source": [
    "dictionary = {'foo':42}"
   ]
  },
  {
   "cell_type": "code",
   "execution_count": 4,
   "id": "1a028acb",
   "metadata": {},
   "outputs": [
    {
     "data": {
      "text/plain": [
       "<function dict.values>"
      ]
     },
     "execution_count": 4,
     "metadata": {},
     "output_type": "execute_result"
    }
   ],
   "source": [
    "dictionary.values"
   ]
  },
  {
   "cell_type": "code",
   "execution_count": 5,
   "id": "8f65ed8e",
   "metadata": {},
   "outputs": [
    {
     "data": {
      "text/plain": [
       "42"
      ]
     },
     "execution_count": 5,
     "metadata": {},
     "output_type": "execute_result"
    }
   ],
   "source": [
    "dictionary['foo']"
   ]
  },
  {
   "cell_type": "markdown",
   "id": "fc4afecb",
   "metadata": {},
   "source": [
    "# 3. What is the most significant distinction between a dictionary and a list?"
   ]
  },
  {
   "cell_type": "code",
   "execution_count": null,
   "id": "ddbc0735",
   "metadata": {},
   "outputs": [],
   "source": [
    "list :\n",
    "    1 . List is created by placing elements in [ ] separated by commas “, “\n",
    "    2 . The indices of list are integers starting from 0\n",
    "    3 . list is mutable \n",
    "    4 . Lists are just like the arrays, declared in other languages\n",
    "    "
   ]
  },
  {
   "cell_type": "code",
   "execution_count": 6,
   "id": "ef1c9b44",
   "metadata": {},
   "outputs": [],
   "source": [
    "list = [1,2,'ineron_assignment',54,6]"
   ]
  },
  {
   "cell_type": "code",
   "execution_count": 7,
   "id": "dfca1ca0",
   "metadata": {},
   "outputs": [
    {
     "data": {
      "text/plain": [
       "[1, 2, 'ineron_assignment', 54, 6]"
      ]
     },
     "execution_count": 7,
     "metadata": {},
     "output_type": "execute_result"
    }
   ],
   "source": [
    "list"
   ]
  },
  {
   "cell_type": "code",
   "execution_count": null,
   "id": "29dbaa07",
   "metadata": {},
   "outputs": [],
   "source": [
    "# dict :\n",
    "    1 . Dictionary is a hashed structure of key and value pairs.\n",
    "    2 . Dictionary is created by placing elements in { } as “key”:”value”, each key value pair is separated by commas “, “\n",
    "    3 . The keys of dictionary can be of any data type.\n",
    "    4 . The elements are accessed via key-values. "
   ]
  },
  {
   "cell_type": "code",
   "execution_count": 8,
   "id": "0b1459d5",
   "metadata": {},
   "outputs": [],
   "source": [
    "dict = {'key1':'aryan','key2':'inerons_assignment'}"
   ]
  },
  {
   "cell_type": "code",
   "execution_count": 9,
   "id": "2cdedd10",
   "metadata": {},
   "outputs": [
    {
     "data": {
      "text/plain": [
       "'aryan'"
      ]
     },
     "execution_count": 9,
     "metadata": {},
     "output_type": "execute_result"
    }
   ],
   "source": [
    "dict['key1']"
   ]
  },
  {
   "cell_type": "markdown",
   "id": "27e7d2a1",
   "metadata": {},
   "source": [
    "# 4. What happens if you try to access spam['foo'] if spam is {'bar': 100}?"
   ]
  },
  {
   "cell_type": "code",
   "execution_count": 10,
   "id": "4033d29e",
   "metadata": {},
   "outputs": [],
   "source": [
    "spam = {'bar':100}"
   ]
  },
  {
   "cell_type": "code",
   "execution_count": 11,
   "id": "68dd5ac9",
   "metadata": {},
   "outputs": [
    {
     "ename": "KeyError",
     "evalue": "'foo'",
     "output_type": "error",
     "traceback": [
      "\u001b[1;31m---------------------------------------------------------------------------\u001b[0m",
      "\u001b[1;31mKeyError\u001b[0m                                  Traceback (most recent call last)",
      "Input \u001b[1;32mIn [11]\u001b[0m, in \u001b[0;36m<cell line: 1>\u001b[1;34m()\u001b[0m\n\u001b[1;32m----> 1\u001b[0m \u001b[43mspam\u001b[49m\u001b[43m[\u001b[49m\u001b[38;5;124;43m'\u001b[39;49m\u001b[38;5;124;43mfoo\u001b[39;49m\u001b[38;5;124;43m'\u001b[39;49m\u001b[43m]\u001b[49m\n",
      "\u001b[1;31mKeyError\u001b[0m: 'foo'"
     ]
    }
   ],
   "source": [
    "spam['f']"
   ]
  },
  {
   "cell_type": "markdown",
   "id": "1da5ed87",
   "metadata": {},
   "source": [
    "it will throw a keyError because there is no key exist with the name 'foo'"
   ]
  },
  {
   "cell_type": "markdown",
   "id": "d544d65d",
   "metadata": {},
   "source": [
    "# 5. If a dictionary is stored in spam, what is the difference between the expressions 'cat' in spam and 'cat' in spam.keys()?"
   ]
  },
  {
   "cell_type": "code",
   "execution_count": 13,
   "id": "3b84c82d",
   "metadata": {},
   "outputs": [],
   "source": [
    "spam = {'cat':\"kitty\"}"
   ]
  },
  {
   "cell_type": "code",
   "execution_count": 15,
   "id": "8d4d52ba",
   "metadata": {},
   "outputs": [
    {
     "data": {
      "text/plain": [
       "True"
      ]
     },
     "execution_count": 15,
     "metadata": {},
     "output_type": "execute_result"
    }
   ],
   "source": [
    "'cat' in spam.keys()"
   ]
  },
  {
   "cell_type": "code",
   "execution_count": 17,
   "id": "d350a879",
   "metadata": {},
   "outputs": [
    {
     "data": {
      "text/plain": [
       "True"
      ]
     },
     "execution_count": 17,
     "metadata": {},
     "output_type": "execute_result"
    }
   ],
   "source": [
    "'cat' in spam"
   ]
  },
  {
   "cell_type": "markdown",
   "id": "1a443a16",
   "metadata": {},
   "source": [
    "There is no difference. The in operator checks whether a value exists as a key in the dictionary."
   ]
  },
  {
   "cell_type": "markdown",
   "id": "91e4896c",
   "metadata": {},
   "source": [
    "# 6. If a dictionary is stored in spam, what is the difference between the expressions 'cat' in spam and 'cat' in spam.values()?"
   ]
  },
  {
   "cell_type": "code",
   "execution_count": 18,
   "id": "5c106550",
   "metadata": {},
   "outputs": [],
   "source": [
    "spam = {'cat':\"kitty\"}"
   ]
  },
  {
   "cell_type": "code",
   "execution_count": 19,
   "id": "bcfc3263",
   "metadata": {},
   "outputs": [
    {
     "data": {
      "text/plain": [
       "True"
      ]
     },
     "execution_count": 19,
     "metadata": {},
     "output_type": "execute_result"
    }
   ],
   "source": [
    "'cat' in spam"
   ]
  },
  {
   "cell_type": "code",
   "execution_count": 21,
   "id": "5d8cb953",
   "metadata": {},
   "outputs": [
    {
     "data": {
      "text/plain": [
       "False"
      ]
     },
     "execution_count": 21,
     "metadata": {},
     "output_type": "execute_result"
    }
   ],
   "source": [
    "'cat' in spam.values() # Checks the value attached with the key ' cat'"
   ]
  },
  {
   "cell_type": "markdown",
   "id": "9532e009",
   "metadata": {},
   "source": [
    "# 7. What is a shortcut for the following code?\n",
    "if 'color' not in spam:\n",
    "spam['color'] = 'black'\n"
   ]
  },
  {
   "cell_type": "code",
   "execution_count": 25,
   "id": "6b8275e9",
   "metadata": {},
   "outputs": [
    {
     "data": {
      "text/plain": [
       "{'cat': 'kitty'}"
      ]
     },
     "execution_count": 25,
     "metadata": {},
     "output_type": "execute_result"
    }
   ],
   "source": [
    "spam"
   ]
  },
  {
   "cell_type": "code",
   "execution_count": 26,
   "id": "b6f3f7b9",
   "metadata": {},
   "outputs": [],
   "source": [
    "if 'color' not in spam :\n",
    "    spam['color'] = 'black'"
   ]
  },
  {
   "cell_type": "code",
   "execution_count": 27,
   "id": "3cf0df15",
   "metadata": {},
   "outputs": [
    {
     "data": {
      "text/plain": [
       "{'cat': 'kitty', 'color': 'black'}"
      ]
     },
     "execution_count": 27,
     "metadata": {},
     "output_type": "execute_result"
    }
   ],
   "source": [
    "spam"
   ]
  },
  {
   "cell_type": "markdown",
   "id": "83ee84ed",
   "metadata": {},
   "source": [
    "#             ##shortcut"
   ]
  },
  {
   "cell_type": "code",
   "execution_count": 29,
   "id": "94bec30b",
   "metadata": {},
   "outputs": [
    {
     "data": {
      "text/plain": [
       "'black'"
      ]
     },
     "execution_count": 29,
     "metadata": {},
     "output_type": "execute_result"
    }
   ],
   "source": [
    "spam.setdefault('color', 'black')"
   ]
  },
  {
   "cell_type": "code",
   "execution_count": 30,
   "id": "de333599",
   "metadata": {},
   "outputs": [
    {
     "data": {
      "text/plain": [
       "{'cat': 'kitty', 'color': 'black'}"
      ]
     },
     "execution_count": 30,
     "metadata": {},
     "output_type": "execute_result"
    }
   ],
   "source": [
    "spam"
   ]
  },
  {
   "cell_type": "markdown",
   "id": "16f623e1",
   "metadata": {},
   "source": [
    "# 8. How do you \"pretty print\" dictionary values using which module and function?"
   ]
  },
  {
   "cell_type": "markdown",
   "id": "f71aa1ff",
   "metadata": {},
   "source": [
    "pprint is a Python module that provides the capability to pretty print Python data types to be more readable. This module also supports pretty-printing dictionary.\n",
    "\n",
    "Within the pprint module there is a function with the same name pprint(), which is the function used to pretty-print the given string or object.\n",
    "\n",
    "First, declare an array of dictionaries. Afterward, pretty print it using the function pprint.pprint()."
   ]
  }
 ],
 "metadata": {
  "kernelspec": {
   "display_name": "Python 3 (ipykernel)",
   "language": "python",
   "name": "python3"
  },
  "language_info": {
   "codemirror_mode": {
    "name": "ipython",
    "version": 3
   },
   "file_extension": ".py",
   "mimetype": "text/x-python",
   "name": "python",
   "nbconvert_exporter": "python",
   "pygments_lexer": "ipython3",
   "version": "3.9.12"
  }
 },
 "nbformat": 4,
 "nbformat_minor": 5
}
