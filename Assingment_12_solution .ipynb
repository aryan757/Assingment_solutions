{
 "cells": [
  {
   "cell_type": "markdown",
   "id": "ff674d06",
   "metadata": {},
   "source": [
    "# 1. In what modes should the PdfFileReader() and PdfFileWriter() File objects will be opened?"
   ]
  },
  {
   "cell_type": "code",
   "execution_count": 1,
   "id": "d15548a5",
   "metadata": {},
   "outputs": [
    {
     "name": "stdout",
     "output_type": "stream",
     "text": [
      "Collecting PyPDF2\n",
      "  Downloading PyPDF2-2.4.2-py3-none-any.whl (199 kB)\n",
      "Requirement already satisfied: typing-extensions in c:\\users\\aryan\\anaconda3\\lib\\site-packages (from PyPDF2) (4.1.1)\n",
      "Installing collected packages: PyPDF2\n",
      "Successfully installed PyPDF2-2.4.2\n"
     ]
    }
   ],
   "source": [
    "!pip install PyPDF2"
   ]
  },
  {
   "cell_type": "code",
   "execution_count": 2,
   "id": "fbf7bd9a",
   "metadata": {},
   "outputs": [],
   "source": [
    "import PyPDF2 as pdf"
   ]
  },
  {
   "cell_type": "code",
   "execution_count": null,
   "id": "3ebef7ba",
   "metadata": {},
   "outputs": [],
   "source": [
    "file = open(\"10th marks_card.pdf\",\"rb\")\n",
    "pdfreader = pdf.PdfFileReader(file)\n",
    "pdfreader.extractText()\n"
   ]
  },
  {
   "cell_type": "markdown",
   "id": "e1bc8635",
   "metadata": {},
   "source": [
    "# 3. What PdfFileReader variable stores the number of pages in the PDF document?"
   ]
  },
  {
   "cell_type": "markdown",
   "id": "35d0d76b",
   "metadata": {},
   "source": [
    "The total number of pages in the document is stored in the numPages attribute of a PdfFileReader object"
   ]
  },
  {
   "cell_type": "code",
   "execution_count": null,
   "id": "0fee4f2a",
   "metadata": {},
   "outputs": [],
   "source": [
    "import PyPDF2\n",
    "pdfFileObj = open('Assignment_ineron.pdf', 'rb')\n",
    "pdfReader = PyPDF2.PdfFileReader(pdfFileObj)\n",
    "pdfReader.numPages\n"
   ]
  },
  {
   "cell_type": "markdown",
   "id": "71804ea9",
   "metadata": {},
   "source": [
    "# 4. If a PdfFileReader object’s PDF is encrypted with the password swordfish, what must you do before you can obtain Page objects from it?"
   ]
  },
  {
   "cell_type": "code",
   "execution_count": null,
   "id": "185229f3",
   "metadata": {},
   "outputs": [],
   "source": [
    "import PyPDF2\n",
    "pdfReader = PyPDF2.PdfFileReader(open('encrypted.pdf', 'rb'))\n",
    "pdfReader.isEncrypted"
   ]
  },
  {
   "cell_type": "code",
   "execution_count": null,
   "id": "e6d36e35",
   "metadata": {},
   "outputs": [],
   "source": [
    "pdfReader = PyPDF2.PdfFileReader(open('encrypted.pdf', 'rb'))\n",
    "pdfReader.decrypt('swordfish')\n",
    " pageObj = pdfReader.getPage(0)"
   ]
  },
  {
   "cell_type": "markdown",
   "id": "122068bc",
   "metadata": {},
   "source": [
    "# 5. What methods do you use to rotate a page?"
   ]
  },
  {
   "cell_type": "code",
   "execution_count": null,
   "id": "158a5e0c",
   "metadata": {},
   "outputs": [],
   "source": [
    "from PyPDF2 import PdfFileReader, PdfFileWriter\n",
    "\n",
    "\n",
    "reader = PdfFileReader(\"ineuron_assignment.pdf\")\n",
    "\n",
    "with open(\"out.pdf\", \"wb\") as fh:\n",
    "    writer = PdfFileWriter(fh)\n",
    "    page = reader.getPage(0)\n",
    "    page.rotateCounterClockwise(90)\n",
    "    writer.addPage(page)"
   ]
  },
  {
   "cell_type": "markdown",
   "id": "c08478b9",
   "metadata": {},
   "source": [
    "# 6. What is the difference between a Run object and a Paragraph object?"
   ]
  },
  {
   "cell_type": "code",
   "execution_count": null,
   "id": "12542a48",
   "metadata": {},
   "outputs": [],
   "source": [
    "RUN OBJECT - "
   ]
  },
  {
   "cell_type": "raw",
   "id": "578c4740",
   "metadata": {},
   "source": [
    "A run is the object most closely associated with inline content; text, pictures, and other items that are flowed between the block-item boundaries within a paragraph."
   ]
  },
  {
   "cell_type": "code",
   "execution_count": null,
   "id": "043090be",
   "metadata": {},
   "outputs": [],
   "source": [
    "PARAGRAPH OBJECT - "
   ]
  },
  {
   "cell_type": "raw",
   "id": "84953dbb",
   "metadata": {},
   "source": [
    "The Paragraph object is a member of the Paragraphs collection. The Paragraphs collection includes all the paragraphs in a selection, range, or document"
   ]
  },
  {
   "cell_type": "markdown",
   "id": "cfce7b8f",
   "metadata": {},
   "source": [
    "# 8. What type of object has bold, underline, italic, strike, and outline variables?"
   ]
  },
  {
   "cell_type": "code",
   "execution_count": null,
   "id": "65a411c4",
   "metadata": {},
   "outputs": [],
   "source": [
    "You can apply a paragraph style right when you create a paragraph:\n",
    "    document.add_paragraph('This is ineuron assignment', style='Bold')\n",
    "    document.add_paragraph('this is aryan', style='italic')\n",
    "    document.add_paragraph('this is aryan', style='strike')\n",
    "    "
   ]
  },
  {
   "cell_type": "markdown",
   "id": "9ba87b6a",
   "metadata": {},
   "source": [
    "# 9. What is the difference between False, True, and None for the bold variable?"
   ]
  },
  {
   "cell_type": "code",
   "execution_count": null,
   "id": "f9d10a6c",
   "metadata": {},
   "outputs": [],
   "source": []
  }
 ],
 "metadata": {
  "kernelspec": {
   "display_name": "Python 3 (ipykernel)",
   "language": "python",
   "name": "python3"
  },
  "language_info": {
   "codemirror_mode": {
    "name": "ipython",
    "version": 3
   },
   "file_extension": ".py",
   "mimetype": "text/x-python",
   "name": "python",
   "nbconvert_exporter": "python",
   "pygments_lexer": "ipython3",
   "version": "3.9.12"
  }
 },
 "nbformat": 4,
 "nbformat_minor": 5
}
