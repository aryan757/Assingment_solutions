{
 "cells": [
  {
   "cell_type": "markdown",
   "id": "53c1ba3b",
   "metadata": {},
   "source": [
    "# 1.\tWrite a Python program to Extract Unique values dictionary values?"
   ]
  },
  {
   "cell_type": "code",
   "execution_count": 1,
   "id": "2ce87247",
   "metadata": {},
   "outputs": [],
   "source": [
    "def ExtractUniqueValues(d):\n",
    "    l = d.values()\n",
    "    list(l)\n",
    "    new = list(l)\n",
    "    new1 = set(new)\n",
    "    print(\"the uniques values are : \\n\")\n",
    "    for i in new1 :\n",
    "        print(i)"
   ]
  },
  {
   "cell_type": "code",
   "execution_count": 2,
   "id": "d786ce94",
   "metadata": {},
   "outputs": [],
   "source": [
    "d = {\"key1\" : \"aryan\" , \"key2\" :\"sudh\" , \"key3\" : \"aryan\"}"
   ]
  },
  {
   "cell_type": "code",
   "execution_count": 3,
   "id": "c5ce0037",
   "metadata": {},
   "outputs": [
    {
     "name": "stdout",
     "output_type": "stream",
     "text": [
      "the uniques values are : \n",
      "\n",
      "aryan\n",
      "sudh\n"
     ]
    }
   ],
   "source": [
    "ExtractUniqueValues(d)"
   ]
  },
  {
   "cell_type": "markdown",
   "id": "4a03085c",
   "metadata": {},
   "source": [
    "# 2.\tWrite a Python program to find the sum of all items in a dictionary?"
   ]
  },
  {
   "cell_type": "code",
   "execution_count": 5,
   "id": "9e83f500",
   "metadata": {},
   "outputs": [],
   "source": [
    "def Sum_of_items(d):\n",
    "    sum = 0\n",
    "    l = list(d.values())\n",
    "    for i in l :\n",
    "        sum = sum + i\n",
    "    else :\n",
    "        return sum\n",
    "    "
   ]
  },
  {
   "cell_type": "code",
   "execution_count": 6,
   "id": "16ef6b47",
   "metadata": {},
   "outputs": [],
   "source": [
    "d = {\"key1\":121212 , \"key2\" :332432423}"
   ]
  },
  {
   "cell_type": "code",
   "execution_count": 7,
   "id": "f0798469",
   "metadata": {},
   "outputs": [
    {
     "data": {
      "text/plain": [
       "332553635"
      ]
     },
     "execution_count": 7,
     "metadata": {},
     "output_type": "execute_result"
    }
   ],
   "source": [
    "Sum_of_items(d)"
   ]
  },
  {
   "cell_type": "markdown",
   "id": "c0159d00",
   "metadata": {},
   "source": [
    "# 3.\tWrite a Python program to Merging two Dictionaries?"
   ]
  },
  {
   "cell_type": "code",
   "execution_count": 8,
   "id": "c2782cf1",
   "metadata": {},
   "outputs": [],
   "source": [
    "def Merge_dict(d,d1):\n",
    "    return d|d1"
   ]
  },
  {
   "cell_type": "code",
   "execution_count": 9,
   "id": "47a0332e",
   "metadata": {},
   "outputs": [],
   "source": [
    "d = {\"key1\" : \"aryan\" , \"key2\" : \"ineuron\"}"
   ]
  },
  {
   "cell_type": "code",
   "execution_count": 10,
   "id": "11cea19b",
   "metadata": {},
   "outputs": [],
   "source": [
    "d1 = {\"key3\" : \"updated\" , \"key4\" :\"SAdsa\"}"
   ]
  },
  {
   "cell_type": "code",
   "execution_count": 11,
   "id": "01d80534",
   "metadata": {},
   "outputs": [
    {
     "data": {
      "text/plain": [
       "{'key1': 'aryan', 'key2': 'ineuron', 'key3': 'updated', 'key4': 'SAdsa'}"
      ]
     },
     "execution_count": 11,
     "metadata": {},
     "output_type": "execute_result"
    }
   ],
   "source": [
    "Merge_dict(d,d1)"
   ]
  },
  {
   "cell_type": "markdown",
   "id": "d177c5ac",
   "metadata": {},
   "source": [
    "# 4.\tWrite a Python program to insertion at the beginning in OrderedDict?"
   ]
  },
  {
   "cell_type": "code",
   "execution_count": 12,
   "id": "4c3861e7",
   "metadata": {},
   "outputs": [],
   "source": [
    "from collections import OrderedDict\n",
    "\n",
    "ordered_dict = OrderedDict([('key1' , '1') , ('key2' , '2')])"
   ]
  },
  {
   "cell_type": "code",
   "execution_count": 13,
   "id": "4c3e7ea0",
   "metadata": {},
   "outputs": [
    {
     "data": {
      "text/plain": [
       "OrderedDict([('key1', '1'), ('key2', '2')])"
      ]
     },
     "execution_count": 13,
     "metadata": {},
     "output_type": "execute_result"
    }
   ],
   "source": [
    "ordered_dict"
   ]
  },
  {
   "cell_type": "code",
   "execution_count": 14,
   "id": "5f6e1042",
   "metadata": {},
   "outputs": [],
   "source": [
    "ordered_dict.update({'updated' : '31'})"
   ]
  },
  {
   "cell_type": "code",
   "execution_count": 15,
   "id": "d5214551",
   "metadata": {},
   "outputs": [
    {
     "data": {
      "text/plain": [
       "OrderedDict([('key1', '1'), ('key2', '2'), ('updated', '31')])"
      ]
     },
     "execution_count": 15,
     "metadata": {},
     "output_type": "execute_result"
    }
   ],
   "source": [
    "ordered_dict"
   ]
  },
  {
   "cell_type": "code",
   "execution_count": 16,
   "id": "28b6fa33",
   "metadata": {},
   "outputs": [],
   "source": [
    "ordered_dict.move_to_end('updated' , last = False)"
   ]
  },
  {
   "cell_type": "code",
   "execution_count": 17,
   "id": "db625093",
   "metadata": {},
   "outputs": [
    {
     "data": {
      "text/plain": [
       "OrderedDict([('updated', '31'), ('key1', '1'), ('key2', '2')])"
      ]
     },
     "execution_count": 17,
     "metadata": {},
     "output_type": "execute_result"
    }
   ],
   "source": [
    "ordered_dict"
   ]
  },
  {
   "cell_type": "markdown",
   "id": "e54dfb5e",
   "metadata": {},
   "source": [
    "# 5.\tWrite a Python program to sort Python Dictionaries by Key or Value?"
   ]
  },
  {
   "cell_type": "code",
   "execution_count": 22,
   "id": "f905bdb8",
   "metadata": {},
   "outputs": [],
   "source": [
    "def Sort_on_key(d):\n",
    "    for i in sorted(d):\n",
    "        print( (i , d[i] ))"
   ]
  },
  {
   "cell_type": "code",
   "execution_count": 19,
   "id": "974b97f5",
   "metadata": {},
   "outputs": [],
   "source": [
    "d3 = {}\n",
    "d3[1] = 23423\n",
    "d3[2] = 42353245324\n",
    "d3[3] = 2\n",
    "d3[4] = 8"
   ]
  },
  {
   "cell_type": "code",
   "execution_count": 20,
   "id": "66c8e03a",
   "metadata": {},
   "outputs": [
    {
     "name": "stdout",
     "output_type": "stream",
     "text": [
      "(1, 23423)\n",
      "(2, 42353245324)\n",
      "(3, 2)\n",
      "(4, 8)\n"
     ]
    }
   ],
   "source": [
    "Self_on_key(d3)"
   ]
  },
  {
   "cell_type": "code",
   "execution_count": 21,
   "id": "01d6593c",
   "metadata": {},
   "outputs": [],
   "source": [
    "## Now  Lets Sort on the basis of Values !!"
   ]
  },
  {
   "cell_type": "code",
   "execution_count": 23,
   "id": "c1101422",
   "metadata": {},
   "outputs": [],
   "source": [
    "def Sort_on_values(d3):\n",
    "    d3.values()\n",
    "    list(d3.values())\n",
    "    lnew = sorted(list(d3.values()))\n",
    "    tnew = tuple(d3.items())\n",
    "    count = 0\n",
    "    for i in lnew :\n",
    "        while(count<len(tnew)):\n",
    "            if i == tnew[count][1]:\n",
    "                print(tnew[count])\n",
    "                count = count + 1\n",
    "            else :\n",
    "                count = count+1\n",
    "        else :\n",
    "            count = 0\n",
    "    \n",
    "    "
   ]
  },
  {
   "cell_type": "code",
   "execution_count": 24,
   "id": "6213ed7c",
   "metadata": {},
   "outputs": [],
   "source": [
    "d = {1: 23423, 2: 42353245324, 3: 2, 4: 8}"
   ]
  },
  {
   "cell_type": "code",
   "execution_count": 25,
   "id": "137bbfb3",
   "metadata": {},
   "outputs": [
    {
     "name": "stdout",
     "output_type": "stream",
     "text": [
      "(3, 2)\n",
      "(4, 8)\n",
      "(1, 23423)\n",
      "(2, 42353245324)\n"
     ]
    }
   ],
   "source": [
    "Sort_on_values(d)"
   ]
  },
  {
   "cell_type": "code",
   "execution_count": null,
   "id": "66bd3129",
   "metadata": {},
   "outputs": [],
   "source": []
  }
 ],
 "metadata": {
  "kernelspec": {
   "display_name": "Python 3 (ipykernel)",
   "language": "python",
   "name": "python3"
  },
  "language_info": {
   "codemirror_mode": {
    "name": "ipython",
    "version": 3
   },
   "file_extension": ".py",
   "mimetype": "text/x-python",
   "name": "python",
   "nbconvert_exporter": "python",
   "pygments_lexer": "ipython3",
   "version": "3.9.12"
  }
 },
 "nbformat": 4,
 "nbformat_minor": 5
}
