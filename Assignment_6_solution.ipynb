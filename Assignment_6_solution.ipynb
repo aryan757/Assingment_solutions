{
 "cells": [
  {
   "cell_type": "markdown",
   "id": "01ba31dc",
   "metadata": {},
   "source": [
    "# 1. What are escape characters, and how do you use them?"
   ]
  },
  {
   "cell_type": "markdown",
   "id": "279803ff",
   "metadata": {},
   "source": [
    "To insert characters that are illegal in a string, use an escape character.\n",
    "\n",
    "An escape character is a backslash \\ followed by the character you want to insert."
   ]
  },
  {
   "cell_type": "code",
   "execution_count": 1,
   "id": "97e24bd5",
   "metadata": {},
   "outputs": [
    {
     "ename": "SyntaxError",
     "evalue": "invalid syntax (2707270809.py, line 1)",
     "output_type": "error",
     "traceback": [
      "\u001b[1;36m  Input \u001b[1;32mIn [1]\u001b[1;36m\u001b[0m\n\u001b[1;33m    mytext = \"hello this is \"aryan\" , currently doing my ineuron assignment\"\u001b[0m\n\u001b[1;37m                             ^\u001b[0m\n\u001b[1;31mSyntaxError\u001b[0m\u001b[1;31m:\u001b[0m invalid syntax\n"
     ]
    }
   ],
   "source": [
    "mytext = \"hello this is \"aryan\" , currently doing my ineuron assignment\""
   ]
  },
  {
   "cell_type": "markdown",
   "id": "a6ae68bc",
   "metadata": {},
   "source": [
    "# To fix this problem , we use escape character \\ "
   ]
  },
  {
   "cell_type": "code",
   "execution_count": 4,
   "id": "d87b7049",
   "metadata": {},
   "outputs": [],
   "source": [
    "mytext = \"hello this is \\\"aryan\\\" , currently doing my ineuron assignment\""
   ]
  },
  {
   "cell_type": "code",
   "execution_count": 5,
   "id": "1d4e006b",
   "metadata": {},
   "outputs": [
    {
     "data": {
      "text/plain": [
       "'hello this is \"aryan\" , currently doing my ineuron assignment'"
      ]
     },
     "execution_count": 5,
     "metadata": {},
     "output_type": "execute_result"
    }
   ],
   "source": [
    "mytext"
   ]
  },
  {
   "cell_type": "code",
   "execution_count": null,
   "id": "4ffe10d8",
   "metadata": {},
   "outputs": [],
   "source": []
  },
  {
   "cell_type": "markdown",
   "id": "cc593379",
   "metadata": {},
   "source": [
    "# 2. What do the escape characters n and t stand for?"
   ]
  },
  {
   "cell_type": "code",
   "execution_count": 6,
   "id": "19a7c464",
   "metadata": {},
   "outputs": [
    {
     "data": {
      "text/plain": [
       "'\\t'"
      ]
     },
     "execution_count": 6,
     "metadata": {},
     "output_type": "execute_result"
    }
   ],
   "source": [
    "\"\\t\" gives the gap between strings"
   ]
  },
  {
   "cell_type": "code",
   "execution_count": 12,
   "id": "6042f1db",
   "metadata": {},
   "outputs": [
    {
     "name": "stdout",
     "output_type": "stream",
     "text": [
      "hello world \t this is me\n"
     ]
    }
   ],
   "source": [
    "print(\"hello world \\t this is me\")"
   ]
  },
  {
   "cell_type": "code",
   "execution_count": 13,
   "id": "8f214b51",
   "metadata": {},
   "outputs": [
    {
     "name": "stdout",
     "output_type": "stream",
     "text": [
      "hello world \n",
      " this is me\n"
     ]
    }
   ],
   "source": [
    "print(\"hello world \\n this is me\")"
   ]
  },
  {
   "cell_type": "markdown",
   "id": "6b75122f",
   "metadata": {},
   "source": [
    "# 3. What is the way to include backslash characters in a string?"
   ]
  },
  {
   "cell_type": "code",
   "execution_count": 15,
   "id": "4b2627ea",
   "metadata": {},
   "outputs": [
    {
     "name": "stdout",
     "output_type": "stream",
     "text": [
      "hello world \\ this is me\n"
     ]
    }
   ],
   "source": [
    "print(\"hello world \\\\ this is me\")"
   ]
  },
  {
   "cell_type": "markdown",
   "id": "98868a9b",
   "metadata": {},
   "source": [
    "\"\\\\\" including this ! will surely gives user a chance to include '\\' backslash in a character"
   ]
  },
  {
   "cell_type": "markdown",
   "id": "1df1e29b",
   "metadata": {},
   "source": [
    "# 4. The string \"Howl's Moving Castle\" is a correct value. Why isn't the single quote character in the word Howl's not escaped a problem?"
   ]
  },
  {
   "cell_type": "code",
   "execution_count": 16,
   "id": "c49a325a",
   "metadata": {},
   "outputs": [],
   "source": [
    "text = \"Howl's Moving Castle\" "
   ]
  },
  {
   "cell_type": "code",
   "execution_count": 17,
   "id": "ac8ada40",
   "metadata": {},
   "outputs": [
    {
     "data": {
      "text/plain": [
       "\"Howl's Moving Castle\""
      ]
     },
     "execution_count": 17,
     "metadata": {},
     "output_type": "execute_result"
    }
   ],
   "source": [
    "text"
   ]
  },
  {
   "cell_type": "markdown",
   "id": "55f730c3",
   "metadata": {},
   "source": [
    "because it is syntactically allowed , here compiler will not confuse , to examine the character . it will execute smoothly ."
   ]
  },
  {
   "cell_type": "markdown",
   "id": "a940ec6e",
   "metadata": {},
   "source": [
    "But , if it was like this \"how\"s\" moving castle\" -- > this will show an error "
   ]
  },
  {
   "cell_type": "markdown",
   "id": "3ea566ab",
   "metadata": {},
   "source": [
    "# 5. How do you write a string of newlines if you don't want to use the n character?"
   ]
  },
  {
   "cell_type": "code",
   "execution_count": 18,
   "id": "9ce53f09",
   "metadata": {},
   "outputs": [],
   "source": [
    "text = \"my name is aryan , i am currently enrolled in fsds 2022 batch , my instructor is sudhanshu sir\""
   ]
  },
  {
   "cell_type": "code",
   "execution_count": 19,
   "id": "a3c2ae4d",
   "metadata": {},
   "outputs": [
    {
     "data": {
      "text/plain": [
       "'my name is aryan , i am currently enrolled in fsds 2022 batch , my instructor is sudhanshu sir'"
      ]
     },
     "execution_count": 19,
     "metadata": {},
     "output_type": "execute_result"
    }
   ],
   "source": [
    "text"
   ]
  },
  {
   "cell_type": "code",
   "execution_count": 21,
   "id": "7790f23c",
   "metadata": {},
   "outputs": [
    {
     "data": {
      "text/plain": [
       "['my name is aryan ',\n",
       " ' i am currently enrolled in fsds 2022 batch ',\n",
       " ' my instructor is sudhanshu sir']"
      ]
     },
     "execution_count": 21,
     "metadata": {},
     "output_type": "execute_result"
    }
   ],
   "source": [
    "text.split(\",\")"
   ]
  },
  {
   "cell_type": "markdown",
   "id": "61b3db30",
   "metadata": {},
   "source": [
    "# 6. What are the values of the given expressions?\n",
    "\n"
   ]
  },
  {
   "cell_type": "code",
   "execution_count": null,
   "id": "419caea8",
   "metadata": {},
   "outputs": [],
   "source": [
    "'Hello, world!'[1]\n",
    "'Hello, world!'[0:5]\n",
    "'Hello, world!'[:5]\n",
    "'Hello, world!'[3:]\n"
   ]
  },
  {
   "cell_type": "code",
   "execution_count": 22,
   "id": "730da7db",
   "metadata": {},
   "outputs": [
    {
     "data": {
      "text/plain": [
       "'e'"
      ]
     },
     "execution_count": 22,
     "metadata": {},
     "output_type": "execute_result"
    }
   ],
   "source": [
    "'Hello, world!'[1]"
   ]
  },
  {
   "cell_type": "code",
   "execution_count": 23,
   "id": "bb133714",
   "metadata": {},
   "outputs": [
    {
     "data": {
      "text/plain": [
       "'Hello'"
      ]
     },
     "execution_count": 23,
     "metadata": {},
     "output_type": "execute_result"
    }
   ],
   "source": [
    "'Hello, world!'[0:5]"
   ]
  },
  {
   "cell_type": "code",
   "execution_count": 24,
   "id": "925f0ccb",
   "metadata": {},
   "outputs": [
    {
     "data": {
      "text/plain": [
       "'Hello'"
      ]
     },
     "execution_count": 24,
     "metadata": {},
     "output_type": "execute_result"
    }
   ],
   "source": [
    "'Hello, world!'[:5]"
   ]
  },
  {
   "cell_type": "code",
   "execution_count": 25,
   "id": "c3b8c2e2",
   "metadata": {},
   "outputs": [
    {
     "data": {
      "text/plain": [
       "'lo, world!'"
      ]
     },
     "execution_count": 25,
     "metadata": {},
     "output_type": "execute_result"
    }
   ],
   "source": [
    "'Hello, world!'[3:]"
   ]
  },
  {
   "cell_type": "markdown",
   "id": "96dfc1c5",
   "metadata": {},
   "source": [
    "# 7. What are the values of the following expressions?\n",
    "\n"
   ]
  },
  {
   "cell_type": "markdown",
   "id": "50e50314",
   "metadata": {},
   "source": [
    "'Hello'.upper()\n",
    "'Hello'.upper().isupper()\n",
    "'Hello'.upper().lower()\n"
   ]
  },
  {
   "cell_type": "code",
   "execution_count": null,
   "id": "3d45f36f",
   "metadata": {},
   "outputs": [],
   "source": []
  },
  {
   "cell_type": "code",
   "execution_count": 26,
   "id": "21af5a2c",
   "metadata": {},
   "outputs": [
    {
     "data": {
      "text/plain": [
       "'HELLO'"
      ]
     },
     "execution_count": 26,
     "metadata": {},
     "output_type": "execute_result"
    }
   ],
   "source": [
    "'Hello'.upper()"
   ]
  },
  {
   "cell_type": "code",
   "execution_count": 27,
   "id": "3697f490",
   "metadata": {},
   "outputs": [
    {
     "data": {
      "text/plain": [
       "True"
      ]
     },
     "execution_count": 27,
     "metadata": {},
     "output_type": "execute_result"
    }
   ],
   "source": [
    "'Hello'.upper().isupper()"
   ]
  },
  {
   "cell_type": "code",
   "execution_count": 28,
   "id": "4392b0bc",
   "metadata": {},
   "outputs": [
    {
     "data": {
      "text/plain": [
       "'hello'"
      ]
     },
     "execution_count": 28,
     "metadata": {},
     "output_type": "execute_result"
    }
   ],
   "source": [
    "'Hello'.upper().lower()"
   ]
  },
  {
   "cell_type": "markdown",
   "id": "4d0aead8",
   "metadata": {},
   "source": [
    "# 8. What are the values of the following expressions?\n",
    "\n"
   ]
  },
  {
   "cell_type": "markdown",
   "id": "712f45e2",
   "metadata": {},
   "source": [
    "'Remember, remember, the fifth of July.'.split()\n",
    "'-'.join('There can only one.'.split())\n"
   ]
  },
  {
   "cell_type": "code",
   "execution_count": 29,
   "id": "0d5c50a4",
   "metadata": {},
   "outputs": [
    {
     "data": {
      "text/plain": [
       "'There-can-only-one.'"
      ]
     },
     "execution_count": 29,
     "metadata": {},
     "output_type": "execute_result"
    }
   ],
   "source": [
    "'Remember, remember, the fifth of July.'.split()\n",
    "'-'.join('There can only one.'.split())"
   ]
  },
  {
   "cell_type": "markdown",
   "id": "66d2f766",
   "metadata": {},
   "source": [
    "# 9. What are the methods for right-justifying, left-justifying, and centering a string?"
   ]
  },
  {
   "cell_type": "code",
   "execution_count": 30,
   "id": "32ade01c",
   "metadata": {},
   "outputs": [],
   "source": [
    "mytext = \"i love to go hawai\""
   ]
  },
  {
   "cell_type": "code",
   "execution_count": 37,
   "id": "2fb405fa",
   "metadata": {},
   "outputs": [
    {
     "name": "stdout",
     "output_type": "stream",
     "text": [
      "#i love to go hawai#\n"
     ]
    }
   ],
   "source": [
    "print(mytext.center(20,\"#\"))  ## centre"
   ]
  },
  {
   "cell_type": "code",
   "execution_count": 36,
   "id": "406b1a51",
   "metadata": {},
   "outputs": [
    {
     "name": "stdout",
     "output_type": "stream",
     "text": [
      "i love to go hawai**********************\n"
     ]
    }
   ],
   "source": [
    "print(mytext.ljust(40 , '*'))"
   ]
  },
  {
   "cell_type": "code",
   "execution_count": 38,
   "id": "7d59bb1e",
   "metadata": {},
   "outputs": [
    {
     "name": "stdout",
     "output_type": "stream",
     "text": [
      "--------------------------------i love to go hawai\n"
     ]
    }
   ],
   "source": [
    "print(mytext.rjust(50,\"-\"))"
   ]
  },
  {
   "cell_type": "markdown",
   "id": "bc40b6fc",
   "metadata": {},
   "source": [
    "# 10. What is the best way to remove whitespace characters from the start or end?"
   ]
  },
  {
   "cell_type": "code",
   "execution_count": 39,
   "id": "87e78d20",
   "metadata": {},
   "outputs": [],
   "source": [
    "string = \"  hello world , this is me aryan  \""
   ]
  },
  {
   "cell_type": "code",
   "execution_count": 40,
   "id": "30be2d42",
   "metadata": {},
   "outputs": [
    {
     "data": {
      "text/plain": [
       "'  hello world , this is me aryan  '"
      ]
     },
     "execution_count": 40,
     "metadata": {},
     "output_type": "execute_result"
    }
   ],
   "source": [
    "string"
   ]
  },
  {
   "cell_type": "code",
   "execution_count": 42,
   "id": "08ba7904",
   "metadata": {},
   "outputs": [
    {
     "data": {
      "text/plain": [
       "'hello world , this is me aryan'"
      ]
     },
     "execution_count": 42,
     "metadata": {},
     "output_type": "execute_result"
    }
   ],
   "source": [
    "string.strip()    ## removes the white space character from the both starting and end !!"
   ]
  },
  {
   "cell_type": "code",
   "execution_count": null,
   "id": "219229d5",
   "metadata": {},
   "outputs": [],
   "source": []
  }
 ],
 "metadata": {
  "kernelspec": {
   "display_name": "Python 3 (ipykernel)",
   "language": "python",
   "name": "python3"
  },
  "language_info": {
   "codemirror_mode": {
    "name": "ipython",
    "version": 3
   },
   "file_extension": ".py",
   "mimetype": "text/x-python",
   "name": "python",
   "nbconvert_exporter": "python",
   "pygments_lexer": "ipython3",
   "version": "3.9.12"
  }
 },
 "nbformat": 4,
 "nbformat_minor": 5
}
