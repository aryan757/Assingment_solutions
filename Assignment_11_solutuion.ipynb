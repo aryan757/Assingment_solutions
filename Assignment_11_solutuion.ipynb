{
 "cells": [
  {
   "cell_type": "markdown",
   "id": "5024d62e",
   "metadata": {},
   "source": [
    "# 1. Create an assert statement that throws an AssertionError if the variable spam is a negative integer."
   ]
  },
  {
   "cell_type": "code",
   "execution_count": null,
   "id": "4c22fa5e",
   "metadata": {},
   "outputs": [],
   "source": [
    "1.Asserion is a programming concept .\n",
    "2.it is based on declaring the condition to be true\n",
    "3.it uses Assert statement \n",
    "4.if the condirion true , its fine \n",
    "5.if not , then it will throw an assertion error"
   ]
  },
  {
   "cell_type": "markdown",
   "id": "ab59f8a5",
   "metadata": {},
   "source": []
  },
  {
   "cell_type": "code",
   "execution_count": 7,
   "id": "51dccb92",
   "metadata": {},
   "outputs": [
    {
     "name": "stdout",
     "output_type": "stream",
     "text": [
      "enter the spam value9\n",
      "23 9\n"
     ]
    }
   ],
   "source": [
    "try :\n",
    "    spam1 = 23\n",
    "    spam = int(input(\"enter the spam value\"))\n",
    "    assert spam>=0 , \"invalid\"\n",
    "    print(spam1,spam)\n",
    "except Exception as e :\n",
    "    print(msg)"
   ]
  },
  {
   "cell_type": "markdown",
   "id": "593e9e3f",
   "metadata": {},
   "source": [
    "# 2. Write an assert statement that triggers an AssertionError if the variables eggs and bacon contain strings that are the same as each other, even if their cases are different (that is, 'hello' and 'hello' are considered the same, and 'goodbye' and 'GOODbye' are also considered the same)."
   ]
  },
  {
   "cell_type": "raw",
   "id": "9f370929",
   "metadata": {},
   "source": [
    "\n"
   ]
  },
  {
   "cell_type": "code",
   "execution_count": 9,
   "id": "b492e713",
   "metadata": {},
   "outputs": [],
   "source": [
    "string = \"hello\""
   ]
  },
  {
   "cell_type": "code",
   "execution_count": 10,
   "id": "c7c1abd2",
   "metadata": {},
   "outputs": [
    {
     "data": {
      "text/plain": [
       "'hello'"
      ]
     },
     "execution_count": 10,
     "metadata": {},
     "output_type": "execute_result"
    }
   ],
   "source": [
    "string"
   ]
  },
  {
   "cell_type": "code",
   "execution_count": 11,
   "id": "e8893165",
   "metadata": {},
   "outputs": [
    {
     "data": {
      "text/plain": [
       "'HELLO'"
      ]
     },
     "execution_count": 11,
     "metadata": {},
     "output_type": "execute_result"
    }
   ],
   "source": [
    "string.upper()"
   ]
  },
  {
   "cell_type": "code",
   "execution_count": 12,
   "id": "13d5a7a0",
   "metadata": {},
   "outputs": [
    {
     "name": "stdout",
     "output_type": "stream",
     "text": [
      "enter first string !hello\n",
      "enter second similar string !HELLO\n"
     ]
    },
    {
     "ename": "NameError",
     "evalue": "name 'msg' is not defined",
     "output_type": "error",
     "traceback": [
      "\u001b[1;31m---------------------------------------------------------------------------\u001b[0m",
      "\u001b[1;31mAssertionError\u001b[0m                            Traceback (most recent call last)",
      "Input \u001b[1;32mIn [12]\u001b[0m, in \u001b[0;36m<cell line: 1>\u001b[1;34m()\u001b[0m\n\u001b[0;32m      3\u001b[0m spam1 \u001b[38;5;241m=\u001b[39m \u001b[38;5;28minput\u001b[39m(\u001b[38;5;124m\"\u001b[39m\u001b[38;5;124menter second similar string !\u001b[39m\u001b[38;5;124m\"\u001b[39m)\n\u001b[1;32m----> 4\u001b[0m \u001b[38;5;28;01massert\u001b[39;00m spam\u001b[38;5;241m==\u001b[39mspam\u001b[38;5;241m.\u001b[39mupper() , \u001b[38;5;124m\"\u001b[39m\u001b[38;5;124minvalid\u001b[39m\u001b[38;5;124m\"\u001b[39m\n\u001b[0;32m      5\u001b[0m \u001b[38;5;28mprint\u001b[39m(spam1,spam)\n",
      "\u001b[1;31mAssertionError\u001b[0m: invalid",
      "\nDuring handling of the above exception, another exception occurred:\n",
      "\u001b[1;31mNameError\u001b[0m                                 Traceback (most recent call last)",
      "Input \u001b[1;32mIn [12]\u001b[0m, in \u001b[0;36m<cell line: 1>\u001b[1;34m()\u001b[0m\n\u001b[0;32m      5\u001b[0m     \u001b[38;5;28mprint\u001b[39m(spam1,spam)\n\u001b[0;32m      6\u001b[0m \u001b[38;5;28;01mexcept\u001b[39;00m \u001b[38;5;167;01mException\u001b[39;00m \u001b[38;5;28;01mas\u001b[39;00m e :\n\u001b[1;32m----> 7\u001b[0m     \u001b[38;5;28mprint\u001b[39m(\u001b[43mmsg\u001b[49m)\n",
      "\u001b[1;31mNameError\u001b[0m: name 'msg' is not defined"
     ]
    }
   ],
   "source": [
    "try :\n",
    "    spam = input(\"enter first string !\")\n",
    "    spam1 = input(\"enter second similar string !\")\n",
    "    assert spam==spam.upper() , \"invalid\"\n",
    "    print(spam1,spam)\n",
    "except Exception as e :\n",
    "    print(msg)"
   ]
  },
  {
   "cell_type": "markdown",
   "id": "5f2387c2",
   "metadata": {},
   "source": [
    "# 3. Create an assert statement that throws an AssertionError every time."
   ]
  },
  {
   "cell_type": "code",
   "execution_count": 18,
   "id": "829268fc",
   "metadata": {},
   "outputs": [
    {
     "ename": "NameError",
     "evalue": "name 'msg' is not defined",
     "output_type": "error",
     "traceback": [
      "\u001b[1;31m---------------------------------------------------------------------------\u001b[0m",
      "\u001b[1;31mAssertionError\u001b[0m                            Traceback (most recent call last)",
      "Input \u001b[1;32mIn [18]\u001b[0m, in \u001b[0;36m<cell line: 1>\u001b[1;34m()\u001b[0m\n\u001b[0;32m      1\u001b[0m \u001b[38;5;28;01mtry\u001b[39;00m :\n\u001b[1;32m----> 3\u001b[0m     \u001b[38;5;28;01massert\u001b[39;00m \u001b[38;5;28mtype\u001b[39m(\u001b[38;5;124m\"\u001b[39m\u001b[38;5;124mstring\u001b[39m\u001b[38;5;124m\"\u001b[39m)\u001b[38;5;241m==\u001b[39m\u001b[38;5;28mint\u001b[39m , \u001b[38;5;124m\"\u001b[39m\u001b[38;5;124minvalid\u001b[39m\u001b[38;5;124m\"\u001b[39m\n\u001b[0;32m      4\u001b[0m \u001b[38;5;28;01mexcept\u001b[39;00m \u001b[38;5;167;01mException\u001b[39;00m \u001b[38;5;28;01mas\u001b[39;00m e :\n",
      "\u001b[1;31mAssertionError\u001b[0m: invalid",
      "\nDuring handling of the above exception, another exception occurred:\n",
      "\u001b[1;31mNameError\u001b[0m                                 Traceback (most recent call last)",
      "Input \u001b[1;32mIn [18]\u001b[0m, in \u001b[0;36m<cell line: 1>\u001b[1;34m()\u001b[0m\n\u001b[0;32m      3\u001b[0m     \u001b[38;5;28;01massert\u001b[39;00m \u001b[38;5;28mtype\u001b[39m(\u001b[38;5;124m\"\u001b[39m\u001b[38;5;124mstring\u001b[39m\u001b[38;5;124m\"\u001b[39m)\u001b[38;5;241m==\u001b[39m\u001b[38;5;28mint\u001b[39m , \u001b[38;5;124m\"\u001b[39m\u001b[38;5;124minvalid\u001b[39m\u001b[38;5;124m\"\u001b[39m\n\u001b[0;32m      4\u001b[0m \u001b[38;5;28;01mexcept\u001b[39;00m \u001b[38;5;167;01mException\u001b[39;00m \u001b[38;5;28;01mas\u001b[39;00m e :\n\u001b[1;32m----> 5\u001b[0m     \u001b[38;5;28mprint\u001b[39m(\u001b[43mmsg\u001b[49m)\n",
      "\u001b[1;31mNameError\u001b[0m: name 'msg' is not defined"
     ]
    }
   ],
   "source": [
    "try :\n",
    "    \n",
    "    assert type(\"string\")==int , \"invalid\"\n",
    "except Exception as e :\n",
    "    print(msg)"
   ]
  },
  {
   "cell_type": "markdown",
   "id": "45b4975c",
   "metadata": {},
   "source": [
    "# assert type(\"string\")==int , \"invalid\""
   ]
  },
  {
   "cell_type": "markdown",
   "id": "1a36b957",
   "metadata": {},
   "source": [
    "here , the above assert statement will always gives you an assertion error , because the condition itself is invalid always "
   ]
  },
  {
   "cell_type": "markdown",
   "id": "7586c857",
   "metadata": {},
   "source": [
    "# 4. What are the two lines that must be present in your software in order to call logging.debug()?"
   ]
  },
  {
   "cell_type": "code",
   "execution_count": null,
   "id": "20e7f0e7",
   "metadata": {},
   "outputs": [],
   "source": [
    "import logging\n",
    "logging.basicConfig(filename=\"test5.log\", level = logging.DEBUG ,format =  '%(asctime)s %(name)s %(levelname)s %(message)s')\n"
   ]
  },
  {
   "cell_type": "markdown",
   "id": "eb831067",
   "metadata": {},
   "source": [
    "# 5. What are the two lines that your program must have in order to have logging.debug() send a logging message to a file named programLog.txt?"
   ]
  },
  {
   "cell_type": "code",
   "execution_count": null,
   "id": "1b9c18cc",
   "metadata": {},
   "outputs": [],
   "source": [
    "import logging\n",
    "logging.basicConfig(filename=\"programLog.txt\", level = logging.DEBUG ,format =  '%(asctime)s %(name)s %(levelname)s %(message)s')\n"
   ]
  },
  {
   "cell_type": "markdown",
   "id": "3caee339",
   "metadata": {},
   "source": [
    "# 6. What are the five levels of logging?"
   ]
  },
  {
   "cell_type": "markdown",
   "id": "5502e522",
   "metadata": {},
   "source": [
    "The five levels of logging is presented below :"
   ]
  },
  {
   "cell_type": "code",
   "execution_count": null,
   "id": "0fcdde14",
   "metadata": {},
   "outputs": [],
   "source": [
    "LEVEL       NUMEREIC VALUE\n",
    "'CRITICAL'   50\n",
    "'ERROR'      40\n",
    "'WARNING'    30\n",
    "'INFO'       20\n",
    "'DEBUG'      10\n"
   ]
  },
  {
   "cell_type": "markdown",
   "id": "5121b914",
   "metadata": {},
   "source": [
    "# 7. What line of code would you add to your software to disable all logging messages?"
   ]
  },
  {
   "cell_type": "code",
   "execution_count": null,
   "id": "934e17bb",
   "metadata": {},
   "outputs": [],
   "source": [
    "import logging \n",
    "logging.basicConfig(filename=\"test5.log\", level = logging.DEBUG ,format =  '%(asctime)s %(name)s %(levelname)s %(message)s')\n",
    "logger = logging.getLogger('test5.log')\n",
    "logger.propagate = False"
   ]
  },
  {
   "cell_type": "code",
   "execution_count": null,
   "id": "ba294fc6",
   "metadata": {},
   "outputs": [],
   "source": [
    "Now after this code , no logging information will be capture inside the test5.log file "
   ]
  },
  {
   "cell_type": "markdown",
   "id": "6da7c09a",
   "metadata": {},
   "source": [
    "# 8.Why is using logging messages better than using print() to display the same message?"
   ]
  },
  {
   "cell_type": "code",
   "execution_count": null,
   "id": "f2e6d7e9",
   "metadata": {},
   "outputs": [],
   "source": [
    "The logging package has a lot of useful features:\n",
    "\n",
    "1 . Easy to see where and when (even what line no.) a logging call is being made from.\n",
    "2. You can log to files, sockets, pretty much anything, all at the same time.\n",
    "3 . You can differentiate your logging based on severity.\n",
    "4 . Print doesn't have any of these.\n",
    "\n",
    "Also, if your project is meant to be imported by other python tools, it's bad practice for your package to print things to stdout, since the user likely won't know where the print messages are coming from. With logging, users of your package can choose whether or not they want to propogate logging messages from your tool or not."
   ]
  },
  {
   "cell_type": "markdown",
   "id": "6a3c5cd0",
   "metadata": {},
   "source": [
    "# 9. What are the differences between the Step Over, Step In, and Step Out buttons in the debugger?"
   ]
  },
  {
   "cell_type": "markdown",
   "id": "12d6803c",
   "metadata": {},
   "source": [
    "Step over :\n",
    "    A method is about to be invoked, but you're not interested in debugging this particular invocation, so you want the debugger to execute that method completely as one entire step.\n",
    "    \n",
    "Step In :\n",
    "    A method is about to be invoked, and you want to debug into the code of that method, so the next step is to go into that method and continue debugging step-by-step.\n",
    "    \n",
    "Step Out :\n",
    "    This command lets the application execute until the currently executed operation implementation is returned.\n",
    "   "
   ]
  },
  {
   "cell_type": "markdown",
   "id": "4c057371",
   "metadata": {},
   "source": [
    "# 10.After you click Continue, when will the debugger stop ?"
   ]
  },
  {
   "cell_type": "markdown",
   "id": "e5f570c8",
   "metadata": {},
   "source": [
    "Continuing means resuming program execution until your program completes normally.\n"
   ]
  },
  {
   "cell_type": "markdown",
   "id": "54c8ebb9",
   "metadata": {},
   "source": [
    "# 11. What is the concept of a breakpoint?"
   ]
  },
  {
   "cell_type": "markdown",
   "id": "251fd7ed",
   "metadata": {},
   "source": [
    "You set breakpoints wherever you want to pause debugger execution. "
   ]
  },
  {
   "cell_type": "code",
   "execution_count": null,
   "id": "8df7807a",
   "metadata": {},
   "outputs": [],
   "source": []
  }
 ],
 "metadata": {
  "kernelspec": {
   "display_name": "Python 3 (ipykernel)",
   "language": "python",
   "name": "python3"
  },
  "language_info": {
   "codemirror_mode": {
    "name": "ipython",
    "version": 3
   },
   "file_extension": ".py",
   "mimetype": "text/x-python",
   "name": "python",
   "nbconvert_exporter": "python",
   "pygments_lexer": "ipython3",
   "version": "3.9.12"
  }
 },
 "nbformat": 4,
 "nbformat_minor": 5
}
