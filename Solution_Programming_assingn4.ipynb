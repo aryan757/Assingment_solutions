{
 "cells": [
  {
   "cell_type": "markdown",
   "id": "11912f22",
   "metadata": {},
   "source": [
    "# 1.\tWrite a Python Program to Find the Factorial of a Number?"
   ]
  },
  {
   "cell_type": "code",
   "execution_count": 1,
   "id": "15c20442",
   "metadata": {},
   "outputs": [],
   "source": [
    "def fact(num):\n",
    "    fact = 1\n",
    "    for i in range(1,num):\n",
    "        fact = fact * (num-(i-1))\n",
    "    else :\n",
    "        return fact\n",
    "        "
   ]
  },
  {
   "cell_type": "code",
   "execution_count": 3,
   "id": "371593d8",
   "metadata": {},
   "outputs": [
    {
     "name": "stdout",
     "output_type": "stream",
     "text": [
      "enter the number:5\n",
      "the factorial of the given number is\n",
      " 120\n"
     ]
    }
   ],
   "source": [
    "number = int(input(\"enter the number:\"))\n",
    "print(\"the factorial of the given number is\\n\" , fact(number) )"
   ]
  },
  {
   "cell_type": "markdown",
   "id": "1c888639",
   "metadata": {},
   "source": [
    "# 2.\tWrite a Python Program to Display the multiplication Table?"
   ]
  },
  {
   "cell_type": "code",
   "execution_count": 5,
   "id": "32df1c1f",
   "metadata": {},
   "outputs": [
    {
     "name": "stdout",
     "output_type": "stream",
     "text": [
      "enter a number\n",
      "4\n",
      "4 x 1 = 4\n",
      "4 x 2 = 8\n",
      "4 x 3 = 12\n",
      "4 x 4 = 16\n",
      "4 x 5 = 20\n",
      "4 x 6 = 24\n",
      "4 x 7 = 28\n",
      "4 x 8 = 32\n",
      "4 x 9 = 36\n",
      "4 x 10 = 40\n"
     ]
    }
   ],
   "source": [
    "# Multiplication table (from 1 to 10) in Python\n",
    "\n",
    "num = int(input(\"enter a number\\n\"))\n",
    "\n",
    "# To take input from the user\n",
    "# num = int(input(\"Display multiplication table of? \"))\n",
    "\n",
    "# Iterate 10 times from i = 1 to 10\n",
    "for i in range(1, 11):\n",
    "   print(num, 'x', i, '=', num*i)\n"
   ]
  },
  {
   "cell_type": "markdown",
   "id": "3a94fd97",
   "metadata": {},
   "source": [
    "# 3.\tWrite a Python Program to Print the Fibonacci sequence?"
   ]
  },
  {
   "cell_type": "code",
   "execution_count": 12,
   "id": "fc8361d2",
   "metadata": {},
   "outputs": [],
   "source": [
    "def fibo(num):\n",
    "    a = 0 \n",
    "    b = 1 \n",
    "    print(a)\n",
    "    for i in range(num) :\n",
    "        a,b = b , (a+b)\n",
    "        print(a)\n",
    "        "
   ]
  },
  {
   "cell_type": "code",
   "execution_count": 13,
   "id": "da5b7ae8",
   "metadata": {},
   "outputs": [
    {
     "name": "stdout",
     "output_type": "stream",
     "text": [
      "enter the number 6\n",
      "0\n",
      "1\n",
      "1\n",
      "2\n",
      "3\n",
      "5\n",
      "8\n"
     ]
    }
   ],
   "source": [
    "number  = int(input(\"enter the number \"))\n",
    "fibo(number)"
   ]
  },
  {
   "cell_type": "markdown",
   "id": "e08608d2",
   "metadata": {},
   "source": [
    "# 4.\tWrite a Python Program to Check Armstrong Number?"
   ]
  },
  {
   "cell_type": "code",
   "execution_count": 46,
   "id": "e142c7bd",
   "metadata": {},
   "outputs": [],
   "source": [
    "def Check_armstrong(num):\n",
    "    if num == 1:\n",
    "        return \"The given number is Armstrong number\"\n",
    "    else :\n",
    "        \n",
    "        value = num \n",
    "        sum = 0\n",
    "        while num != 0:\n",
    "            sum = sum + ((num%10)**3) + (((num//10)%10)**3)\n",
    "            num  = num // 10\n",
    "            num = num //10\n",
    "\n",
    "        if sum == value :\n",
    "            return \"The given number is armstrong number\"\n",
    "        else :\n",
    "            return \"The number is not armstrong\"\n",
    "    "
   ]
  },
  {
   "cell_type": "code",
   "execution_count": 47,
   "id": "c713c965",
   "metadata": {},
   "outputs": [
    {
     "name": "stdout",
     "output_type": "stream",
     "text": [
      "enter a number 372\n"
     ]
    },
    {
     "data": {
      "text/plain": [
       "'The number is not armstrong'"
      ]
     },
     "execution_count": 47,
     "metadata": {},
     "output_type": "execute_result"
    }
   ],
   "source": [
    "number = int(input(\"enter a number \"))\n",
    "Check_armstrong(number)\n"
   ]
  },
  {
   "cell_type": "markdown",
   "id": "cc61ab38",
   "metadata": {},
   "source": [
    "# 5.\tWrite a Python Program to Find Armstrong Number in an Interval?"
   ]
  },
  {
   "cell_type": "code",
   "execution_count": 62,
   "id": "00004fa3",
   "metadata": {},
   "outputs": [],
   "source": [
    "def Check_armstrong(num):\n",
    "    if num == 1:\n",
    "        return True\n",
    "    \n",
    "    else :\n",
    "        \n",
    "        value = num \n",
    "        sum = 0\n",
    "        while num != 0:\n",
    "            sum = sum + ((num%10)**3) + (((num//10)%10)**3)\n",
    "            num  = num // 10\n",
    "            num = num //10\n",
    "\n",
    "        if sum == value :\n",
    "            return True\n",
    "        else :\n",
    "            return False\n",
    "    "
   ]
  },
  {
   "cell_type": "code",
   "execution_count": 64,
   "id": "82b2299a",
   "metadata": {},
   "outputs": [
    {
     "name": "stdout",
     "output_type": "stream",
     "text": [
      "enter the interval !!5666\n",
      "The armstrong number which lie in this range is \n",
      "\n",
      "153\n",
      "370\n",
      "371\n",
      "407\n"
     ]
    }
   ],
   "source": [
    "interval = int(input(\"enter the interval !!\"))\n",
    "print(\"The armstrong number which lie in this range is \\n\")\n",
    "for i in range(11, interval):\n",
    "    if Check_armstrong(i) == True :\n",
    "        print(i)\n",
    "        continue\n",
    "        \n",
    "    else :\n",
    "        continue\n",
    "        "
   ]
  },
  {
   "cell_type": "markdown",
   "id": "76c49727",
   "metadata": {},
   "source": [
    "# 6.\tWrite a Python Program to Find the Sum of Natural Numbers?"
   ]
  },
  {
   "cell_type": "code",
   "execution_count": 65,
   "id": "b5051006",
   "metadata": {},
   "outputs": [
    {
     "name": "stdout",
     "output_type": "stream",
     "text": [
      "enter the number344\n",
      "The sum is 59340\n"
     ]
    }
   ],
   "source": [
    "# Sum of natural numbers up to num\n",
    "\n",
    "num = int(input(\"enter the number\"))\n",
    "\n",
    "if num < 0:\n",
    "   print(\"Enter a positive number\")\n",
    "else:\n",
    "   sum = 0\n",
    "   # use while loop to iterate until zero\n",
    "   while(num > 0):\n",
    "       sum += num\n",
    "       num -= 1\n",
    "   print(\"The sum is\", sum)\n"
   ]
  },
  {
   "cell_type": "code",
   "execution_count": null,
   "id": "7997aad9",
   "metadata": {},
   "outputs": [],
   "source": []
  },
  {
   "cell_type": "code",
   "execution_count": null,
   "id": "8f21ae86",
   "metadata": {},
   "outputs": [],
   "source": []
  }
 ],
 "metadata": {
  "kernelspec": {
   "display_name": "Python 3 (ipykernel)",
   "language": "python",
   "name": "python3"
  },
  "language_info": {
   "codemirror_mode": {
    "name": "ipython",
    "version": 3
   },
   "file_extension": ".py",
   "mimetype": "text/x-python",
   "name": "python",
   "nbconvert_exporter": "python",
   "pygments_lexer": "ipython3",
   "version": "3.9.12"
  }
 },
 "nbformat": 4,
 "nbformat_minor": 5
}
