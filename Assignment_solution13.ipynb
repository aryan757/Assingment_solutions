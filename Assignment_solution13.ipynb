{
 "cells": [
  {
   "cell_type": "markdown",
   "id": "17c92f70",
   "metadata": {},
   "source": [
    "# Question 1:\n",
    "\n",
    "Write a program that calculates and prints the value according to the given formula:\n",
    "\n",
    "Q = Square root of [(2 * C * D)/H]\n",
    "\n",
    "Following are the fixed values of C and H:\n",
    "\n",
    "C is 50. H is 30.\n",
    "\n",
    "D is the variable whose values should be input to your program in a comma-separated sequence.\n",
    "\n",
    "Example\n",
    "\n",
    "Let us assume the following comma separated input sequence is given to the program:\n",
    "\n",
    "100,150,180\n",
    "\n",
    "The output of the program should be:\n",
    "\n",
    "18,22,24\n"
   ]
  },
  {
   "cell_type": "code",
   "execution_count": 7,
   "id": "bb76d15b",
   "metadata": {},
   "outputs": [
    {
     "name": "stdout",
     "output_type": "stream",
     "text": [
      "Take the input of D \n",
      "\n",
      "100,150,180\n",
      "18 , 22 , 24\n"
     ]
    }
   ],
   "source": [
    "import math\n",
    "c = 50 #given\n",
    "h = 30 #given\n",
    "print(\"Take the input of D \\n\")\n",
    "l = ()\n",
    "l = input()\n",
    "m = l.split(',')\n",
    "g = []\n",
    "for i in m :\n",
    "    g.append(int(i))\n",
    "g\n",
    "\n",
    "new = []\n",
    "for i in g:\n",
    "    new.append(math.floor(math.sqrt((2*c*i)/h)))\n",
    "    \n",
    "a,b,c = new\n",
    "print(a ,\",\", b , \",\",c)\n",
    "\n",
    "\n"
   ]
  },
  {
   "cell_type": "markdown",
   "id": "7a682d6e",
   "metadata": {},
   "source": [
    "# Question 2:\n",
    "Write a program which takes 2 digits, X,Y as input and generates a 2-dimensional array. The element value in the i-th row and j-th column of the array should be i*j.\n",
    "\n",
    "Note: i=0,1.., X-1; j=0,1,¡¬Y-1.\n",
    "\n",
    "Example\n",
    "\n",
    "Suppose the following inputs are given to the program:\n",
    "\n",
    "3,5\n",
    "\n",
    "Then, the output of the program should be:\n",
    "\n",
    "[[0, 0, 0, 0, 0], [0, 1, 2, 3, 4], [0, 2, 4, 6, 8]] \n"
   ]
  },
  {
   "cell_type": "code",
   "execution_count": 8,
   "id": "1e423e83",
   "metadata": {},
   "outputs": [],
   "source": [
    "import numpy as np"
   ]
  },
  {
   "cell_type": "code",
   "execution_count": 12,
   "id": "8677e497",
   "metadata": {},
   "outputs": [],
   "source": [
    "row = 3\n",
    "column = 5"
   ]
  },
  {
   "cell_type": "code",
   "execution_count": 13,
   "id": "8b6140b2",
   "metadata": {},
   "outputs": [],
   "source": [
    "temp = np.random.randn(row,column)"
   ]
  },
  {
   "cell_type": "code",
   "execution_count": 14,
   "id": "55a416d5",
   "metadata": {},
   "outputs": [
    {
     "data": {
      "text/plain": [
       "array([[ 0.48126813, -0.55343205,  1.1288732 ,  0.7953269 , -0.45157099],\n",
       "       [-0.45536507,  1.02621128,  1.04133831, -0.8839073 , -1.07352822],\n",
       "       [-0.87335349,  0.25889435, -0.92412533, -0.22164602, -0.14001787]])"
      ]
     },
     "execution_count": 14,
     "metadata": {},
     "output_type": "execute_result"
    }
   ],
   "source": [
    "temp"
   ]
  },
  {
   "cell_type": "code",
   "execution_count": 15,
   "id": "76b121d5",
   "metadata": {},
   "outputs": [
    {
     "data": {
      "text/plain": [
       "numpy.ndarray"
      ]
     },
     "execution_count": 15,
     "metadata": {},
     "output_type": "execute_result"
    }
   ],
   "source": [
    "type(temp)"
   ]
  },
  {
   "cell_type": "code",
   "execution_count": 16,
   "id": "1a887e83",
   "metadata": {},
   "outputs": [],
   "source": [
    "for i in range(0,row):\n",
    "    for j in range(0,column):\n",
    "        temp[i][j] = i*j"
   ]
  },
  {
   "cell_type": "code",
   "execution_count": 17,
   "id": "2c3e48e4",
   "metadata": {},
   "outputs": [
    {
     "data": {
      "text/plain": [
       "array([[0., 0., 0., 0., 0.],\n",
       "       [0., 1., 2., 3., 4.],\n",
       "       [0., 2., 4., 6., 8.]])"
      ]
     },
     "execution_count": 17,
     "metadata": {},
     "output_type": "execute_result"
    }
   ],
   "source": [
    "temp"
   ]
  },
  {
   "cell_type": "code",
   "execution_count": 18,
   "id": "663cb7c6",
   "metadata": {},
   "outputs": [
    {
     "name": "stdout",
     "output_type": "stream",
     "text": [
      "[0. 0. 0. 0. 0.]\n",
      "[0. 1. 2. 3. 4.]\n",
      "[0. 2. 4. 6. 8.]\n"
     ]
    }
   ],
   "source": [
    "for i in temp :\n",
    "    print(i)"
   ]
  },
  {
   "cell_type": "markdown",
   "id": "b36aec50",
   "metadata": {},
   "source": [
    "# Question 3:\n",
    "Write a program that accepts a comma separated sequence of words as input and prints the words in a comma-separated sequence after sorting them alphabetically.\n",
    "\n",
    "Suppose the following input is supplied to the program:\n",
    "\n",
    "without,hello,bag,world\n",
    "\n",
    "Then, the output should be:\n",
    "\n",
    "bag,hello,without,world\n"
   ]
  },
  {
   "cell_type": "code",
   "execution_count": 23,
   "id": "55b2a88d",
   "metadata": {},
   "outputs": [
    {
     "name": "stdout",
     "output_type": "stream",
     "text": [
      "without,hello,bag,world\n",
      "bag , hello , without , world\n"
     ]
    }
   ],
   "source": [
    "l = ()\n",
    "l = input()\n",
    "l\n",
    "type(l)\n",
    "m = l.split(\",\")\n",
    "m.sort()\n",
    "a,b,c,d = m\n",
    "print(a,\",\",b,\",\",c,\",\",d)"
   ]
  },
  {
   "cell_type": "markdown",
   "id": "0dfe9de2",
   "metadata": {},
   "source": [
    "# Question 4:\n",
    "Write a program that accepts a sequence of whitespace separated words as input and prints the words after removing all duplicate words and sorting them alphanumerically.\n",
    "\n",
    "Suppose the following input is supplied to the program:\n",
    "\n",
    "hello world and practice makes perfect and hello world again\n",
    "\n",
    "Then, the output should be:\n",
    "\n",
    "again and hello makes perfect practice world\n"
   ]
  },
  {
   "cell_type": "code",
   "execution_count": 66,
   "id": "fd0aca31",
   "metadata": {},
   "outputs": [
    {
     "name": "stdout",
     "output_type": "stream",
     "text": [
      "hello world and practice makes perfect and hello world again\n",
      "again and hello makes perfect practice world "
     ]
    }
   ],
   "source": [
    "l = ()\n",
    "l = input()\n",
    "l.split(\" \")\n",
    "m = l.split()\n",
    "s = set(m)\n",
    "t = tuple(s)\n",
    "temp = []\n",
    "for i in t:\n",
    "    temp.append(i)\n",
    "temp.sort()\n",
    "for i in temp :\n",
    "    print(i ,end=\" \")\n",
    "\n",
    "\n",
    "\n",
    "\n"
   ]
  },
  {
   "cell_type": "markdown",
   "id": "aecc25bb",
   "metadata": {},
   "source": [
    "# Question 5:\n",
    "Write a program that accepts a sentence and calculate the number of letters and digits.\n",
    "\n",
    "Suppose the following input is supplied to the program:\n",
    "\n",
    "hello world! 123\n",
    "\n",
    "Then, the output should be:\n",
    "\n",
    "LETTERS 10\n",
    "\n",
    "DIGITS 3\n"
   ]
  },
  {
   "cell_type": "code",
   "execution_count": 67,
   "id": "78481800",
   "metadata": {},
   "outputs": [
    {
     "name": "stdout",
     "output_type": "stream",
     "text": [
      "LETTERS 10\n",
      "DIGITS 3\n"
     ]
    }
   ],
   "source": [
    "s = \"hello world! 123\"\n",
    "letters = 0\n",
    "digits = 0\n",
    "for i in range(0,len(s)):\n",
    "    if s[i].isalpha() == True :\n",
    "        letters = letters + 1\n",
    "    elif s[i].isalnum() == True:\n",
    "        digits = digits + 1\n",
    "    else :\n",
    "        continue\n",
    "else :\n",
    "    print(\"LETTERS\" , letters)\n",
    "    print(\"DIGITS\" , digits)\n"
   ]
  },
  {
   "cell_type": "markdown",
   "id": "59420772",
   "metadata": {},
   "source": [
    "# Question 6:\n",
    "A website requires the users to input username and password to register. Write a program to check the validity of password input by users.\n",
    "\n",
    "Following are the criteria for checking the password:\n",
    "\n",
    "1. At least 1 letter between [a-z]\n",
    "\n",
    "2. At least 1 number between [0-9]\n",
    "\n",
    "1. At least 1 letter between [A-Z]\n",
    "\n",
    "3. At least 1 character from [$#@]\n",
    "\n",
    "4. Minimum length of transaction password: 6\n",
    "\n",
    "5. Maximum length of transaction password: 12\n",
    "\n",
    "Your program should accept a sequence of comma separated passwords and will check them according to the above criteria. Passwords that match the criteria are to be printed, each separated by a comma.\n",
    "\n",
    "Example\n",
    "\n",
    "If the following passwords are given as input to the program:\n",
    "\n",
    "ABd1234@1,a F1#,2w3E*,2We3345\n",
    "\n",
    "Then, the output of the program should be:\n",
    "\n",
    "ABd1234@1\n"
   ]
  },
  {
   "cell_type": "code",
   "execution_count": 70,
   "id": "e9b585f1",
   "metadata": {},
   "outputs": [
    {
     "name": "stdout",
     "output_type": "stream",
     "text": [
      "enter the input as the format given in Question above !ABd1234@1,a F1#,2w3E*,2We3345\n",
      "The output of the program is \n",
      " ABd1234@1\n"
     ]
    }
   ],
   "source": [
    "s = ()\n",
    "s = input(\"enter the input as the format given in Question above !\")\n",
    "s.split(\",\")\n",
    "m = s.split(\",\")\n",
    "for i in m: \n",
    "    temp = str(i)\n",
    "    temp1 = []\n",
    "    for j in temp:\n",
    "        temp1.append(j)\n",
    "    else:\n",
    "        lowercase = 0\n",
    "        uppercase = 0\n",
    "        numeric = 0\n",
    "        specialchr = 0\n",
    "        for k in temp1:\n",
    "            if k.isalpha() == True :\n",
    "                if k.islower() == True :\n",
    "                    lowercase = lowercase + 1\n",
    "                elif k.isupper() == True :\n",
    "                    uppercase = uppercase + 1\n",
    "            elif  k.isnumeric() == True :\n",
    "                numeric = numeric + 1\n",
    "            else :\n",
    "                specialchr = specialchr +1\n",
    "        else:\n",
    "            if lowercase>=1 and uppercase>=1 and numeric>=1 and specialchr>=1 and len(temp1) >= 6:\n",
    "                \n",
    "                print(\"The output of the program is \\n\" , i)\n",
    "\n",
    "\n",
    "    \n",
    "    \n"
   ]
  },
  {
   "cell_type": "code",
   "execution_count": 57,
   "id": "1b3e1d36",
   "metadata": {},
   "outputs": [],
   "source": []
  },
  {
   "cell_type": "code",
   "execution_count": 59,
   "id": "26f85719",
   "metadata": {},
   "outputs": [],
   "source": []
  },
  {
   "cell_type": "code",
   "execution_count": null,
   "id": "1c08b3f9",
   "metadata": {},
   "outputs": [],
   "source": []
  },
  {
   "cell_type": "code",
   "execution_count": null,
   "id": "87ff0f5d",
   "metadata": {},
   "outputs": [],
   "source": []
  },
  {
   "cell_type": "code",
   "execution_count": null,
   "id": "1fc6f584",
   "metadata": {},
   "outputs": [],
   "source": []
  }
 ],
 "metadata": {
  "kernelspec": {
   "display_name": "Python 3 (ipykernel)",
   "language": "python",
   "name": "python3"
  },
  "language_info": {
   "codemirror_mode": {
    "name": "ipython",
    "version": 3
   },
   "file_extension": ".py",
   "mimetype": "text/x-python",
   "name": "python",
   "nbconvert_exporter": "python",
   "pygments_lexer": "ipython3",
   "version": "3.9.12"
  }
 },
 "nbformat": 4,
 "nbformat_minor": 5
}
