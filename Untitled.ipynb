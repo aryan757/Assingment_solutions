{
 "cells": [
  {
   "cell_type": "code",
   "execution_count": 1,
   "id": "ac74c576",
   "metadata": {},
   "outputs": [
    {
     "data": {
      "text/plain": [
       "67"
      ]
     },
     "execution_count": 1,
     "metadata": {},
     "output_type": "execute_result"
    }
   ],
   "source": [
    "max(1,2,24,67)"
   ]
  },
  {
   "cell_type": "code",
   "execution_count": 7,
   "id": "bc877f95",
   "metadata": {},
   "outputs": [],
   "source": [
    "l = []"
   ]
  },
  {
   "cell_type": "code",
   "execution_count": 8,
   "id": "9e3cd819",
   "metadata": {},
   "outputs": [
    {
     "name": "stdout",
     "output_type": "stream",
     "text": [
      "enter the number of integer of which you want to find out the LCM 4\n"
     ]
    }
   ],
   "source": [
    "number = int(input(\"enter the number of integer of which you want to find out the LCM \"))"
   ]
  },
  {
   "cell_type": "code",
   "execution_count": 9,
   "id": "974a1b4a",
   "metadata": {},
   "outputs": [
    {
     "name": "stdout",
     "output_type": "stream",
     "text": [
      "enter the number46\n",
      "enter the number24\n",
      "enter the number16\n",
      "enter the number78\n"
     ]
    }
   ],
   "source": [
    "i = 1\n",
    "while(i<=number):\n",
    "    l.append(int(input(\"enter the number\")))\n",
    "    i = i + 1"
   ]
  },
  {
   "cell_type": "code",
   "execution_count": 10,
   "id": "6c6ec332",
   "metadata": {},
   "outputs": [
    {
     "data": {
      "text/plain": [
       "[46, 24, 16, 78]"
      ]
     },
     "execution_count": 10,
     "metadata": {},
     "output_type": "execute_result"
    }
   ],
   "source": [
    "l"
   ]
  },
  {
   "cell_type": "code",
   "execution_count": 11,
   "id": "316b2006",
   "metadata": {},
   "outputs": [],
   "source": [
    "l.sort()"
   ]
  },
  {
   "cell_type": "code",
   "execution_count": 12,
   "id": "aec54a1c",
   "metadata": {},
   "outputs": [
    {
     "data": {
      "text/plain": [
       "[16, 24, 46, 78]"
      ]
     },
     "execution_count": 12,
     "metadata": {},
     "output_type": "execute_result"
    }
   ],
   "source": [
    "l"
   ]
  },
  {
   "cell_type": "code",
   "execution_count": 14,
   "id": "8b9bdb2e",
   "metadata": {},
   "outputs": [
    {
     "data": {
      "text/plain": [
       "78"
      ]
     },
     "execution_count": 14,
     "metadata": {},
     "output_type": "execute_result"
    }
   ],
   "source": [
    "l[0]\n",
    "l[1]\n",
    "l[2]\n",
    "l[3]"
   ]
  },
  {
   "cell_type": "code",
   "execution_count": 18,
   "id": "fcf7948a",
   "metadata": {},
   "outputs": [],
   "source": [
    "l = [1,2,3,4]"
   ]
  },
  {
   "cell_type": "code",
   "execution_count": 20,
   "id": "8cc40764",
   "metadata": {},
   "outputs": [],
   "source": [
    "sum = 0\n",
    "for i in range(0,len(l)):\n",
    "    sum = sum + l[i]"
   ]
  },
  {
   "cell_type": "code",
   "execution_count": 21,
   "id": "2fe91b3c",
   "metadata": {},
   "outputs": [
    {
     "data": {
      "text/plain": [
       "10"
      ]
     },
     "execution_count": 21,
     "metadata": {},
     "output_type": "execute_result"
    }
   ],
   "source": [
    "sum"
   ]
  },
  {
   "cell_type": "code",
   "execution_count": 43,
   "id": "2f57ca77",
   "metadata": {},
   "outputs": [],
   "source": [
    "l = [56,34,55,66,12,445]"
   ]
  },
  {
   "cell_type": "code",
   "execution_count": 44,
   "id": "ccbca39b",
   "metadata": {},
   "outputs": [
    {
     "data": {
      "text/plain": [
       "6"
      ]
     },
     "execution_count": 44,
     "metadata": {},
     "output_type": "execute_result"
    }
   ],
   "source": [
    "len(l)"
   ]
  },
  {
   "cell_type": "code",
   "execution_count": 45,
   "id": "38534088",
   "metadata": {},
   "outputs": [],
   "source": [
    "temp = l[0]\n",
    "rounds = 2"
   ]
  },
  {
   "cell_type": "code",
   "execution_count": 46,
   "id": "73e78e19",
   "metadata": {},
   "outputs": [],
   "source": [
    "for j in range(1,rounds+1):\n",
    "    \n",
    "    for i in range(0 ,len(l)-1):\n",
    "        l[i] = l[i+1]\n",
    "    else :\n",
    "        l[len(l)-1] = temp"
   ]
  },
  {
   "cell_type": "code",
   "execution_count": 47,
   "id": "7c2ede90",
   "metadata": {},
   "outputs": [
    {
     "data": {
      "text/plain": [
       "[55, 66, 12, 445, 56, 56]"
      ]
     },
     "execution_count": 47,
     "metadata": {},
     "output_type": "execute_result"
    }
   ],
   "source": [
    "l"
   ]
  },
  {
   "cell_type": "code",
   "execution_count": 33,
   "id": "4ca9d23d",
   "metadata": {},
   "outputs": [],
   "source": [
    "rounds = 2"
   ]
  },
  {
   "cell_type": "code",
   "execution_count": 34,
   "id": "fc6e2a02",
   "metadata": {},
   "outputs": [
    {
     "data": {
      "text/plain": [
       "range(0, 2)"
      ]
     },
     "execution_count": 34,
     "metadata": {},
     "output_type": "execute_result"
    }
   ],
   "source": [
    "range(2)"
   ]
  },
  {
   "cell_type": "code",
   "execution_count": 35,
   "id": "fc321dac",
   "metadata": {},
   "outputs": [
    {
     "data": {
      "text/plain": [
       "range(1, 2)"
      ]
     },
     "execution_count": 35,
     "metadata": {},
     "output_type": "execute_result"
    }
   ],
   "source": [
    "range(1,rounds)"
   ]
  },
  {
   "cell_type": "code",
   "execution_count": 37,
   "id": "0eea3014",
   "metadata": {},
   "outputs": [
    {
     "name": "stdout",
     "output_type": "stream",
     "text": [
      "1\n",
      "2\n"
     ]
    }
   ],
   "source": [
    "for i in range(1,rounds+1):\n",
    "    print(i)"
   ]
  },
  {
   "cell_type": "code",
   "execution_count": null,
   "id": "e932daea",
   "metadata": {},
   "outputs": [],
   "source": []
  },
  {
   "cell_type": "code",
   "execution_count": 64,
   "id": "8272c448",
   "metadata": {},
   "outputs": [],
   "source": [
    "l = [56,34,55,66,12,445]\n",
    "j = 1"
   ]
  },
  {
   "cell_type": "code",
   "execution_count": 65,
   "id": "85eec584",
   "metadata": {},
   "outputs": [
    {
     "name": "stdout",
     "output_type": "stream",
     "text": [
      "[34, 55, 66, 12, 445, 56]\n",
      "[55, 66, 12, 445, 56, 34]\n"
     ]
    }
   ],
   "source": [
    "while(j <= 2):\n",
    "    \n",
    "    temp = l[0]\n",
    "    for i in range(0 ,len(l)-1):\n",
    "        l[i] = l[i+1]\n",
    "    else :\n",
    "        l[len(l)-1] = temp\n",
    "        print(l)\n",
    "        \n",
    "    j+=1"
   ]
  },
  {
   "cell_type": "code",
   "execution_count": 61,
   "id": "76f2b5eb",
   "metadata": {},
   "outputs": [
    {
     "data": {
      "text/plain": [
       "[55, 66, 12, 445, 56, 56]"
      ]
     },
     "execution_count": 61,
     "metadata": {},
     "output_type": "execute_result"
    }
   ],
   "source": [
    "l"
   ]
  },
  {
   "cell_type": "code",
   "execution_count": 56,
   "id": "33d1c937",
   "metadata": {},
   "outputs": [
    {
     "ename": "IndentationError",
     "evalue": "unindent does not match any outer indentation level (<tokenize>, line 3)",
     "output_type": "error",
     "traceback": [
      "\u001b[1;36m  File \u001b[1;32m<tokenize>:3\u001b[1;36m\u001b[0m\n\u001b[1;33m    else :\u001b[0m\n\u001b[1;37m    ^\u001b[0m\n\u001b[1;31mIndentationError\u001b[0m\u001b[1;31m:\u001b[0m unindent does not match any outer indentation level\n"
     ]
    }
   ],
   "source": [
    " "
   ]
  },
  {
   "cell_type": "code",
   "execution_count": 57,
   "id": "1c842a01",
   "metadata": {},
   "outputs": [],
   "source": [
    "for i in range(0 ,len(l)-1):\n",
    "        l[i] = l[i+1]\n",
    "else :\n",
    "        l[len(l)-1] = temp"
   ]
  },
  {
   "cell_type": "code",
   "execution_count": 58,
   "id": "230f7254",
   "metadata": {},
   "outputs": [
    {
     "data": {
      "text/plain": [
       "[34, 55, 66, 12, 445, 56]"
      ]
     },
     "execution_count": 58,
     "metadata": {},
     "output_type": "execute_result"
    }
   ],
   "source": [
    "l"
   ]
  },
  {
   "cell_type": "code",
   "execution_count": null,
   "id": "1294d4dc",
   "metadata": {},
   "outputs": [],
   "source": []
  },
  {
   "cell_type": "code",
   "execution_count": 66,
   "id": "2af48ed7",
   "metadata": {},
   "outputs": [],
   "source": [
    "l = [23,45,77,98,239,5]"
   ]
  },
  {
   "cell_type": "code",
   "execution_count": 72,
   "id": "8f33d306",
   "metadata": {},
   "outputs": [],
   "source": [
    "i = 0\n",
    "def monotonic(l):\n",
    "    if(l[i+1] > l[i]):\n",
    "        j = i+1\n",
    "        for k in range(j , len(l)-1):\n",
    "            if(l[k+1]>l[k]):\n",
    "                continue\n",
    "            else:\n",
    "                return \"Not Monotonic !\"\n",
    "        else :\n",
    "            return \"Its Monotonic !\"\n",
    "    else:\n",
    "        j = i+1\n",
    "        for k in range(j , len(l)-1):\n",
    "            if(l[k]>l[k+1]):\n",
    "                continue\n",
    "            else:\n",
    "                return \"Not Monotonic !\"\n",
    "        else :\n",
    "            return \"Its Monotonic \"\n",
    "        "
   ]
  },
  {
   "cell_type": "code",
   "execution_count": 73,
   "id": "815bf342",
   "metadata": {},
   "outputs": [
    {
     "data": {
      "text/plain": [
       "[23, 45, 67, 89, 900]"
      ]
     },
     "execution_count": 73,
     "metadata": {},
     "output_type": "execute_result"
    }
   ],
   "source": [
    "l"
   ]
  },
  {
   "cell_type": "code",
   "execution_count": 74,
   "id": "dac5aaef",
   "metadata": {},
   "outputs": [
    {
     "data": {
      "text/plain": [
       "'Its Monotonic !'"
      ]
     },
     "execution_count": 74,
     "metadata": {},
     "output_type": "execute_result"
    }
   ],
   "source": [
    "monotonic(l)"
   ]
  },
  {
   "cell_type": "code",
   "execution_count": 75,
   "id": "b0af7fe7",
   "metadata": {},
   "outputs": [],
   "source": [
    "l = [23,45,67,89,900]"
   ]
  },
  {
   "cell_type": "code",
   "execution_count": 76,
   "id": "70b4819a",
   "metadata": {},
   "outputs": [
    {
     "data": {
      "text/plain": [
       "'Its Monotonic !'"
      ]
     },
     "execution_count": 76,
     "metadata": {},
     "output_type": "execute_result"
    }
   ],
   "source": [
    "monotonic(l)"
   ]
  },
  {
   "cell_type": "code",
   "execution_count": 78,
   "id": "995f6a25",
   "metadata": {},
   "outputs": [],
   "source": [
    "l = [45,21,9,677]"
   ]
  },
  {
   "cell_type": "code",
   "execution_count": 79,
   "id": "4a145299",
   "metadata": {},
   "outputs": [
    {
     "data": {
      "text/plain": [
       "'Not Monotonic !'"
      ]
     },
     "execution_count": 79,
     "metadata": {},
     "output_type": "execute_result"
    }
   ],
   "source": [
    "monotonic(l)"
   ]
  },
  {
   "cell_type": "code",
   "execution_count": 80,
   "id": "12fce23c",
   "metadata": {},
   "outputs": [],
   "source": [
    "l = [12,9,455,1]"
   ]
  },
  {
   "cell_type": "code",
   "execution_count": 81,
   "id": "b610b53c",
   "metadata": {},
   "outputs": [
    {
     "data": {
      "text/plain": [
       "'Not Monotonic !'"
      ]
     },
     "execution_count": 81,
     "metadata": {},
     "output_type": "execute_result"
    }
   ],
   "source": [
    "monotonic(l)"
   ]
  },
  {
   "cell_type": "code",
   "execution_count": 82,
   "id": "5a44c92c",
   "metadata": {},
   "outputs": [],
   "source": [
    "l = [1,2,3,4]"
   ]
  },
  {
   "cell_type": "code",
   "execution_count": 83,
   "id": "8cfb3938",
   "metadata": {},
   "outputs": [
    {
     "data": {
      "text/plain": [
       "'Its Monotonic !'"
      ]
     },
     "execution_count": 83,
     "metadata": {},
     "output_type": "execute_result"
    }
   ],
   "source": [
    "monotonic(l)"
   ]
  },
  {
   "cell_type": "code",
   "execution_count": 84,
   "id": "8719b9a6",
   "metadata": {},
   "outputs": [],
   "source": [
    "l = [9,8,7,5]"
   ]
  },
  {
   "cell_type": "code",
   "execution_count": 85,
   "id": "67686630",
   "metadata": {},
   "outputs": [
    {
     "data": {
      "text/plain": [
       "'Its Monotonic '"
      ]
     },
     "execution_count": 85,
     "metadata": {},
     "output_type": "execute_result"
    }
   ],
   "source": [
    "monotonic(l)"
   ]
  },
  {
   "cell_type": "code",
   "execution_count": null,
   "id": "9d14c9cb",
   "metadata": {},
   "outputs": [],
   "source": []
  }
 ],
 "metadata": {
  "kernelspec": {
   "display_name": "Python 3 (ipykernel)",
   "language": "python",
   "name": "python3"
  },
  "language_info": {
   "codemirror_mode": {
    "name": "ipython",
    "version": 3
   },
   "file_extension": ".py",
   "mimetype": "text/x-python",
   "name": "python",
   "nbconvert_exporter": "python",
   "pygments_lexer": "ipython3",
   "version": "3.9.12"
  }
 },
 "nbformat": 4,
 "nbformat_minor": 5
}
