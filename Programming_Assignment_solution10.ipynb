{
 "cells": [
  {
   "cell_type": "markdown",
   "id": "55faf404",
   "metadata": {},
   "source": [
    "# 1.\tWrite a Python program to find sum of elements in list?"
   ]
  },
  {
   "cell_type": "code",
   "execution_count": null,
   "id": "cb0b224c",
   "metadata": {},
   "outputs": [],
   "source": [
    "def count(list):\n",
    "    sum = 0\n",
    "    for i in list :\n",
    "        sum = sum + i\n",
    "    return sum"
   ]
  },
  {
   "cell_type": "code",
   "execution_count": null,
   "id": "ee28295c",
   "metadata": {},
   "outputs": [],
   "source": [
    "list = [12,45,78,443,2323]"
   ]
  },
  {
   "cell_type": "code",
   "execution_count": null,
   "id": "10dbcc61",
   "metadata": {},
   "outputs": [],
   "source": [
    "count(list)"
   ]
  },
  {
   "cell_type": "markdown",
   "id": "7abf81eb",
   "metadata": {},
   "source": [
    "# 2.\tWrite a Python program to  Multiply all numbers in the list?"
   ]
  },
  {
   "cell_type": "code",
   "execution_count": null,
   "id": "92838e8c",
   "metadata": {},
   "outputs": [],
   "source": [
    "def Multiply(list):\n",
    "    sum = 1\n",
    "    for i in list :\n",
    "        sum = sum * i\n",
    "    return sum"
   ]
  },
  {
   "cell_type": "code",
   "execution_count": null,
   "id": "d7cb9c5d",
   "metadata": {},
   "outputs": [],
   "source": [
    "list = [12,45,456,234423]"
   ]
  },
  {
   "cell_type": "code",
   "execution_count": null,
   "id": "726a82bb",
   "metadata": {},
   "outputs": [],
   "source": [
    "Multiply(list)"
   ]
  },
  {
   "cell_type": "markdown",
   "id": "2a4a0741",
   "metadata": {},
   "source": [
    "# 3.\tWrite a Python program to find smallest number in a list?"
   ]
  },
  {
   "cell_type": "code",
   "execution_count": null,
   "id": "1c5ab86b",
   "metadata": {},
   "outputs": [],
   "source": [
    "def smallest(list):\n",
    "    return min(list)"
   ]
  },
  {
   "cell_type": "code",
   "execution_count": null,
   "id": "21095dde",
   "metadata": {},
   "outputs": [],
   "source": [
    "smallest(list)"
   ]
  },
  {
   "cell_type": "markdown",
   "id": "3d616275",
   "metadata": {},
   "source": [
    "# 4.\tWrite a Python program to find largest number in a list?"
   ]
  },
  {
   "cell_type": "code",
   "execution_count": null,
   "id": "4169fd96",
   "metadata": {},
   "outputs": [],
   "source": [
    "def largest(list):\n",
    "    return max(list)"
   ]
  },
  {
   "cell_type": "code",
   "execution_count": null,
   "id": "6b46b6e0",
   "metadata": {},
   "outputs": [],
   "source": [
    "largest(list)"
   ]
  },
  {
   "cell_type": "markdown",
   "id": "cdd63009",
   "metadata": {},
   "source": [
    "# 5.\tWrite a Python program to find second largest number in a list?"
   ]
  },
  {
   "cell_type": "code",
   "execution_count": null,
   "id": "ae0527cf",
   "metadata": {},
   "outputs": [],
   "source": [
    "def Second_largest(list):\n",
    "    list.sort()\n",
    "    return list[-2]"
   ]
  },
  {
   "cell_type": "code",
   "execution_count": null,
   "id": "a8200c98",
   "metadata": {},
   "outputs": [],
   "source": [
    "list= [12,62,9,1,2,345345,3345]"
   ]
  },
  {
   "cell_type": "code",
   "execution_count": null,
   "id": "9b454a9f",
   "metadata": {},
   "outputs": [],
   "source": [
    "Second_largest(list)"
   ]
  },
  {
   "cell_type": "markdown",
   "id": "e143200a",
   "metadata": {},
   "source": [
    "# 6.\tWrite a Python program to print even numbers in a list?"
   ]
  },
  {
   "cell_type": "code",
   "execution_count": null,
   "id": "612bae96",
   "metadata": {},
   "outputs": [],
   "source": [
    "def PrintEven(list):\n",
    "    for i in list :\n",
    "        if i%2 == 0 :\n",
    "            print(i)\n",
    "        else :\n",
    "            continue"
   ]
  },
  {
   "cell_type": "code",
   "execution_count": null,
   "id": "3deb3c3d",
   "metadata": {},
   "outputs": [],
   "source": [
    "list"
   ]
  },
  {
   "cell_type": "code",
   "execution_count": null,
   "id": "da3827db",
   "metadata": {},
   "outputs": [],
   "source": [
    "PrintEven(list)"
   ]
  },
  {
   "cell_type": "markdown",
   "id": "3714d07a",
   "metadata": {},
   "source": [
    "# 7.\tWrite a Python program to print odd numbers in a List?"
   ]
  },
  {
   "cell_type": "code",
   "execution_count": null,
   "id": "f26eef18",
   "metadata": {},
   "outputs": [],
   "source": [
    "def PrintOdd(list):\n",
    "    for i in list :\n",
    "        if i%2 == 0 :\n",
    "            continue\n",
    "        else :\n",
    "            print(i)"
   ]
  },
  {
   "cell_type": "code",
   "execution_count": null,
   "id": "2e4b5c16",
   "metadata": {},
   "outputs": [],
   "source": [
    "list"
   ]
  },
  {
   "cell_type": "code",
   "execution_count": null,
   "id": "e803c6c1",
   "metadata": {},
   "outputs": [],
   "source": [
    "PrintOdd(list)"
   ]
  },
  {
   "cell_type": "markdown",
   "id": "9aa988b7",
   "metadata": {},
   "source": [
    "# 8.\tWrite a Python program to Remove empty List from List?"
   ]
  },
  {
   "cell_type": "code",
   "execution_count": 1,
   "id": "fea21aa9",
   "metadata": {},
   "outputs": [
    {
     "name": "stdout",
     "output_type": "stream",
     "text": [
      "[12, 34, 2342, 'SAdsa', [], {'erwe': 'DSas'}]\n",
      "[12, 34, 2342, 'SAdsa', {'erwe': 'DSas'}]\n"
     ]
    }
   ],
   "source": [
    "m = [12,34,2342,\"SAdsa\",[],{\"erwe\":\"DSas\"}]\n",
    "print(m)\n",
    "for i in m:\n",
    "    if type(i) == list :\n",
    "        if len(i) == 0 :\n",
    "            m.remove(m[m.index([])])\n",
    "        else :\n",
    "            continue\n",
    "            \n",
    "else :\n",
    "    print(m)\n",
    "    \n",
    "  "
   ]
  },
  {
   "cell_type": "code",
   "execution_count": null,
   "id": "c95bb190",
   "metadata": {},
   "outputs": [],
   "source": [
    "\n",
    "    "
   ]
  },
  {
   "cell_type": "markdown",
   "id": "28bb2d45",
   "metadata": {},
   "source": [
    "# 9.\tWrite a Python program to Cloning or Copying a list?"
   ]
  },
  {
   "cell_type": "code",
   "execution_count": 2,
   "id": "9c53f27c",
   "metadata": {},
   "outputs": [
    {
     "name": "stdout",
     "output_type": "stream",
     "text": [
      "Original List: [4, 8, 2, 10, 15, 18]\n",
      "After Cloning: [4, 8, 2, 10, 15, 18]\n"
     ]
    }
   ],
   "source": [
    "def Cloning(li1):\n",
    "    li_copy = li1[:]\n",
    "    return li_copy\n",
    " \n",
    " \n",
    "# Driver Code\n",
    "li1 = [4, 8, 2, 10, 15, 18]\n",
    "li2 = Cloning(li1)\n",
    "print(\"Original List:\", li1)\n",
    "print(\"After Cloning:\", li2)"
   ]
  },
  {
   "cell_type": "markdown",
   "id": "5122844e",
   "metadata": {},
   "source": [
    "# 10.\tWrite a Python program to Count occurrences of an element in a list?"
   ]
  },
  {
   "cell_type": "code",
   "execution_count": 3,
   "id": "51636542",
   "metadata": {},
   "outputs": [],
   "source": [
    "l = [1,2,4,1,6,3,6,7,7,5,4,44,3,3,32]"
   ]
  },
  {
   "cell_type": "code",
   "execution_count": 4,
   "id": "f9e33e7f",
   "metadata": {},
   "outputs": [],
   "source": [
    "temp = set(l)"
   ]
  },
  {
   "cell_type": "code",
   "execution_count": 5,
   "id": "d6650c15",
   "metadata": {},
   "outputs": [
    {
     "data": {
      "text/plain": [
       "{1, 2, 3, 4, 5, 6, 7, 32, 44}"
      ]
     },
     "execution_count": 5,
     "metadata": {},
     "output_type": "execute_result"
    }
   ],
   "source": [
    "temp "
   ]
  },
  {
   "cell_type": "code",
   "execution_count": 6,
   "id": "0a30317d",
   "metadata": {},
   "outputs": [
    {
     "name": "stdout",
     "output_type": "stream",
     "text": [
      "The count of this element 32 is 1\n",
      "The count of this element 1 is 2\n",
      "The count of this element 2 is 1\n",
      "The count of this element 3 is 3\n",
      "The count of this element 4 is 2\n",
      "The count of this element 5 is 1\n",
      "The count of this element 6 is 2\n",
      "The count of this element 7 is 2\n",
      "The count of this element 44 is 1\n"
     ]
    }
   ],
   "source": [
    "sum = 0\n",
    "\n",
    "for i in temp :\n",
    "    print(\"The count of this element {} is\".format(i) , l.count(i))"
   ]
  },
  {
   "cell_type": "code",
   "execution_count": null,
   "id": "c0bc0fc9",
   "metadata": {},
   "outputs": [],
   "source": []
  }
 ],
 "metadata": {
  "kernelspec": {
   "display_name": "Python 3 (ipykernel)",
   "language": "python",
   "name": "python3"
  },
  "language_info": {
   "codemirror_mode": {
    "name": "ipython",
    "version": 3
   },
   "file_extension": ".py",
   "mimetype": "text/x-python",
   "name": "python",
   "nbconvert_exporter": "python",
   "pygments_lexer": "ipython3",
   "version": "3.9.12"
  }
 },
 "nbformat": 4,
 "nbformat_minor": 5
}
