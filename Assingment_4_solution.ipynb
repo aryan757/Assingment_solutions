{
 "cells": [
  {
   "cell_type": "markdown",
   "id": "bd7344ef",
   "metadata": {},
   "source": [
    "# 1. What exactly is []?"
   ]
  },
  {
   "cell_type": "code",
   "execution_count": 2,
   "id": "2ddc7b00",
   "metadata": {},
   "outputs": [
    {
     "data": {
      "text/plain": [
       "list"
      ]
     },
     "execution_count": 2,
     "metadata": {},
     "output_type": "execute_result"
    }
   ],
   "source": [
    "type([])"
   ]
  },
  {
   "cell_type": "code",
   "execution_count": null,
   "id": "b671ec9b",
   "metadata": {},
   "outputs": [],
   "source": [
    "This represent a empty list in python . "
   ]
  },
  {
   "cell_type": "markdown",
   "id": "ed35098c",
   "metadata": {},
   "source": [
    "# 2. In a list of values stored in a variable called spam, how would you assign the value 'hello' as the third value? (Assume [2, 4, 6, 8, 10] are in spam.)"
   ]
  },
  {
   "cell_type": "code",
   "execution_count": 3,
   "id": "afa606b5",
   "metadata": {},
   "outputs": [],
   "source": [
    "spam = [2,4,6,8,10]"
   ]
  },
  {
   "cell_type": "code",
   "execution_count": 4,
   "id": "3ab534ca",
   "metadata": {},
   "outputs": [],
   "source": [
    "spam[2] = 'hello'"
   ]
  },
  {
   "cell_type": "code",
   "execution_count": 5,
   "id": "472a67f9",
   "metadata": {},
   "outputs": [
    {
     "data": {
      "text/plain": [
       "[2, 4, 'hello', 8, 10]"
      ]
     },
     "execution_count": 5,
     "metadata": {},
     "output_type": "execute_result"
    }
   ],
   "source": [
    "spam"
   ]
  },
  {
   "cell_type": "markdown",
   "id": "b4538004",
   "metadata": {},
   "source": [
    "# 3. What is the value of spam[int(int('3' * 2) / 11)]?"
   ]
  },
  {
   "cell_type": "code",
   "execution_count": 6,
   "id": "bf7fb17c",
   "metadata": {},
   "outputs": [
    {
     "data": {
      "text/plain": [
       "8"
      ]
     },
     "execution_count": 6,
     "metadata": {},
     "output_type": "execute_result"
    }
   ],
   "source": [
    "spam[int(int('3'*2)/11)]"
   ]
  },
  {
   "cell_type": "markdown",
   "id": "c7924b3b",
   "metadata": {},
   "source": [
    "# 4. What is the value of spam[-1]?"
   ]
  },
  {
   "cell_type": "code",
   "execution_count": 8,
   "id": "3d8cde30",
   "metadata": {},
   "outputs": [
    {
     "data": {
      "text/plain": [
       "10"
      ]
     },
     "execution_count": 8,
     "metadata": {},
     "output_type": "execute_result"
    }
   ],
   "source": [
    "spam[-1]"
   ]
  },
  {
   "cell_type": "markdown",
   "id": "ab0d4387",
   "metadata": {},
   "source": [
    "# 5. What is the value of spam[:2]?"
   ]
  },
  {
   "cell_type": "code",
   "execution_count": 9,
   "id": "d72ae655",
   "metadata": {},
   "outputs": [
    {
     "data": {
      "text/plain": [
       "[2, 4]"
      ]
     },
     "execution_count": 9,
     "metadata": {},
     "output_type": "execute_result"
    }
   ],
   "source": [
    "spam[:2]"
   ]
  },
  {
   "cell_type": "markdown",
   "id": "ed270e66",
   "metadata": {},
   "source": [
    "# Let's pretend bacon has the list [3.14, 'cat,' 11, 'cat,' True] for the next three questions."
   ]
  },
  {
   "cell_type": "markdown",
   "id": "5f50eb1e",
   "metadata": {},
   "source": [
    "# 6. What is the value of bacon.index('cat')?"
   ]
  },
  {
   "cell_type": "code",
   "execution_count": 10,
   "id": "e2ff8ee4",
   "metadata": {},
   "outputs": [],
   "source": [
    "bacon = [3.14,'cat',11,'cat',True]"
   ]
  },
  {
   "cell_type": "code",
   "execution_count": 11,
   "id": "1e1893d1",
   "metadata": {},
   "outputs": [
    {
     "data": {
      "text/plain": [
       "1"
      ]
     },
     "execution_count": 11,
     "metadata": {},
     "output_type": "execute_result"
    }
   ],
   "source": [
    "bacon.index('cat')"
   ]
  },
  {
   "cell_type": "markdown",
   "id": "3bf81021",
   "metadata": {},
   "source": [
    "# 7. How does bacon.append(99) change the look of the list value in bacon?"
   ]
  },
  {
   "cell_type": "code",
   "execution_count": 12,
   "id": "181076b2",
   "metadata": {},
   "outputs": [],
   "source": [
    "bacon.append(99)"
   ]
  },
  {
   "cell_type": "code",
   "execution_count": 13,
   "id": "22f5bd3d",
   "metadata": {},
   "outputs": [
    {
     "data": {
      "text/plain": [
       "[3.14, 'cat', 11, 'cat', True, 99]"
      ]
     },
     "execution_count": 13,
     "metadata": {},
     "output_type": "execute_result"
    }
   ],
   "source": [
    "bacon"
   ]
  },
  {
   "cell_type": "markdown",
   "id": "f5953dfd",
   "metadata": {},
   "source": [
    "# 8. How does bacon.remove('cat') change the look of the list in bacon?"
   ]
  },
  {
   "cell_type": "code",
   "execution_count": 14,
   "id": "7ac97963",
   "metadata": {},
   "outputs": [],
   "source": [
    "bacon.remove('cat')"
   ]
  },
  {
   "cell_type": "code",
   "execution_count": 15,
   "id": "9ac63c9b",
   "metadata": {},
   "outputs": [
    {
     "data": {
      "text/plain": [
       "[3.14, 11, 'cat', True, 99]"
      ]
     },
     "execution_count": 15,
     "metadata": {},
     "output_type": "execute_result"
    }
   ],
   "source": [
    "bacon"
   ]
  },
  {
   "cell_type": "markdown",
   "id": "674c5920",
   "metadata": {},
   "source": [
    "# 9. What are the list concatenation and list replication operators?"
   ]
  },
  {
   "cell_type": "code",
   "execution_count": null,
   "id": "e846f138",
   "metadata": {},
   "outputs": [],
   "source": [
    "The operator of list concatenation is '+'"
   ]
  },
  {
   "cell_type": "code",
   "execution_count": 17,
   "id": "fe01031b",
   "metadata": {},
   "outputs": [],
   "source": [
    "## for example \n",
    "list1 = [1,2,'aryan']\n",
    "list2 = ['inuerons','100']"
   ]
  },
  {
   "cell_type": "code",
   "execution_count": 18,
   "id": "0288ae4e",
   "metadata": {},
   "outputs": [
    {
     "data": {
      "text/plain": [
       "[1, 2, 'aryan', 'inuerons', '100']"
      ]
     },
     "execution_count": 18,
     "metadata": {},
     "output_type": "execute_result"
    }
   ],
   "source": [
    "list1 + list2"
   ]
  },
  {
   "cell_type": "code",
   "execution_count": null,
   "id": "adf133f5",
   "metadata": {},
   "outputs": [],
   "source": [
    "The operator of list replication is '*'"
   ]
  },
  {
   "cell_type": "code",
   "execution_count": 20,
   "id": "b23f1f8a",
   "metadata": {},
   "outputs": [
    {
     "data": {
      "text/plain": [
       "[1, 2, 'aryan', 1, 2, 'aryan']"
      ]
     },
     "execution_count": 20,
     "metadata": {},
     "output_type": "execute_result"
    }
   ],
   "source": [
    "list1*2"
   ]
  },
  {
   "cell_type": "markdown",
   "id": "2849ad27",
   "metadata": {},
   "source": [
    "The concatenation operator \"{ , }\" combines (concatenates) the bits of two or more data objects"
   ]
  },
  {
   "cell_type": "markdown",
   "id": "6cd84996",
   "metadata": {},
   "source": [
    "# 10. What is difference between the list methods append() and insert()?"
   ]
  },
  {
   "cell_type": "code",
   "execution_count": 21,
   "id": "c870adbd",
   "metadata": {},
   "outputs": [],
   "source": [
    "l = [1,2,3,'sudh']"
   ]
  },
  {
   "cell_type": "code",
   "execution_count": 22,
   "id": "a72496c2",
   "metadata": {},
   "outputs": [],
   "source": [
    "l.append('tarun')"
   ]
  },
  {
   "cell_type": "code",
   "execution_count": 23,
   "id": "134d73cd",
   "metadata": {},
   "outputs": [
    {
     "data": {
      "text/plain": [
       "[1, 2, 3, 'sudh', 'tarun']"
      ]
     },
     "execution_count": 23,
     "metadata": {},
     "output_type": "execute_result"
    }
   ],
   "source": [
    "l"
   ]
  },
  {
   "cell_type": "markdown",
   "id": "203ec79e",
   "metadata": {},
   "source": [
    "The list.append() method wil try to append the value at the very last of the list , where it end"
   ]
  },
  {
   "cell_type": "code",
   "execution_count": 24,
   "id": "6459dc19",
   "metadata": {},
   "outputs": [],
   "source": [
    "l.insert(2,'inserted value')"
   ]
  },
  {
   "cell_type": "code",
   "execution_count": 25,
   "id": "e8bd9d7d",
   "metadata": {},
   "outputs": [
    {
     "data": {
      "text/plain": [
       "[1, 2, 'inserted value', 3, 'sudh', 'tarun']"
      ]
     },
     "execution_count": 25,
     "metadata": {},
     "output_type": "execute_result"
    }
   ],
   "source": [
    "l"
   ]
  },
  {
   "cell_type": "markdown",
   "id": "a672caca",
   "metadata": {},
   "source": [
    "Whereas , list.insert() method will try to insert the value at the very perfect index location mentioned as its one of the paramneter"
   ]
  },
  {
   "cell_type": "markdown",
   "id": "513c47a3",
   "metadata": {},
   "source": [
    "# 11. What are the two methods for removing items from a list?"
   ]
  },
  {
   "cell_type": "code",
   "execution_count": 26,
   "id": "fc0d4e89",
   "metadata": {},
   "outputs": [
    {
     "data": {
      "text/plain": [
       "[1, 2, 'inserted value', 3, 'sudh', 'tarun']"
      ]
     },
     "execution_count": 26,
     "metadata": {},
     "output_type": "execute_result"
    }
   ],
   "source": [
    "l"
   ]
  },
  {
   "cell_type": "code",
   "execution_count": 27,
   "id": "eb0a9181",
   "metadata": {},
   "outputs": [
    {
     "data": {
      "text/plain": [
       "'tarun'"
      ]
     },
     "execution_count": 27,
     "metadata": {},
     "output_type": "execute_result"
    }
   ],
   "source": [
    "l.pop()"
   ]
  },
  {
   "cell_type": "code",
   "execution_count": 28,
   "id": "a69b9b8e",
   "metadata": {},
   "outputs": [
    {
     "data": {
      "text/plain": [
       "[1, 2, 'inserted value', 3, 'sudh']"
      ]
     },
     "execution_count": 28,
     "metadata": {},
     "output_type": "execute_result"
    }
   ],
   "source": [
    "l"
   ]
  },
  {
   "cell_type": "markdown",
   "id": "ae3758a3",
   "metadata": {},
   "source": [
    "The list.pop() method will try to remove or pop the value at the very end of the list !!"
   ]
  },
  {
   "cell_type": "code",
   "execution_count": 29,
   "id": "892c547b",
   "metadata": {},
   "outputs": [],
   "source": [
    "l.remove(3)"
   ]
  },
  {
   "cell_type": "code",
   "execution_count": 30,
   "id": "0500bf56",
   "metadata": {},
   "outputs": [
    {
     "data": {
      "text/plain": [
       "[1, 2, 'inserted value', 'sudh']"
      ]
     },
     "execution_count": 30,
     "metadata": {},
     "output_type": "execute_result"
    }
   ],
   "source": [
    "l"
   ]
  },
  {
   "cell_type": "raw",
   "id": "b5b73e2e",
   "metadata": {},
   "source": [
    "wheras , the list.remove() method will try to delete or remove tyhe value from the very index as it specified in the list.remove() method as a parameter "
   ]
  },
  {
   "cell_type": "markdown",
   "id": "2b44fd47",
   "metadata": {},
   "source": [
    "# 12. Describe how list values and string values are identical."
   ]
  },
  {
   "cell_type": "raw",
   "id": "c73ef02e",
   "metadata": {},
   "source": [
    "The similarity between Lists and Strings in Python is that both are sequences.\n",
    "\n",
    "list : list are mutable !\n",
    "    \n",
    "string : strings are immutable !\n",
    "    \n",
    "list : elements of a list can be of different types \n",
    "\n",
    "string :String only contains characters that are all of String type."
   ]
  },
  {
   "cell_type": "markdown",
   "id": "92bbf310",
   "metadata": {},
   "source": [
    "# 13. What's the difference between tuples and lists?"
   ]
  },
  {
   "cell_type": "markdown",
   "id": "d2b33e84",
   "metadata": {},
   "source": [
    "The key difference between the tuples and lists is that while the tuples are immutable objects the lists are mutable. This means that tuples cannot be changed while the lists can be modified. Tuples are more memory efficient than the list"
   ]
  },
  {
   "cell_type": "code",
   "execution_count": null,
   "id": "aa9702de",
   "metadata": {},
   "outputs": [],
   "source": [
    "Tuples can be represented as '()'"
   ]
  },
  {
   "cell_type": "code",
   "execution_count": 31,
   "id": "72021778",
   "metadata": {},
   "outputs": [],
   "source": [
    "l = (1,2,3,4)"
   ]
  },
  {
   "cell_type": "code",
   "execution_count": 32,
   "id": "c563dc50",
   "metadata": {},
   "outputs": [
    {
     "data": {
      "text/plain": [
       "tuple"
      ]
     },
     "execution_count": 32,
     "metadata": {},
     "output_type": "execute_result"
    }
   ],
   "source": [
    "type(l)"
   ]
  },
  {
   "cell_type": "code",
   "execution_count": null,
   "id": "e49cfe18",
   "metadata": {},
   "outputs": [],
   "source": [
    "List can represented as \"[]\""
   ]
  },
  {
   "cell_type": "code",
   "execution_count": 33,
   "id": "5751d02a",
   "metadata": {},
   "outputs": [],
   "source": [
    "l = [1,2,3,'xcv']"
   ]
  },
  {
   "cell_type": "code",
   "execution_count": 34,
   "id": "1be0b44c",
   "metadata": {},
   "outputs": [
    {
     "data": {
      "text/plain": [
       "list"
      ]
     },
     "execution_count": 34,
     "metadata": {},
     "output_type": "execute_result"
    }
   ],
   "source": [
    "type(l)"
   ]
  },
  {
   "cell_type": "markdown",
   "id": "e4b0cfd6",
   "metadata": {},
   "source": [
    "# 14. How do you type a tuple value that only contains the integer 42?"
   ]
  },
  {
   "cell_type": "code",
   "execution_count": null,
   "id": "1b0d3a86",
   "metadata": {},
   "outputs": [],
   "source": [
    "we can do like this :"
   ]
  },
  {
   "cell_type": "code",
   "execution_count": 35,
   "id": "2cf05ada",
   "metadata": {},
   "outputs": [],
   "source": [
    "tupple  = (42,)"
   ]
  },
  {
   "cell_type": "code",
   "execution_count": 36,
   "id": "6f380c3e",
   "metadata": {},
   "outputs": [
    {
     "data": {
      "text/plain": [
       "(42,)"
      ]
     },
     "execution_count": 36,
     "metadata": {},
     "output_type": "execute_result"
    }
   ],
   "source": [
    "tupple"
   ]
  },
  {
   "cell_type": "markdown",
   "id": "cd14bc52",
   "metadata": {},
   "source": [
    "# 15. How do you get a list value's tuple form? How do you get a tuple value's list form?"
   ]
  },
  {
   "cell_type": "code",
   "execution_count": 37,
   "id": "5cd4ea6b",
   "metadata": {},
   "outputs": [],
   "source": [
    "l = [1,2,'aryan','ineuron_assignment']"
   ]
  },
  {
   "cell_type": "code",
   "execution_count": 38,
   "id": "d1258f00",
   "metadata": {},
   "outputs": [
    {
     "data": {
      "text/plain": [
       "list"
      ]
     },
     "execution_count": 38,
     "metadata": {},
     "output_type": "execute_result"
    }
   ],
   "source": [
    "type(l)"
   ]
  },
  {
   "cell_type": "code",
   "execution_count": 39,
   "id": "b3850c83",
   "metadata": {},
   "outputs": [
    {
     "data": {
      "text/plain": [
       "(1, 2, 'aryan', 'ineuron_assignment')"
      ]
     },
     "execution_count": 39,
     "metadata": {},
     "output_type": "execute_result"
    }
   ],
   "source": [
    "tuple(l)  ## list to tuple "
   ]
  },
  {
   "cell_type": "code",
   "execution_count": null,
   "id": "a9dcfbc0",
   "metadata": {},
   "outputs": [],
   "source": []
  },
  {
   "cell_type": "code",
   "execution_count": 40,
   "id": "03c6959d",
   "metadata": {},
   "outputs": [],
   "source": [
    "l = (1,2,'aryaqn','inueron_assignment')"
   ]
  },
  {
   "cell_type": "code",
   "execution_count": 41,
   "id": "21389743",
   "metadata": {},
   "outputs": [
    {
     "data": {
      "text/plain": [
       "(1, 2, 'aryaqn', 'inueron_assignment')"
      ]
     },
     "execution_count": 41,
     "metadata": {},
     "output_type": "execute_result"
    }
   ],
   "source": [
    "l"
   ]
  },
  {
   "cell_type": "code",
   "execution_count": 42,
   "id": "69403648",
   "metadata": {},
   "outputs": [
    {
     "data": {
      "text/plain": [
       "tuple"
      ]
     },
     "execution_count": 42,
     "metadata": {},
     "output_type": "execute_result"
    }
   ],
   "source": [
    "type(l)"
   ]
  },
  {
   "cell_type": "code",
   "execution_count": 43,
   "id": "8deaba81",
   "metadata": {},
   "outputs": [
    {
     "data": {
      "text/plain": [
       "[1, 2, 'aryaqn', 'inueron_assignment']"
      ]
     },
     "execution_count": 43,
     "metadata": {},
     "output_type": "execute_result"
    }
   ],
   "source": [
    "list(l)"
   ]
  },
  {
   "cell_type": "markdown",
   "id": "a46e1341",
   "metadata": {},
   "source": [
    "# 16. Variables that \"contain\" list values are not necessarily lists themselves. Instead, what do they contain?"
   ]
  },
  {
   "cell_type": "code",
   "execution_count": null,
   "id": "7950317d",
   "metadata": {},
   "outputs": [],
   "source": [
    "They contain references to list values."
   ]
  },
  {
   "cell_type": "markdown",
   "id": "bde253e1",
   "metadata": {},
   "source": [
    "# 17. How do you distinguish between copy.copy() and copy.deepcopy()?"
   ]
  },
  {
   "cell_type": "code",
   "execution_count": null,
   "id": "c87c8f67",
   "metadata": {},
   "outputs": [],
   "source": [
    "##copy ##deepcopy"
   ]
  },
  {
   "cell_type": "code",
   "execution_count": 45,
   "id": "6176a222",
   "metadata": {},
   "outputs": [],
   "source": [
    "list1= [1,2,3,4]\n",
    "list2=list1"
   ]
  },
  {
   "cell_type": "code",
   "execution_count": 47,
   "id": "441b8247",
   "metadata": {},
   "outputs": [],
   "source": [
    "list2[1] = 100"
   ]
  },
  {
   "cell_type": "code",
   "execution_count": 48,
   "id": "ca7da299",
   "metadata": {},
   "outputs": [
    {
     "data": {
      "text/plain": [
       "[1, 100, 3, 4]"
      ]
     },
     "execution_count": 48,
     "metadata": {},
     "output_type": "execute_result"
    }
   ],
   "source": [
    "list1"
   ]
  },
  {
   "cell_type": "markdown",
   "id": "27d2fb3e",
   "metadata": {},
   "source": [
    "# copy"
   ]
  },
  {
   "cell_type": "code",
   "execution_count": 50,
   "id": "6a9ee80b",
   "metadata": {},
   "outputs": [],
   "source": [
    "list1 = [1,2,3,4]\n",
    "list2 = list1.copy()"
   ]
  },
  {
   "cell_type": "code",
   "execution_count": 51,
   "id": "64736104",
   "metadata": {},
   "outputs": [
    {
     "data": {
      "text/plain": [
       "[1, 2, 3, 4]"
      ]
     },
     "execution_count": 51,
     "metadata": {},
     "output_type": "execute_result"
    }
   ],
   "source": [
    "list2"
   ]
  },
  {
   "cell_type": "code",
   "execution_count": 52,
   "id": "06fc70b2",
   "metadata": {},
   "outputs": [],
   "source": [
    "list2[1]= 1000"
   ]
  },
  {
   "cell_type": "code",
   "execution_count": 53,
   "id": "d17ab79a",
   "metadata": {},
   "outputs": [
    {
     "data": {
      "text/plain": [
       "[1, 1000, 3, 4]"
      ]
     },
     "execution_count": 53,
     "metadata": {},
     "output_type": "execute_result"
    }
   ],
   "source": [
    "list2"
   ]
  },
  {
   "cell_type": "code",
   "execution_count": 54,
   "id": "a7371227",
   "metadata": {},
   "outputs": [
    {
     "data": {
      "text/plain": [
       "[1, 2, 3, 4]"
      ]
     },
     "execution_count": 54,
     "metadata": {},
     "output_type": "execute_result"
    }
   ],
   "source": [
    "list1"
   ]
  },
  {
   "cell_type": "markdown",
   "id": "f0394777",
   "metadata": {},
   "source": [
    "Because now , they both both are having two different memeoy locations "
   ]
  },
  {
   "cell_type": "markdown",
   "id": "9c81967a",
   "metadata": {},
   "source": [
    "# shallow copy w.rt nested list"
   ]
  },
  {
   "cell_type": "code",
   "execution_count": 56,
   "id": "69814c80",
   "metadata": {},
   "outputs": [],
   "source": [
    "list1 = [[1,2,3,4],[5,6,7,8]]"
   ]
  },
  {
   "cell_type": "code",
   "execution_count": 57,
   "id": "14824132",
   "metadata": {},
   "outputs": [],
   "source": [
    "list2 = list1.copy()"
   ]
  },
  {
   "cell_type": "markdown",
   "id": "1fdf7232",
   "metadata": {},
   "source": [
    "## "
   ]
  },
  {
   "cell_type": "code",
   "execution_count": 58,
   "id": "111cba12",
   "metadata": {},
   "outputs": [
    {
     "data": {
      "text/plain": [
       "[[1, 2, 3, 4], [5, 6, 7, 8]]"
      ]
     },
     "execution_count": 58,
     "metadata": {},
     "output_type": "execute_result"
    }
   ],
   "source": [
    "list2"
   ]
  },
  {
   "cell_type": "code",
   "execution_count": 59,
   "id": "57401da0",
   "metadata": {},
   "outputs": [],
   "source": [
    "list1[1][0] = 100"
   ]
  },
  {
   "cell_type": "code",
   "execution_count": 60,
   "id": "8c76b162",
   "metadata": {},
   "outputs": [
    {
     "data": {
      "text/plain": [
       "[[1, 2, 3, 4], [100, 6, 7, 8]]"
      ]
     },
     "execution_count": 60,
     "metadata": {},
     "output_type": "execute_result"
    }
   ],
   "source": [
    "list2"
   ]
  },
  {
   "cell_type": "markdown",
   "id": "1cf3dfbe",
   "metadata": {},
   "source": [
    "after chinging , both the varaible are in the same memory location only in the case of nested list , the changes will reflect on both of the list !"
   ]
  },
  {
   "cell_type": "markdown",
   "id": "8d209829",
   "metadata": {},
   "source": [
    "# deep copy"
   ]
  },
  {
   "cell_type": "code",
   "execution_count": 61,
   "id": "f76d67ed",
   "metadata": {},
   "outputs": [],
   "source": [
    "import copy \n",
    "list1 = [1,2,3,4]\n",
    "list2 = copy.deepcopy(list1)"
   ]
  },
  {
   "cell_type": "code",
   "execution_count": 62,
   "id": "42c0c9b2",
   "metadata": {},
   "outputs": [],
   "source": [
    "list2[1] = 100"
   ]
  },
  {
   "cell_type": "code",
   "execution_count": 63,
   "id": "ff461013",
   "metadata": {},
   "outputs": [
    {
     "data": {
      "text/plain": [
       "[1, 100, 3, 4]"
      ]
     },
     "execution_count": 63,
     "metadata": {},
     "output_type": "execute_result"
    }
   ],
   "source": [
    "list2"
   ]
  },
  {
   "cell_type": "code",
   "execution_count": 64,
   "id": "ee10e3ac",
   "metadata": {},
   "outputs": [
    {
     "data": {
      "text/plain": [
       "[1, 2, 3, 4]"
      ]
     },
     "execution_count": 64,
     "metadata": {},
     "output_type": "execute_result"
    }
   ],
   "source": [
    "list1"
   ]
  },
  {
   "cell_type": "code",
   "execution_count": null,
   "id": "a9ef228d",
   "metadata": {},
   "outputs": [],
   "source": [
    "## this will work exactly same like shadow copy() , when we have no nested list !"
   ]
  },
  {
   "cell_type": "code",
   "execution_count": 65,
   "id": "238b17a0",
   "metadata": {},
   "outputs": [],
   "source": [
    "list1 = [[1,2,3,4],['ram','shayam,']]"
   ]
  },
  {
   "cell_type": "code",
   "execution_count": 66,
   "id": "e03bf238",
   "metadata": {},
   "outputs": [],
   "source": [
    "list2 = copy.deepcopy(list1)"
   ]
  },
  {
   "cell_type": "code",
   "execution_count": 67,
   "id": "ffad697a",
   "metadata": {},
   "outputs": [
    {
     "data": {
      "text/plain": [
       "[[1, 2, 3, 4], ['ram', 'shayam,']]"
      ]
     },
     "execution_count": 67,
     "metadata": {},
     "output_type": "execute_result"
    }
   ],
   "source": [
    "list2"
   ]
  },
  {
   "cell_type": "code",
   "execution_count": 68,
   "id": "6bf52fc8",
   "metadata": {},
   "outputs": [],
   "source": [
    "list2[0][1]=1000"
   ]
  },
  {
   "cell_type": "code",
   "execution_count": 69,
   "id": "8af3ca0b",
   "metadata": {},
   "outputs": [
    {
     "data": {
      "text/plain": [
       "[[1, 2, 3, 4], ['ram', 'shayam,']]"
      ]
     },
     "execution_count": 69,
     "metadata": {},
     "output_type": "execute_result"
    }
   ],
   "source": [
    "list1"
   ]
  },
  {
   "cell_type": "code",
   "execution_count": 70,
   "id": "f1a2fd04",
   "metadata": {},
   "outputs": [
    {
     "data": {
      "text/plain": [
       "[[1, 1000, 3, 4], ['ram', 'shayam,']]"
      ]
     },
     "execution_count": 70,
     "metadata": {},
     "output_type": "execute_result"
    }
   ],
   "source": [
    "list2"
   ]
  },
  {
   "cell_type": "markdown",
   "id": "0a987970",
   "metadata": {},
   "source": [
    "These will change seperatly , it is not like shadow copy , both list will have its own memory locations !"
   ]
  }
 ],
 "metadata": {
  "kernelspec": {
   "display_name": "Python 3 (ipykernel)",
   "language": "python",
   "name": "python3"
  },
  "language_info": {
   "codemirror_mode": {
    "name": "ipython",
    "version": 3
   },
   "file_extension": ".py",
   "mimetype": "text/x-python",
   "name": "python",
   "nbconvert_exporter": "python",
   "pygments_lexer": "ipython3",
   "version": "3.9.12"
  }
 },
 "nbformat": 4,
 "nbformat_minor": 5
}
