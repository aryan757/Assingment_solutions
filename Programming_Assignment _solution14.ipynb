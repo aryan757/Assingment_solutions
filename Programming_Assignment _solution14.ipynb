{
 "cells": [
  {
   "cell_type": "markdown",
   "id": "6088966b",
   "metadata": {},
   "source": [
    "# Question 1:\n",
    "\n",
    "Define a class with a generator which can iterate the numbers, which are divisible by 7, between a given range 0 and n.\n"
   ]
  },
  {
   "cell_type": "code",
   "execution_count": 1,
   "id": "b4d6d312",
   "metadata": {},
   "outputs": [],
   "source": [
    "def my_gen(n):\n",
    "    for i in range(n):\n",
    "        if i % 7 == 0 :\n",
    "            yield i\n",
    "        else :\n",
    "            continue\n",
    "            \n",
    "    "
   ]
  },
  {
   "cell_type": "code",
   "execution_count": 2,
   "id": "a2cf7963",
   "metadata": {},
   "outputs": [],
   "source": [
    "a = my_gen(40)"
   ]
  },
  {
   "cell_type": "code",
   "execution_count": 3,
   "id": "a5fd96ed",
   "metadata": {},
   "outputs": [
    {
     "data": {
      "text/plain": [
       "0"
      ]
     },
     "execution_count": 3,
     "metadata": {},
     "output_type": "execute_result"
    }
   ],
   "source": [
    "next(a)"
   ]
  },
  {
   "cell_type": "code",
   "execution_count": 5,
   "id": "5bbca89a",
   "metadata": {},
   "outputs": [
    {
     "data": {
      "text/plain": [
       "7"
      ]
     },
     "execution_count": 5,
     "metadata": {},
     "output_type": "execute_result"
    }
   ],
   "source": [
    "next(a)"
   ]
  },
  {
   "cell_type": "markdown",
   "id": "89124361",
   "metadata": {},
   "source": [
    "# Question 2:\n",
    "Write a program to compute the frequency of the words from the input. The output should output after sorting the key alphanumerically. \n",
    "\n",
    "Suppose the following input is supplied to the program:\n",
    "\n",
    "New to Python or choosing between Python 2 and Python 3? Read Python 2 or Python 3.\n",
    "\n",
    "Then, the output should be:\n",
    "\n",
    "2:2\n",
    "\n",
    "3.:1\n",
    "\n",
    "3?:1\n",
    "\n",
    "New:1\n",
    "\n",
    "Python:5\n",
    "\n",
    "Read:1\n",
    "\n",
    "and:1\n",
    "\n",
    "between:1\n",
    "\n",
    "choosing:1\n",
    "\n",
    "or:2\n",
    "\n",
    "to:1\n"
   ]
  },
  {
   "cell_type": "code",
   "execution_count": 6,
   "id": "6f3494d5",
   "metadata": {},
   "outputs": [],
   "source": [
    "def frequency(input):\n",
    "    freq = {}\n",
    "    for word in input.split():\n",
    "        freq[word] = freq.get(word, 0) + 1\n",
    "    words = list(freq.keys())\n",
    "    words.sort()\n",
    "    for w in words:\n",
    "        print(f'{w}:{freq[w]}')\n",
    "    "
   ]
  },
  {
   "cell_type": "code",
   "execution_count": 7,
   "id": "098d3757",
   "metadata": {},
   "outputs": [
    {
     "name": "stdout",
     "output_type": "stream",
     "text": [
      "2:2\n",
      "3.:1\n",
      "3?:1\n",
      "New:1\n",
      "Python:5\n",
      "Read:1\n",
      "and:1\n",
      "between:1\n",
      "choosing:1\n",
      "or:2\n",
      "to:1\n"
     ]
    }
   ],
   "source": [
    "frequency('New to Python or choosing between Python 2 and Python 3? Read Python 2 or Python 3.')"
   ]
  },
  {
   "cell_type": "markdown",
   "id": "7907f178",
   "metadata": {},
   "source": [
    "# Question 3:\n",
    "\n",
    "\n",
    "\n",
    "Define a class Person and its two child classes: Male and Female. All classes have a method \"getGender\" which can print \"Male\" for Male class and \"Female\" for Female class.\n"
   ]
  },
  {
   "cell_type": "code",
   "execution_count": 8,
   "id": "06ef0180",
   "metadata": {},
   "outputs": [],
   "source": [
    "class male :\n",
    "    def __init__(self):\n",
    "        pass\n",
    "    def getgender(self):\n",
    "        return \"Male\"\n",
    "    def __str__(self):\n",
    "        return self.getgender()"
   ]
  },
  {
   "cell_type": "code",
   "execution_count": 9,
   "id": "8d58bdc8",
   "metadata": {},
   "outputs": [],
   "source": [
    "class female :\n",
    "    def __init__(self):\n",
    "        pass\n",
    "    def getgender(self):\n",
    "        return \"Female\"\n",
    "    def __str__(self):\n",
    "        return self.getgender()"
   ]
  },
  {
   "cell_type": "code",
   "execution_count": 10,
   "id": "dc32d7ac",
   "metadata": {},
   "outputs": [],
   "source": [
    "class Person(male,female):\n",
    "    ob1 = male()\n",
    "    ob2 = female()\n",
    "  "
   ]
  },
  {
   "cell_type": "code",
   "execution_count": 11,
   "id": "75f0ad38",
   "metadata": {},
   "outputs": [],
   "source": [
    "ob3 = Person()"
   ]
  },
  {
   "cell_type": "code",
   "execution_count": 12,
   "id": "8f1cb54c",
   "metadata": {},
   "outputs": [
    {
     "name": "stdout",
     "output_type": "stream",
     "text": [
      "Male\n"
     ]
    }
   ],
   "source": [
    "print(ob3.ob1)"
   ]
  },
  {
   "cell_type": "code",
   "execution_count": 13,
   "id": "e2324eef",
   "metadata": {},
   "outputs": [
    {
     "name": "stdout",
     "output_type": "stream",
     "text": [
      "Female\n"
     ]
    }
   ],
   "source": [
    "print(ob3.ob2)"
   ]
  },
  {
   "cell_type": "markdown",
   "id": "89fd7c8d",
   "metadata": {},
   "source": [
    "# Question 4:\n",
    "Please write a program to generate all sentences where subject is in [\"I\", \"You\"] and verb is in [\"Play\", \"Love\"] and the object is in [\"Hockey\",\"Football\"].\n"
   ]
  },
  {
   "cell_type": "code",
   "execution_count": 14,
   "id": "4472b7c2",
   "metadata": {},
   "outputs": [
    {
     "name": "stdout",
     "output_type": "stream",
     "text": [
      "['I love Hockey', 'I love Football', 'I play Hockey', 'I play Football', 'You love Hockey', 'You love Football', 'You play Hockey', 'You play Football']\n"
     ]
    }
   ],
   "source": [
    "def generate_sentences(subjects,verbs,objects):\n",
    "    #start writing your code here\n",
    "    list=[]\n",
    "    for i in subjects:\n",
    "        for j in verbs:\n",
    "            for k in objects:\n",
    "                list.append(i+\" \"+j+\" \"+k)\n",
    "    return list \n",
    "               \n",
    "subjects=[\"I\",\"You\"]\n",
    "verbs=[\"love\", \"play\"]\n",
    "objects=[\"Hockey\",\"Football\"]\n",
    "print(generate_sentences(subjects,verbs,objects))"
   ]
  },
  {
   "cell_type": "markdown",
   "id": "cd183ccb",
   "metadata": {},
   "source": [
    "# Question 5:\n",
    "Please write a program to compress and decompress the string \"hello world!hello world!hello world!hello world!\".\n"
   ]
  },
  {
   "cell_type": "code",
   "execution_count": 15,
   "id": "293973ee",
   "metadata": {},
   "outputs": [
    {
     "name": "stdout",
     "output_type": "stream",
     "text": [
      "b'x\\x9c\\xcbH\\xcd\\xc9\\xc9W(\\xcf/\\xcaIQ\\xcc \\x82\\r\\x00\\xbd[\\x11\\xf5'\n",
      "b'hello world!hello world!hello world!hello world!'\n"
     ]
    }
   ],
   "source": [
    "import zlib\n",
    "\n",
    "s = 'hello world!hello world!hello world!hello world!'\n",
    "y = bytes(s, 'utf-8')\n",
    "x = zlib.compress(y)\n",
    "print(x)\n",
    "print(zlib.decompress(x))"
   ]
  },
  {
   "cell_type": "markdown",
   "id": "672accba",
   "metadata": {},
   "source": [
    "# Question 6:\n",
    "Please write a binary search function which searches an item in a sorted list. The function should return the index of element to be searched in the list.\n"
   ]
  },
  {
   "cell_type": "code",
   "execution_count": 18,
   "id": "c8740056",
   "metadata": {},
   "outputs": [],
   "source": [
    "def binary_search(arr,low,high,key):\n",
    "    if high>=low :\n",
    "        mid = (high + low) // 2\n",
    "        \n",
    "        if arr[mid] == key :\n",
    "            return mid\n",
    "        elif arr[mid] > key:\n",
    "            return binary_search(arr,low,mid-1,key)\n",
    "        else :\n",
    "            return binary_search(arr,mid+1,high,key)\n",
    "    else :\n",
    "        return \"not found\"\n",
    "            "
   ]
  },
  {
   "cell_type": "code",
   "execution_count": 19,
   "id": "296ff9f3",
   "metadata": {},
   "outputs": [],
   "source": [
    "arr = [34,21,424,6,12,44,2]"
   ]
  },
  {
   "cell_type": "code",
   "execution_count": 20,
   "id": "d6ce0088",
   "metadata": {},
   "outputs": [],
   "source": [
    "arr.sort()"
   ]
  },
  {
   "cell_type": "code",
   "execution_count": 21,
   "id": "213d3f16",
   "metadata": {},
   "outputs": [
    {
     "data": {
      "text/plain": [
       "5"
      ]
     },
     "execution_count": 21,
     "metadata": {},
     "output_type": "execute_result"
    }
   ],
   "source": [
    "binary_search(arr,0,len(arr)-1,44)"
   ]
  },
  {
   "cell_type": "code",
   "execution_count": null,
   "id": "5c8992f6",
   "metadata": {},
   "outputs": [],
   "source": []
  }
 ],
 "metadata": {
  "kernelspec": {
   "display_name": "Python 3 (ipykernel)",
   "language": "python",
   "name": "python3"
  },
  "language_info": {
   "codemirror_mode": {
    "name": "ipython",
    "version": 3
   },
   "file_extension": ".py",
   "mimetype": "text/x-python",
   "name": "python",
   "nbconvert_exporter": "python",
   "pygments_lexer": "ipython3",
   "version": "3.9.12"
  }
 },
 "nbformat": 4,
 "nbformat_minor": 5
}
