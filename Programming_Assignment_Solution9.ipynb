{
 "cells": [
  {
   "cell_type": "markdown",
   "id": "eefb7869",
   "metadata": {},
   "source": [
    "# 1.\tWrite a Python program to check if the given number is a Disarium Number?"
   ]
  },
  {
   "cell_type": "markdown",
   "id": "6e25406c",
   "metadata": {},
   "source": [
    "A Disarium number is a number defined by the following process: Sum of its digits powered with their respective position is equal to the original number. Some other DISARIUM are 89, 175, 518 etc"
   ]
  },
  {
   "cell_type": "code",
   "execution_count": 5,
   "id": "ae3b45d7",
   "metadata": {},
   "outputs": [],
   "source": [
    "def disarium (num):\n",
    "    \n",
    "    check = num\n",
    "    num_update = num\n",
    "\n",
    "    digit = 0\n",
    "    while(True):\n",
    "        if num_update == 0 :\n",
    "            break\n",
    "        else :\n",
    "            num_update = num_update//10\n",
    "            digit = digit+1\n",
    "\n",
    "\n",
    "    sum_new = 0\n",
    "    summation = 1\n",
    "    for op in range(1,digit+1):\n",
    "        num_new = num % 10 \n",
    "        temp = digit\n",
    "        while (temp):\n",
    "            summation = summation * num_new\n",
    "            temp = temp -1\n",
    "        num = num//10\n",
    "        digit = digit -1\n",
    "        sum_new = sum_new + summation\n",
    "        summation = 1\n",
    "    else :\n",
    "        if check == sum_new:\n",
    "            return \"Disarium Number\"\n",
    "        else :\n",
    "            return \"Not a Disarium Number\""
   ]
  },
  {
   "cell_type": "code",
   "execution_count": 3,
   "id": "518aaaf6",
   "metadata": {},
   "outputs": [
    {
     "data": {
      "text/plain": [
       "'Not a Disarium Number'"
      ]
     },
     "execution_count": 3,
     "metadata": {},
     "output_type": "execute_result"
    }
   ],
   "source": [
    "disarium(145)"
   ]
  },
  {
   "cell_type": "code",
   "execution_count": 4,
   "id": "38444f8b",
   "metadata": {},
   "outputs": [
    {
     "data": {
      "text/plain": [
       "'Disarium Number'"
      ]
     },
     "execution_count": 4,
     "metadata": {},
     "output_type": "execute_result"
    }
   ],
   "source": [
    "disarium(175)"
   ]
  },
  {
   "cell_type": "code",
   "execution_count": 6,
   "id": "cdab2dbf",
   "metadata": {},
   "outputs": [
    {
     "data": {
      "text/plain": [
       "'Disarium Number'"
      ]
     },
     "execution_count": 6,
     "metadata": {},
     "output_type": "execute_result"
    }
   ],
   "source": [
    "disarium(518)"
   ]
  },
  {
   "cell_type": "markdown",
   "id": "34728445",
   "metadata": {},
   "source": []
  },
  {
   "cell_type": "markdown",
   "id": "d253c11a",
   "metadata": {},
   "source": [
    "# 2.\tWrite a Python program to print all disarium numbers between 1 to 100?"
   ]
  },
  {
   "cell_type": "code",
   "execution_count": 35,
   "id": "8e186863",
   "metadata": {},
   "outputs": [],
   "source": [
    "def disarium (num):\n",
    "    \n",
    "    check = num\n",
    "    num_update = num\n",
    "\n",
    "    digit = 0\n",
    "    while(True):\n",
    "        if num_update == 0 :\n",
    "            break\n",
    "        else :\n",
    "            num_update = num_update//10\n",
    "            digit = digit+1\n",
    "\n",
    "\n",
    "    sum_new = 0\n",
    "    summation = 1\n",
    "    for op in range(1,digit+1):\n",
    "        num_new = num % 10 \n",
    "        temp = digit\n",
    "        while (temp):\n",
    "            summation = summation * num_new\n",
    "            temp = temp -1\n",
    "        num = num//10\n",
    "        digit = digit -1\n",
    "        sum_new = sum_new + summation\n",
    "        summation = 1\n",
    "    else :\n",
    "        if check == sum_new:\n",
    "            print (\"{} is Disarium Number\".format(check)) \n",
    "        "
   ]
  },
  {
   "cell_type": "code",
   "execution_count": 36,
   "id": "641ff599",
   "metadata": {},
   "outputs": [],
   "source": [
    "def PrintDisarium(Range):\n",
    "    for i in range(1 , Range+1):\n",
    "        disarium(i)\n",
    "        \n",
    "        "
   ]
  },
  {
   "cell_type": "code",
   "execution_count": 37,
   "id": "566c0136",
   "metadata": {},
   "outputs": [
    {
     "name": "stdout",
     "output_type": "stream",
     "text": [
      "1 is Disarium Number\n",
      "2 is Disarium Number\n",
      "3 is Disarium Number\n",
      "4 is Disarium Number\n",
      "5 is Disarium Number\n",
      "6 is Disarium Number\n",
      "7 is Disarium Number\n",
      "8 is Disarium Number\n",
      "9 is Disarium Number\n",
      "89 is Disarium Number\n"
     ]
    }
   ],
   "source": [
    "PrintDisarium(100)"
   ]
  },
  {
   "cell_type": "code",
   "execution_count": null,
   "id": "de29a14e",
   "metadata": {},
   "outputs": [],
   "source": []
  },
  {
   "cell_type": "markdown",
   "id": "7341fa5d",
   "metadata": {},
   "source": [
    "# 3.\tWrite a Python program to check if the given number is Happy Number?"
   ]
  },
  {
   "cell_type": "code",
   "execution_count": 78,
   "id": "0a4e1f5b",
   "metadata": {},
   "outputs": [],
   "source": [
    "def is_Happy_num(n):\n",
    "    past = set()\n",
    "    while n != 1 :\n",
    "        n = sum(int(i)**2 for i in str(n))\n",
    "        if n in past:\n",
    "            return False\n",
    "        past.add(n)\n",
    "    return True\n"
   ]
  },
  {
   "cell_type": "code",
   "execution_count": 79,
   "id": "29845851",
   "metadata": {},
   "outputs": [
    {
     "name": "stdout",
     "output_type": "stream",
     "text": [
      "True\n",
      "True\n",
      "False\n"
     ]
    }
   ],
   "source": [
    "print(is_Happy_num(7))\n",
    "print(is_Happy_num(932))\n",
    "print(is_Happy_num(6))"
   ]
  },
  {
   "cell_type": "markdown",
   "id": "0b51affc",
   "metadata": {},
   "source": [
    "# 4.\tWrite a Python program to print all happy numbers between 1 and 100?"
   ]
  },
  {
   "cell_type": "code",
   "execution_count": null,
   "id": "853e16fc",
   "metadata": {},
   "outputs": [],
   "source": [
    "   "
   ]
  },
  {
   "cell_type": "code",
   "execution_count": 76,
   "id": "f1db9129",
   "metadata": {},
   "outputs": [],
   "source": [
    "def PrintHappyNumber(Range):\n",
    "    for i in range(1 , Range+1):\n",
    "        print(\"{}\".format(i),is_Happy_num(i))"
   ]
  },
  {
   "cell_type": "code",
   "execution_count": 77,
   "id": "17e17da9",
   "metadata": {},
   "outputs": [
    {
     "name": "stdout",
     "output_type": "stream",
     "text": [
      "1 True\n",
      "2 False\n",
      "3 False\n",
      "4 False\n",
      "5 False\n",
      "6 False\n",
      "7 True\n",
      "8 False\n",
      "9 False\n",
      "10 True\n",
      "11 False\n",
      "12 False\n",
      "13 True\n",
      "14 False\n",
      "15 False\n",
      "16 False\n",
      "17 False\n",
      "18 False\n",
      "19 True\n",
      "20 False\n",
      "21 False\n",
      "22 False\n",
      "23 True\n",
      "24 False\n",
      "25 False\n",
      "26 False\n",
      "27 False\n",
      "28 True\n",
      "29 False\n",
      "30 False\n",
      "31 True\n",
      "32 True\n",
      "33 False\n",
      "34 False\n",
      "35 False\n",
      "36 False\n",
      "37 False\n",
      "38 False\n",
      "39 False\n",
      "40 False\n",
      "41 False\n",
      "42 False\n",
      "43 False\n",
      "44 True\n",
      "45 False\n",
      "46 False\n",
      "47 False\n",
      "48 False\n",
      "49 True\n",
      "50 False\n",
      "51 False\n",
      "52 False\n",
      "53 False\n",
      "54 False\n",
      "55 False\n",
      "56 False\n",
      "57 False\n",
      "58 False\n",
      "59 False\n",
      "60 False\n",
      "61 False\n",
      "62 False\n",
      "63 False\n",
      "64 False\n",
      "65 False\n",
      "66 False\n",
      "67 False\n",
      "68 True\n",
      "69 False\n",
      "70 True\n",
      "71 False\n",
      "72 False\n",
      "73 False\n",
      "74 False\n",
      "75 False\n",
      "76 False\n",
      "77 False\n",
      "78 False\n",
      "79 True\n",
      "80 False\n",
      "81 False\n",
      "82 True\n",
      "83 False\n",
      "84 False\n",
      "85 False\n",
      "86 True\n",
      "87 False\n",
      "88 False\n",
      "89 False\n",
      "90 False\n",
      "91 True\n",
      "92 False\n",
      "93 False\n",
      "94 True\n",
      "95 False\n",
      "96 False\n",
      "97 True\n",
      "98 False\n",
      "99 False\n",
      "100 True\n"
     ]
    }
   ],
   "source": [
    "PrintHappyNumber(100)"
   ]
  },
  {
   "cell_type": "code",
   "execution_count": null,
   "id": "82efdbd8",
   "metadata": {},
   "outputs": [],
   "source": [
    "\n"
   ]
  },
  {
   "cell_type": "markdown",
   "id": "1c9ae251",
   "metadata": {},
   "source": [
    "# 5.\tWrite a Python program to determine whether the given number is a Harshad Number?"
   ]
  },
  {
   "cell_type": "raw",
   "id": "ff35ed54",
   "metadata": {},
   "source": [
    "# If a number is divisible by the sum of its digits, then it will be known as a Harshad Number."
   ]
  },
  {
   "cell_type": "code",
   "execution_count": 82,
   "id": "57aeeab5",
   "metadata": {},
   "outputs": [],
   "source": [
    "def is_harsahd_number(num):\n",
    "    check = num\n",
    "    sum = 0\n",
    "    while (num):\n",
    "        sum = (num%10) + sum \n",
    "        num = num // 10\n",
    "    else:\n",
    "        if check%sum == 0 :\n",
    "            return \"The given number is Harshad number !\"\n",
    "        else:\n",
    "            return \"The given is NOT a Harshad Number !! \""
   ]
  },
  {
   "cell_type": "code",
   "execution_count": 83,
   "id": "0b7e2617",
   "metadata": {},
   "outputs": [
    {
     "data": {
      "text/plain": [
       "'The given number is Harshad number !'"
      ]
     },
     "execution_count": 83,
     "metadata": {},
     "output_type": "execute_result"
    }
   ],
   "source": [
    "is_harsahd_number(156)"
   ]
  },
  {
   "cell_type": "code",
   "execution_count": 86,
   "id": "4dcba8da",
   "metadata": {},
   "outputs": [
    {
     "data": {
      "text/plain": [
       "'The given is NOT a Harshad Number !! '"
      ]
     },
     "execution_count": 86,
     "metadata": {},
     "output_type": "execute_result"
    }
   ],
   "source": [
    "is_harsahd_number(502)"
   ]
  },
  {
   "cell_type": "markdown",
   "id": "3a6f85a6",
   "metadata": {},
   "source": [
    "# 6.\tWrite a Python program to print all pronic numbers between 1 and 100?"
   ]
  },
  {
   "cell_type": "raw",
   "id": "e06c0507",
   "metadata": {},
   "source": [
    "The pronic number is a product of two consecutive integers of the form: n(n+1)"
   ]
  },
  {
   "cell_type": "code",
   "execution_count": 111,
   "id": "3a509f26",
   "metadata": {},
   "outputs": [],
   "source": [
    "def is_pronic(num):\n",
    "    for i in range(1,num+1):\n",
    "        if num%i == 0 :\n",
    "            if num%(i+1)== 0 and num == i*(i+1):\n",
    "                print(\"{}({})\".format(i,i+1))\n",
    "                return \"The given number is pronic\"\n",
    "                \n",
    "        else :\n",
    "            continue\n",
    "    else :\n",
    "        return \"The number is NOT pronic\""
   ]
  },
  {
   "cell_type": "code",
   "execution_count": 116,
   "id": "4ff58f1e",
   "metadata": {},
   "outputs": [
    {
     "data": {
      "text/plain": [
       "'The number is NOT pronic'"
      ]
     },
     "execution_count": 116,
     "metadata": {},
     "output_type": "execute_result"
    }
   ],
   "source": [
    "is_pronic(123)"
   ]
  },
  {
   "cell_type": "code",
   "execution_count": 117,
   "id": "db600046",
   "metadata": {},
   "outputs": [
    {
     "name": "stdout",
     "output_type": "stream",
     "text": [
      "5(6)\n"
     ]
    },
    {
     "data": {
      "text/plain": [
       "'The given number is pronic'"
      ]
     },
     "execution_count": 117,
     "metadata": {},
     "output_type": "execute_result"
    }
   ],
   "source": [
    "is_pronic(30)"
   ]
  },
  {
   "cell_type": "code",
   "execution_count": 118,
   "id": "fc9c27e1",
   "metadata": {},
   "outputs": [
    {
     "name": "stdout",
     "output_type": "stream",
     "text": [
      "3(4)\n"
     ]
    },
    {
     "data": {
      "text/plain": [
       "'The given number is pronic'"
      ]
     },
     "execution_count": 118,
     "metadata": {},
     "output_type": "execute_result"
    }
   ],
   "source": [
    "is_pronic(12)"
   ]
  },
  {
   "cell_type": "code",
   "execution_count": 122,
   "id": "221bd211",
   "metadata": {},
   "outputs": [],
   "source": [
    "def PrintPronicNumber(Range):\n",
    "    for i in range(1 , Range+1):\n",
    "        is_pronic(i)"
   ]
  },
  {
   "cell_type": "code",
   "execution_count": 123,
   "id": "00d6e654",
   "metadata": {},
   "outputs": [
    {
     "name": "stdout",
     "output_type": "stream",
     "text": [
      "1(2)\n",
      "2(3)\n",
      "3(4)\n",
      "4(5)\n",
      "5(6)\n",
      "6(7)\n",
      "7(8)\n",
      "8(9)\n",
      "9(10)\n"
     ]
    }
   ],
   "source": [
    "PrintPronicNumber(100)"
   ]
  },
  {
   "cell_type": "code",
   "execution_count": null,
   "id": "5352c5d5",
   "metadata": {},
   "outputs": [],
   "source": []
  }
 ],
 "metadata": {
  "kernelspec": {
   "display_name": "Python 3 (ipykernel)",
   "language": "python",
   "name": "python3"
  },
  "language_info": {
   "codemirror_mode": {
    "name": "ipython",
    "version": 3
   },
   "file_extension": ".py",
   "mimetype": "text/x-python",
   "name": "python",
   "nbconvert_exporter": "python",
   "pygments_lexer": "ipython3",
   "version": "3.9.12"
  }
 },
 "nbformat": 4,
 "nbformat_minor": 5
}
