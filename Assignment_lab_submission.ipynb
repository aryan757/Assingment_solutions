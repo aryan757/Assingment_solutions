{
 "cells": [
  {
   "cell_type": "code",
   "execution_count": null,
   "id": "d3fd53be",
   "metadata": {},
   "outputs": [],
   "source": [
    "import pandas as pd\n",
    "import numpy as np"
   ]
  },
  {
   "cell_type": "code",
   "execution_count": null,
   "id": "4dc85d41",
   "metadata": {},
   "outputs": [],
   "source": [
    "import numpy as np  \n",
    "a=np.random.rand(5,2)  \n",
    "print(a)"
   ]
  },
  {
   "cell_type": "code",
   "execution_count": null,
   "id": "432486a1",
   "metadata": {},
   "outputs": [],
   "source": [
    "np.random.randint(5,60,(4,4))"
   ]
  },
  {
   "cell_type": "code",
   "execution_count": null,
   "id": "ec580a68",
   "metadata": {},
   "outputs": [],
   "source": [
    "np.random.ran"
   ]
  },
  {
   "cell_type": "code",
   "execution_count": null,
   "id": "3bffbfd0",
   "metadata": {},
   "outputs": [],
   "source": [
    "arr = np.random.randint(4,100, (5,5))"
   ]
  },
  {
   "cell_type": "code",
   "execution_count": null,
   "id": "f0617d4d",
   "metadata": {},
   "outputs": [],
   "source": []
  },
  {
   "cell_type": "code",
   "execution_count": null,
   "id": "6bcf37e1",
   "metadata": {},
   "outputs": [],
   "source": []
  },
  {
   "cell_type": "code",
   "execution_count": null,
   "id": "6ae3ac43",
   "metadata": {},
   "outputs": [],
   "source": []
  },
  {
   "cell_type": "code",
   "execution_count": null,
   "id": "cf084a8f",
   "metadata": {},
   "outputs": [],
   "source": [
    "arr = np.random.randint(999999,9999999)"
   ]
  },
  {
   "cell_type": "code",
   "execution_count": null,
   "id": "433393cd",
   "metadata": {},
   "outputs": [],
   "source": [
    "arr"
   ]
  },
  {
   "cell_type": "code",
   "execution_count": null,
   "id": "5cda42d1",
   "metadata": {},
   "outputs": [],
   "source": [
    "def seven_digit_random_num(range_of_number):\n",
    "    new=[]\n",
    "    count = 0\n",
    "    for i in range(0,range_of_number):\n",
    "        arr = np.random.randint(999999,9999999)\n",
    "        print(arr)\n",
    "        count+=1\n",
    "        \n",
    "    print(\"The total numbers printed are\\t\",count)    "
   ]
  },
  {
   "cell_type": "code",
   "execution_count": null,
   "id": "1f6a9383",
   "metadata": {},
   "outputs": [],
   "source": [
    "seven_digit_random_num(100)"
   ]
  },
  {
   "cell_type": "code",
   "execution_count": null,
   "id": "a13dbf58",
   "metadata": {},
   "outputs": [],
   "source": []
  },
  {
   "cell_type": "code",
   "execution_count": null,
   "id": "0d84a38d",
   "metadata": {},
   "outputs": [],
   "source": [
    "for i in range(0,11):\n",
    "    l=[]\n",
    "    arr = np.random.randint(999999,9999999)\n",
    "    l.append(arr)"
   ]
  },
  {
   "cell_type": "code",
   "execution_count": null,
   "id": "3baa5f7f",
   "metadata": {},
   "outputs": [],
   "source": [
    "type(arr)"
   ]
  },
  {
   "cell_type": "code",
   "execution_count": null,
   "id": "695e50f6",
   "metadata": {},
   "outputs": [],
   "source": [
    "l=[]"
   ]
  },
  {
   "cell_type": "code",
   "execution_count": null,
   "id": "aee9034d",
   "metadata": {},
   "outputs": [],
   "source": [
    "l.append(arr)"
   ]
  },
  {
   "cell_type": "code",
   "execution_count": null,
   "id": "1e159d5d",
   "metadata": {},
   "outputs": [],
   "source": [
    "l"
   ]
  },
  {
   "cell_type": "code",
   "execution_count": null,
   "id": "e18cee4e",
   "metadata": {},
   "outputs": [],
   "source": [
    "l"
   ]
  },
  {
   "cell_type": "code",
   "execution_count": null,
   "id": "cfa38fd8",
   "metadata": {},
   "outputs": [],
   "source": [
    "print(l)"
   ]
  },
  {
   "cell_type": "code",
   "execution_count": null,
   "id": "a6a4a535",
   "metadata": {},
   "outputs": [],
   "source": [
    "for i in range(9):\n",
    "    l.append(i)"
   ]
  },
  {
   "cell_type": "code",
   "execution_count": null,
   "id": "7907e234",
   "metadata": {},
   "outputs": [],
   "source": [
    "l"
   ]
  },
  {
   "cell_type": "code",
   "execution_count": null,
   "id": "b12fe8e0",
   "metadata": {},
   "outputs": [],
   "source": [
    "arr = np.random.randint(999999,9999999)"
   ]
  },
  {
   "cell_type": "code",
   "execution_count": null,
   "id": "dcaa9264",
   "metadata": {},
   "outputs": [],
   "source": [
    "type(arr)"
   ]
  },
  {
   "cell_type": "code",
   "execution_count": null,
   "id": "767a62ae",
   "metadata": {},
   "outputs": [],
   "source": [
    "str(arr)"
   ]
  },
  {
   "cell_type": "code",
   "execution_count": null,
   "id": "70ecceaa",
   "metadata": {},
   "outputs": [],
   "source": [
    "for j in range(0,11):\n",
    "    l1=[]\n",
    "    arr = np.random.randint(999999,9999999)\n",
    "    l1.append(str(arr))"
   ]
  },
  {
   "cell_type": "code",
   "execution_count": null,
   "id": "b6d342b9",
   "metadata": {},
   "outputs": [],
   "source": [
    "l1"
   ]
  },
  {
   "cell_type": "code",
   "execution_count": null,
   "id": "4d75bdd6",
   "metadata": {},
   "outputs": [],
   "source": [
    "new1 = []"
   ]
  },
  {
   "cell_type": "code",
   "execution_count": null,
   "id": "48acaf82",
   "metadata": {},
   "outputs": [],
   "source": [
    "def seven_digit_random_num(range_of_number):\n",
    "    count = 0\n",
    "    for i in range(0,range_of_number):\n",
    "        arr = np.random.randint(999999,9999999)\n",
    "        new1.append(arr)\n",
    "        print(arr)\n",
    "        count+=1\n",
    "        \n",
    "    print(\"The total numbers printed are\\t\",count)    "
   ]
  },
  {
   "cell_type": "code",
   "execution_count": null,
   "id": "a84103ef",
   "metadata": {},
   "outputs": [],
   "source": []
  },
  {
   "cell_type": "code",
   "execution_count": null,
   "id": "136db822",
   "metadata": {},
   "outputs": [],
   "source": [
    "seven_digit_random_num(100)"
   ]
  },
  {
   "cell_type": "code",
   "execution_count": null,
   "id": "a2b7d286",
   "metadata": {},
   "outputs": [],
   "source": [
    "new1"
   ]
  },
  {
   "cell_type": "code",
   "execution_count": null,
   "id": "06450259",
   "metadata": {},
   "outputs": [],
   "source": [
    "##compiling !!"
   ]
  },
  {
   "cell_type": "code",
   "execution_count": null,
   "id": "5874783a",
   "metadata": {},
   "outputs": [],
   "source": [
    "new1 = []"
   ]
  },
  {
   "cell_type": "code",
   "execution_count": null,
   "id": "4165f245",
   "metadata": {},
   "outputs": [],
   "source": [
    "def seven_digit_random_num(range_of_number):\n",
    "    count = 0\n",
    "    for i in range(0,range_of_number):\n",
    "        arr = np.random.randint(999999,9999999)\n",
    "        new1.append(arr)\n",
    "        print(arr)\n",
    "        count+=1\n",
    "        \n",
    "    print(\"The total numbers printed are\\t\",count)"
   ]
  },
  {
   "cell_type": "code",
   "execution_count": null,
   "id": "9e6a0c24",
   "metadata": {},
   "outputs": [],
   "source": [
    "seven_digit_random_num(1000000)"
   ]
  },
  {
   "cell_type": "code",
   "execution_count": null,
   "id": "6bdf38ce",
   "metadata": {},
   "outputs": [],
   "source": [
    "def search(search_element):\n",
    "    if search_element in new1:\n",
    "        return \"Element found\"\n",
    "    else :\n",
    "        return \"Element not found\""
   ]
  },
  {
   "cell_type": "code",
   "execution_count": null,
   "id": "71082360",
   "metadata": {},
   "outputs": [],
   "source": [
    "search(3222609)"
   ]
  },
  {
   "cell_type": "code",
   "execution_count": null,
   "id": "9478e076",
   "metadata": {},
   "outputs": [],
   "source": []
  }
 ],
 "metadata": {
  "kernelspec": {
   "display_name": "Python 3 (ipykernel)",
   "language": "python",
   "name": "python3"
  },
  "language_info": {
   "codemirror_mode": {
    "name": "ipython",
    "version": 3
   },
   "file_extension": ".py",
   "mimetype": "text/x-python",
   "name": "python",
   "nbconvert_exporter": "python",
   "pygments_lexer": "ipython3",
   "version": "3.9.12"
  }
 },
 "nbformat": 4,
 "nbformat_minor": 5
}
