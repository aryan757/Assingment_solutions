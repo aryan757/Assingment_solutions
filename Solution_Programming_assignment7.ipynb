{
 "cells": [
  {
   "cell_type": "markdown",
   "id": "74476e47",
   "metadata": {},
   "source": [
    "# 1.\tWrite a Python Program to find sum of array?"
   ]
  },
  {
   "cell_type": "code",
   "execution_count": 11,
   "id": "04361ee3",
   "metadata": {},
   "outputs": [],
   "source": [
    "def sum(l):\n",
    "    sum = 0\n",
    "    for i in range(0,len(l)):\n",
    "        sum = sum + l[i]\n",
    "    else :\n",
    "        print(\"The sum is \\n\")\n",
    "        return sum\n"
   ]
  },
  {
   "cell_type": "code",
   "execution_count": 12,
   "id": "768d2232",
   "metadata": {},
   "outputs": [],
   "source": [
    "l = [12,45,77,888]"
   ]
  },
  {
   "cell_type": "code",
   "execution_count": 13,
   "id": "4dd75048",
   "metadata": {},
   "outputs": [
    {
     "name": "stdout",
     "output_type": "stream",
     "text": [
      "The sum is \n",
      "\n"
     ]
    },
    {
     "data": {
      "text/plain": [
       "1022"
      ]
     },
     "execution_count": 13,
     "metadata": {},
     "output_type": "execute_result"
    }
   ],
   "source": [
    "sum(l)"
   ]
  },
  {
   "cell_type": "markdown",
   "id": "31fb4db1",
   "metadata": {},
   "source": [
    "# 2.\tWrite a Python Program to find largest element in an array?"
   ]
  },
  {
   "cell_type": "code",
   "execution_count": 14,
   "id": "624e9d6f",
   "metadata": {},
   "outputs": [],
   "source": [
    "def largest(l):\n",
    "    return max(l)"
   ]
  },
  {
   "cell_type": "code",
   "execution_count": 15,
   "id": "556ef599",
   "metadata": {},
   "outputs": [
    {
     "data": {
      "text/plain": [
       "888"
      ]
     },
     "execution_count": 15,
     "metadata": {},
     "output_type": "execute_result"
    }
   ],
   "source": [
    "largest(l)"
   ]
  },
  {
   "cell_type": "markdown",
   "id": "730a00a7",
   "metadata": {},
   "source": [
    "# 3.\tWrite a Python Program for array rotation?"
   ]
  },
  {
   "cell_type": "code",
   "execution_count": 16,
   "id": "4598172b",
   "metadata": {},
   "outputs": [],
   "source": [
    "l = [12,45,88,\"aryan\",\"ineuron\"]"
   ]
  },
  {
   "cell_type": "code",
   "execution_count": 17,
   "id": "2a58944f",
   "metadata": {},
   "outputs": [
    {
     "data": {
      "text/plain": [
       "['ineuron', 'aryan', 88, 45, 12]"
      ]
     },
     "execution_count": 17,
     "metadata": {},
     "output_type": "execute_result"
    }
   ],
   "source": [
    "l[::-1]"
   ]
  },
  {
   "cell_type": "code",
   "execution_count": 20,
   "id": "25f7bf51",
   "metadata": {},
   "outputs": [],
   "source": [
    "def rotation(l):\n",
    "    print(\"The rotated list is represented below :\\n\")\n",
    "    return l[::-1]"
   ]
  },
  {
   "cell_type": "code",
   "execution_count": 21,
   "id": "3e803d5e",
   "metadata": {},
   "outputs": [
    {
     "name": "stdout",
     "output_type": "stream",
     "text": [
      "The rotated list is represented below :\n",
      "\n"
     ]
    },
    {
     "data": {
      "text/plain": [
       "['ineuron', 'aryan', 88, 45, 12]"
      ]
     },
     "execution_count": 21,
     "metadata": {},
     "output_type": "execute_result"
    }
   ],
   "source": [
    "rotation(l)"
   ]
  },
  {
   "cell_type": "markdown",
   "id": "4b574fb1",
   "metadata": {},
   "source": [
    "# 4.\tWrite a Python Program to Split the array and add the first part to the end?"
   ]
  },
  {
   "cell_type": "code",
   "execution_count": null,
   "id": "d66034e9",
   "metadata": {},
   "outputs": [],
   "source": []
  },
  {
   "cell_type": "code",
   "execution_count": 29,
   "id": "467bec65",
   "metadata": {},
   "outputs": [],
   "source": [
    "l = [56,34,55,66,12,445]\n",
    "j = 1"
   ]
  },
  {
   "cell_type": "code",
   "execution_count": 30,
   "id": "1576d3ac",
   "metadata": {},
   "outputs": [],
   "source": [
    "def split_add(l):\n",
    "    j = 1\n",
    "    split = int(input(\"Enter the index , where you want to split & add it to the end\\n\"))\n",
    "    while(j<=split+1):\n",
    "        temp = l[0]\n",
    "        for i in range(0,len(l)-1):\n",
    "            l[i] = l[i+1]\n",
    "        else:\n",
    "            l[len(l)-1] = temp\n",
    "            print(l)\n",
    "        j+=1"
   ]
  },
  {
   "cell_type": "code",
   "execution_count": 31,
   "id": "fe3c8d6e",
   "metadata": {},
   "outputs": [
    {
     "name": "stdout",
     "output_type": "stream",
     "text": [
      "Enter the index , where you want to split & add it to the end\n",
      "4\n",
      "[34, 55, 66, 12, 445, 56]\n",
      "[55, 66, 12, 445, 56, 34]\n",
      "[66, 12, 445, 56, 34, 55]\n",
      "[12, 445, 56, 34, 55, 66]\n",
      "[445, 56, 34, 55, 66, 12]\n"
     ]
    }
   ],
   "source": [
    "split_add(l)"
   ]
  },
  {
   "cell_type": "markdown",
   "id": "34f1d231",
   "metadata": {},
   "source": [
    "# 5.\tWrite a Python Program to check if given array is Monotonic?"
   ]
  },
  {
   "cell_type": "code",
   "execution_count": 28,
   "id": "a8401255",
   "metadata": {},
   "outputs": [],
   "source": [
    "##monotonic means , either strictly increasing or strictly decreasing !"
   ]
  },
  {
   "cell_type": "code",
   "execution_count": 32,
   "id": "6ce62ca3",
   "metadata": {},
   "outputs": [],
   "source": [
    "l = [23,45,77,98,239,5]"
   ]
  },
  {
   "cell_type": "code",
   "execution_count": 33,
   "id": "64f29dff",
   "metadata": {},
   "outputs": [],
   "source": [
    "i = 0\n",
    "def monotonic(l):\n",
    "    if(l[i+1] > l[i]):\n",
    "        j = i+1\n",
    "        for k in range(j , len(l)-1):\n",
    "            if(l[k+1]>l[k]):\n",
    "                continue\n",
    "            else:\n",
    "                return \"Not Monotonic !\"\n",
    "        else :\n",
    "            return \"Its Monotonic !\"\n",
    "    else:\n",
    "        j = i+1\n",
    "        for k in range(j , len(l)-1):\n",
    "            if(l[k]>l[k+1]):\n",
    "                continue\n",
    "            else:\n",
    "                return \"Not Monotonic !\"\n",
    "        else :\n",
    "            return \"Its Monotonic \"\n",
    "        "
   ]
  },
  {
   "cell_type": "code",
   "execution_count": 34,
   "id": "0f542c85",
   "metadata": {},
   "outputs": [
    {
     "data": {
      "text/plain": [
       "'Not Monotonic !'"
      ]
     },
     "execution_count": 34,
     "metadata": {},
     "output_type": "execute_result"
    }
   ],
   "source": [
    "monotonic(l)"
   ]
  },
  {
   "cell_type": "code",
   "execution_count": 35,
   "id": "c4a03b16",
   "metadata": {},
   "outputs": [],
   "source": [
    "l = [45,21,9,677]"
   ]
  },
  {
   "cell_type": "code",
   "execution_count": 36,
   "id": "2515fd18",
   "metadata": {},
   "outputs": [
    {
     "data": {
      "text/plain": [
       "'Not Monotonic !'"
      ]
     },
     "execution_count": 36,
     "metadata": {},
     "output_type": "execute_result"
    }
   ],
   "source": [
    "monotonic(l)"
   ]
  },
  {
   "cell_type": "code",
   "execution_count": 37,
   "id": "fb6c53d2",
   "metadata": {},
   "outputs": [],
   "source": [
    "l = [1,2,3,4]"
   ]
  },
  {
   "cell_type": "code",
   "execution_count": 38,
   "id": "7ec1e983",
   "metadata": {},
   "outputs": [
    {
     "data": {
      "text/plain": [
       "'Its Monotonic !'"
      ]
     },
     "execution_count": 38,
     "metadata": {},
     "output_type": "execute_result"
    }
   ],
   "source": [
    "monotonic(l)"
   ]
  },
  {
   "cell_type": "code",
   "execution_count": 39,
   "id": "ae40d87e",
   "metadata": {},
   "outputs": [],
   "source": [
    "l = [9,8,7,6]"
   ]
  },
  {
   "cell_type": "code",
   "execution_count": 40,
   "id": "4ae82e2a",
   "metadata": {},
   "outputs": [
    {
     "data": {
      "text/plain": [
       "'Its Monotonic '"
      ]
     },
     "execution_count": 40,
     "metadata": {},
     "output_type": "execute_result"
    }
   ],
   "source": [
    "monotonic(l)"
   ]
  },
  {
   "cell_type": "code",
   "execution_count": null,
   "id": "94a214bc",
   "metadata": {},
   "outputs": [],
   "source": []
  }
 ],
 "metadata": {
  "kernelspec": {
   "display_name": "Python 3 (ipykernel)",
   "language": "python",
   "name": "python3"
  },
  "language_info": {
   "codemirror_mode": {
    "name": "ipython",
    "version": 3
   },
   "file_extension": ".py",
   "mimetype": "text/x-python",
   "name": "python",
   "nbconvert_exporter": "python",
   "pygments_lexer": "ipython3",
   "version": "3.9.12"
  }
 },
 "nbformat": 4,
 "nbformat_minor": 5
}
