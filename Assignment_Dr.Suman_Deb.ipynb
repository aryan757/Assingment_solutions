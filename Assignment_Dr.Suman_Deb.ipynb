{
 "cells": [
  {
   "cell_type": "code",
   "execution_count": 1,
   "id": "e7961ee7",
   "metadata": {},
   "outputs": [],
   "source": [
    "import numpy as np\n",
    "import sklearn\n",
    "from sklearn import preprocessing"
   ]
  },
  {
   "cell_type": "code",
   "execution_count": 2,
   "id": "cb459218",
   "metadata": {},
   "outputs": [],
   "source": [
    "data = np.array([[3.2, -3.0, 8.9],\n",
    "                [-8.6, 7.6, 3.7],\n",
    "                [6.2, -5.6, 5.6],\n",
    "                [1.3, 4.1, -3.3]])"
   ]
  },
  {
   "cell_type": "code",
   "execution_count": 3,
   "id": "1512ac15",
   "metadata": {},
   "outputs": [
    {
     "name": "stdout",
     "output_type": "stream",
     "text": [
      "nBinarized data:n [[1. 0. 1.]\n",
      " [0. 1. 1.]\n",
      " [1. 0. 1.]\n",
      " [1. 1. 0.]]\n"
     ]
    }
   ],
   "source": [
    "binarized_data = preprocessing.Binarizer(threshold = 0.5).transform(data)\n",
    "print(\"nBinarized data:n\", binarized_data)"
   ]
  },
  {
   "cell_type": "code",
   "execution_count": 4,
   "id": "dc699879",
   "metadata": {},
   "outputs": [],
   "source": [
    "Mean = [ 0.525   ,    0.775    ,  3.725 ]\n",
    "Std_deviation = [ 5.55039413 , 5.303949 , 4.4622724 ]"
   ]
  },
  {
   "cell_type": "code",
   "execution_count": 5,
   "id": "da9da8fd",
   "metadata": {},
   "outputs": [
    {
     "name": "stdout",
     "output_type": "stream",
     "text": [
      "Mean = [-1.38777878e-17 -2.77555756e-17 -5.55111512e-17]\n",
      "Std deviation = [1. 1. 1.]\n"
     ]
    }
   ],
   "source": [
    "data_scaled = preprocessing.scale(data)\n",
    "print(\"Mean =\", data_scaled.mean(axis=0))\n",
    "print(\"Std deviation =\", data_scaled.std(axis = 0))"
   ]
  },
  {
   "cell_type": "code",
   "execution_count": 6,
   "id": "c8e34696",
   "metadata": {},
   "outputs": [
    {
     "name": "stdout",
     "output_type": "stream",
     "text": [
      "nMin max scaled data:n [[0.7972973  0.1969697  1.        ]\n",
      " [0.         1.         0.57377049]\n",
      " [1.         0.         0.7295082 ]\n",
      " [0.66891892 0.73484848 0.        ]]\n"
     ]
    }
   ],
   "source": [
    "data_scaler_minmax = preprocessing.MinMaxScaler(feature_range=(0,1))\n",
    "data_scaled_minmax = data_scaler_minmax.fit_transform(data)\n",
    "print (\"nMin max scaled data:n\", data_scaled_minmax)"
   ]
  },
  {
   "cell_type": "code",
   "execution_count": 7,
   "id": "29678b60",
   "metadata": {},
   "outputs": [],
   "source": [
    "## L1 Normalisations (# the sum of the absolute values is always up to 1 in each row)"
   ]
  },
  {
   "cell_type": "code",
   "execution_count": 8,
   "id": "7f062c65",
   "metadata": {},
   "outputs": [
    {
     "name": "stdout",
     "output_type": "stream",
     "text": [
      "nL1 normalized data:n [[ 0.21192053 -0.1986755   0.58940397]\n",
      " [-0.4321608   0.38190955  0.18592965]\n",
      " [ 0.35632184 -0.32183908  0.32183908]\n",
      " [ 0.14942529  0.47126437 -0.37931034]]\n"
     ]
    }
   ],
   "source": [
    "# Normalize data\n",
    "l1_normalized_data = preprocessing.normalize(data, norm = 'l1')\n",
    "print(\"nL1 normalized data:n\", l1_normalized_data)"
   ]
  },
  {
   "cell_type": "code",
   "execution_count": 9,
   "id": "778b12d5",
   "metadata": {},
   "outputs": [],
   "source": [
    "## L2 Normalisation (# the sum of the squares is always up to 1 in each row.)"
   ]
  },
  {
   "cell_type": "code",
   "execution_count": 10,
   "id": "70130dc5",
   "metadata": {},
   "outputs": [
    {
     "name": "stdout",
     "output_type": "stream",
     "text": [
      "nL2 normalized data:n [[ 0.32250921 -0.30235238  0.89697873]\n",
      " [-0.71318354  0.63025523  0.30683478]\n",
      " [ 0.61643499 -0.55677999  0.55677999]\n",
      " [ 0.2397969   0.75628252 -0.6087152 ]]\n"
     ]
    }
   ],
   "source": [
    "# Normalize data\n",
    "l2_normalized_data = preprocessing.normalize(data, norm = 'l2')\n",
    "print(\"nL2 normalized data:n\", l2_normalized_data)"
   ]
  },
  {
   "cell_type": "code",
   "execution_count": 11,
   "id": "dd335e55",
   "metadata": {},
   "outputs": [],
   "source": [
    "##Labelling of DATA !!"
   ]
  },
  {
   "cell_type": "code",
   "execution_count": 12,
   "id": "fc3215f0",
   "metadata": {},
   "outputs": [],
   "source": [
    "# Sample input labels\n",
    "i_labels = ['orange','white','purple','maroon','blue','florocent','black']"
   ]
  },
  {
   "cell_type": "code",
   "execution_count": 13,
   "id": "148d766f",
   "metadata": {},
   "outputs": [
    {
     "data": {
      "text/plain": [
       "LabelEncoder()"
      ]
     },
     "execution_count": 13,
     "metadata": {},
     "output_type": "execute_result"
    }
   ],
   "source": [
    "# Creating the label encoder\n",
    "enc = preprocessing.LabelEncoder()\n",
    "enc.fit(i_labels)"
   ]
  },
  {
   "cell_type": "code",
   "execution_count": null,
   "id": "bd8ec340",
   "metadata": {},
   "outputs": [],
   "source": []
  },
  {
   "cell_type": "code",
   "execution_count": 14,
   "id": "2b297eb5",
   "metadata": {},
   "outputs": [],
   "source": [
    "label_encoder = preprocessing.LabelEncoder()"
   ]
  },
  {
   "cell_type": "code",
   "execution_count": 15,
   "id": "391948a1",
   "metadata": {},
   "outputs": [
    {
     "name": "stdout",
     "output_type": "stream",
     "text": [
      "nLabels = ['yellow', 'green', 'white']\n"
     ]
    }
   ],
   "source": [
    "# encoding a set of labels\n",
    "t_labels = ['yellow','green','white']\n",
    "enc_values = label_encoder.fit_transform(t_labels)\n",
    "print(\"nLabels =\", t_labels)"
   ]
  },
  {
   "cell_type": "code",
   "execution_count": 16,
   "id": "c06891fa",
   "metadata": {},
   "outputs": [
    {
     "name": "stdout",
     "output_type": "stream",
     "text": [
      "Encoded values = [2, 0, 1]\n"
     ]
    }
   ],
   "source": [
    "print(\"Encoded values =\", list(enc_values))"
   ]
  },
  {
   "cell_type": "code",
   "execution_count": 43,
   "id": "5df683b2",
   "metadata": {},
   "outputs": [
    {
     "name": "stdout",
     "output_type": "stream",
     "text": [
      "nEncoded values = ['yellow' 'green' 'white']\n"
     ]
    }
   ],
   "source": [
    "# decoding a set of values\n",
    "enc_values = [2,0,1]\n",
    "dec_list = label_encoder.inverse_transform(enc_values)\n",
    "print(\"nEncoded values =\", dec_list)"
   ]
  },
  {
   "cell_type": "code",
   "execution_count": 17,
   "id": "173a0474",
   "metadata": {},
   "outputs": [],
   "source": [
    "##Step for building a Classifier in python !!"
   ]
  },
  {
   "cell_type": "code",
   "execution_count": 19,
   "id": "39446609",
   "metadata": {},
   "outputs": [],
   "source": [
    "import sklearn"
   ]
  },
  {
   "cell_type": "code",
   "execution_count": 20,
   "id": "12c5948e",
   "metadata": {},
   "outputs": [],
   "source": [
    "from sklearn.datasets import load_breast_cancer"
   ]
  },
  {
   "cell_type": "code",
   "execution_count": 21,
   "id": "717512c8",
   "metadata": {},
   "outputs": [],
   "source": [
    "data = load_breast_cancer()"
   ]
  },
  {
   "cell_type": "code",
   "execution_count": 23,
   "id": "dc8a6852",
   "metadata": {},
   "outputs": [
    {
     "data": {
      "text/plain": [
       "sklearn.utils.Bunch"
      ]
     },
     "execution_count": 23,
     "metadata": {},
     "output_type": "execute_result"
    }
   ],
   "source": [
    "type(data)"
   ]
  },
  {
   "cell_type": "code",
   "execution_count": 24,
   "id": "12deddca",
   "metadata": {},
   "outputs": [],
   "source": [
    "l_names = data['target_names']\n",
    "labels = data['target']\n",
    "f_names = data['feature_names']\n",
    "features = data['data']"
   ]
  },
  {
   "cell_type": "code",
   "execution_count": 25,
   "id": "05e548fb",
   "metadata": {},
   "outputs": [
    {
     "name": "stdout",
     "output_type": "stream",
     "text": [
      "['malignant' 'benign']\n"
     ]
    }
   ],
   "source": [
    "print(l_names)"
   ]
  },
  {
   "cell_type": "code",
   "execution_count": 26,
   "id": "88dad657",
   "metadata": {},
   "outputs": [
    {
     "name": "stdout",
     "output_type": "stream",
     "text": [
      "0\n"
     ]
    },
    {
     "data": {
      "text/plain": [
       "0"
      ]
     },
     "execution_count": 26,
     "metadata": {},
     "output_type": "execute_result"
    }
   ],
   "source": [
    "print(labels[0])\n",
    "0"
   ]
  },
  {
   "cell_type": "code",
   "execution_count": 27,
   "id": "01f0a3c6",
   "metadata": {},
   "outputs": [
    {
     "name": "stdout",
     "output_type": "stream",
     "text": [
      "mean radius\n"
     ]
    }
   ],
   "source": [
    "print(f_names[0])"
   ]
  },
  {
   "cell_type": "code",
   "execution_count": 30,
   "id": "ea3eef41",
   "metadata": {},
   "outputs": [
    {
     "name": "stdout",
     "output_type": "stream",
     "text": [
      "[1.799e+01 1.038e+01 1.228e+02 1.001e+03 1.184e-01 2.776e-01 3.001e-01\n",
      " 1.471e-01 2.419e-01 7.871e-02 1.095e+00 9.053e-01 8.589e+00 1.534e+02\n",
      " 6.399e-03 4.904e-02 5.373e-02 1.587e-02 3.003e-02 6.193e-03 2.538e+01\n",
      " 1.733e+01 1.846e+02 2.019e+03 1.622e-01 6.656e-01 7.119e-01 2.654e-01\n",
      " 4.601e-01 1.189e-01]\n"
     ]
    }
   ],
   "source": [
    "print(features[0])"
   ]
  },
  {
   "cell_type": "code",
   "execution_count": 31,
   "id": "947d9b10",
   "metadata": {},
   "outputs": [
    {
     "name": "stdout",
     "output_type": "stream",
     "text": [
      "[2.057e+01 1.777e+01 1.329e+02 1.326e+03 8.474e-02 7.864e-02 8.690e-02\n",
      " 7.017e-02 1.812e-01 5.667e-02 5.435e-01 7.339e-01 3.398e+00 7.408e+01\n",
      " 5.225e-03 1.308e-02 1.860e-02 1.340e-02 1.389e-02 3.532e-03 2.499e+01\n",
      " 2.341e+01 1.588e+02 1.956e+03 1.238e-01 1.866e-01 2.416e-01 1.860e-01\n",
      " 2.750e-01 8.902e-02]\n"
     ]
    }
   ],
   "source": [
    "print(features[1])"
   ]
  },
  {
   "cell_type": "code",
   "execution_count": 32,
   "id": "8eb17b34",
   "metadata": {},
   "outputs": [],
   "source": [
    "##splitting the data!"
   ]
  },
  {
   "cell_type": "code",
   "execution_count": 33,
   "id": "c3c607fe",
   "metadata": {},
   "outputs": [],
   "source": [
    "from sklearn.model_selection import train_test_split"
   ]
  },
  {
   "cell_type": "code",
   "execution_count": 34,
   "id": "2113f80e",
   "metadata": {},
   "outputs": [],
   "source": [
    "train, test, train_labels, test_labels = train_test_split(features,labels,test_size = 0.40, random_state = 42)\n"
   ]
  },
  {
   "cell_type": "code",
   "execution_count": 35,
   "id": "8053124b",
   "metadata": {},
   "outputs": [],
   "source": [
    "##building model !"
   ]
  },
  {
   "cell_type": "code",
   "execution_count": 36,
   "id": "63ace050",
   "metadata": {},
   "outputs": [],
   "source": [
    "from sklearn.naive_bayes import GaussianNB\n"
   ]
  },
  {
   "cell_type": "code",
   "execution_count": 37,
   "id": "d3bf4b53",
   "metadata": {},
   "outputs": [],
   "source": [
    "gnb = GaussianNB()"
   ]
  },
  {
   "cell_type": "code",
   "execution_count": 38,
   "id": "50fd6056",
   "metadata": {},
   "outputs": [],
   "source": [
    "model = gnb.fit(train, train_labels)"
   ]
  },
  {
   "cell_type": "code",
   "execution_count": 39,
   "id": "9078b090",
   "metadata": {},
   "outputs": [
    {
     "name": "stdout",
     "output_type": "stream",
     "text": [
      "[1 0 0 1 1 0 0 0 1 1 1 0 1 0 1 0 1 1 1 0 1 1 0 1 1 1 1 1 1 0 1 1 1 1 1 1 0\n",
      " 1 0 1 1 0 1 1 1 1 1 1 1 1 0 0 1 1 1 1 1 0 0 1 1 0 0 1 1 1 0 0 1 1 0 0 1 0\n",
      " 1 1 1 1 1 1 0 1 1 0 0 0 0 0 1 1 1 1 1 1 1 1 0 0 1 0 0 1 0 0 1 1 1 0 1 1 0\n",
      " 1 1 0 0 0 1 1 1 0 0 1 1 0 1 0 0 1 1 0 0 0 1 1 1 0 1 1 0 0 1 0 1 1 0 1 0 0\n",
      " 1 1 1 1 1 1 1 0 0 1 1 1 1 1 1 1 1 1 1 1 1 0 1 1 1 0 1 1 0 1 1 1 1 1 1 0 0\n",
      " 0 1 1 0 1 0 1 1 1 1 0 1 1 0 1 1 1 0 1 0 0 1 1 1 1 1 1 1 1 0 1 1 1 1 1 0 1\n",
      " 0 0 1 1 0 1]\n"
     ]
    }
   ],
   "source": [
    "pred = gnb.predict(test)\n",
    "print(pred)"
   ]
  },
  {
   "cell_type": "code",
   "execution_count": 42,
   "id": "34f3fbb8",
   "metadata": {},
   "outputs": [
    {
     "name": "stdout",
     "output_type": "stream",
     "text": [
      "0.9517543859649122\n"
     ]
    }
   ],
   "source": [
    "from sklearn.metrics import accuracy_score\n",
    "print(accuracy_score(test_labels,pred))\n"
   ]
  },
  {
   "cell_type": "code",
   "execution_count": 43,
   "id": "61e7c095",
   "metadata": {},
   "outputs": [],
   "source": [
    "##Support vector machines !!"
   ]
  },
  {
   "cell_type": "code",
   "execution_count": 44,
   "id": "8b9d14fd",
   "metadata": {},
   "outputs": [],
   "source": [
    "import pandas as pd\n",
    "import numpy as np\n",
    "from sklearn import svm, datasets\n",
    "import matplotlib.pyplot as plt"
   ]
  },
  {
   "cell_type": "code",
   "execution_count": 45,
   "id": "e3eddd66",
   "metadata": {},
   "outputs": [],
   "source": [
    "iris_data = datasets.load_iris()"
   ]
  },
  {
   "cell_type": "code",
   "execution_count": 46,
   "id": "e34717a9",
   "metadata": {},
   "outputs": [],
   "source": [
    "X = iris_data.data[:, :2]\n",
    "y = iris_data.target"
   ]
  },
  {
   "cell_type": "code",
   "execution_count": null,
   "id": "38b1e39e",
   "metadata": {},
   "outputs": [],
   "source": []
  }
 ],
 "metadata": {
  "kernelspec": {
   "display_name": "Python 3 (ipykernel)",
   "language": "python",
   "name": "python3"
  },
  "language_info": {
   "codemirror_mode": {
    "name": "ipython",
    "version": 3
   },
   "file_extension": ".py",
   "mimetype": "text/x-python",
   "name": "python",
   "nbconvert_exporter": "python",
   "pygments_lexer": "ipython3",
   "version": "3.9.12"
  }
 },
 "nbformat": 4,
 "nbformat_minor": 5
}
